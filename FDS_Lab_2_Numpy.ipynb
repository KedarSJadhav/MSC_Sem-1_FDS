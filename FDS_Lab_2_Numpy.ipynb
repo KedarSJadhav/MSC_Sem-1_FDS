{
  "nbformat": 4,
  "nbformat_minor": 0,
  "metadata": {
    "colab": {
      "name": "FDS_Lab_2_Numpy.ipynb",
      "provenance": [],
      "include_colab_link": true
    },
    "kernelspec": {
      "name": "python3",
      "display_name": "Python 3"
    },
    "language_info": {
      "name": "python"
    }
  },
  "cells": [
    {
      "cell_type": "markdown",
      "metadata": {
        "id": "view-in-github",
        "colab_type": "text"
      },
      "source": [
        "<a href=\"https://colab.research.google.com/github/KedarSJadhav/MSC_Sem-1_FDS/blob/main/FDS_Lab_2_Numpy.ipynb\" target=\"_parent\"><img src=\"https://colab.research.google.com/assets/colab-badge.svg\" alt=\"Open In Colab\"/></a>"
      ]
    },
    {
      "cell_type": "code",
      "metadata": {
        "id": "WSSvnsp-qho7"
      },
      "source": [
        "import numpy as np"
      ],
      "execution_count": null,
      "outputs": []
    },
    {
      "cell_type": "code",
      "metadata": {
        "id": "2FT23XZjq7Iq"
      },
      "source": [
        "list1=[]"
      ],
      "execution_count": null,
      "outputs": []
    },
    {
      "cell_type": "code",
      "metadata": {
        "colab": {
          "base_uri": "https://localhost:8080/"
        },
        "id": "mnjxn0YKq94z",
        "outputId": "88e14179-7007-4acb-a8b0-869b93a2734c"
      },
      "source": [
        "#Empty list\n",
        "list1"
      ],
      "execution_count": null,
      "outputs": [
        {
          "output_type": "execute_result",
          "data": {
            "text/plain": [
              "[]"
            ]
          },
          "metadata": {},
          "execution_count": 4
        }
      ]
    },
    {
      "cell_type": "code",
      "metadata": {
        "colab": {
          "base_uri": "https://localhost:8080/"
        },
        "id": "P0ndxJhdq_oL",
        "outputId": "c770fbf7-00bf-499d-f2ff-25e3fbb48aec"
      },
      "source": [
        "type(list1)"
      ],
      "execution_count": null,
      "outputs": [
        {
          "output_type": "execute_result",
          "data": {
            "text/plain": [
              "list"
            ]
          },
          "metadata": {},
          "execution_count": 5
        }
      ]
    },
    {
      "cell_type": "code",
      "metadata": {
        "id": "d1qdDBVzrQhB"
      },
      "source": [
        "#Add value 0-9\n",
        "list2 = list(range(10))"
      ],
      "execution_count": null,
      "outputs": []
    },
    {
      "cell_type": "code",
      "metadata": {
        "colab": {
          "base_uri": "https://localhost:8080/"
        },
        "id": "YIYBJ_S2rXpa",
        "outputId": "b3a60589-08c7-4d79-9598-8729fb76cb83"
      },
      "source": [
        "list2"
      ],
      "execution_count": null,
      "outputs": [
        {
          "output_type": "execute_result",
          "data": {
            "text/plain": [
              "[0, 1, 2, 3, 4, 5, 6, 7, 8, 9]"
            ]
          },
          "metadata": {},
          "execution_count": 9
        }
      ]
    },
    {
      "cell_type": "code",
      "metadata": {
        "id": "N5_0uQSqrqSL"
      },
      "source": [
        "list3 = [str(c) for c in list2]"
      ],
      "execution_count": null,
      "outputs": []
    },
    {
      "cell_type": "code",
      "metadata": {
        "colab": {
          "base_uri": "https://localhost:8080/"
        },
        "id": "HpIOYS_druFa",
        "outputId": "10d6e2cc-5c31-4ab3-94e7-bf855c311d8d"
      },
      "source": [
        "list3"
      ],
      "execution_count": null,
      "outputs": [
        {
          "output_type": "execute_result",
          "data": {
            "text/plain": [
              "['0', '1', '2', '3', '4', '5', '6', '7', '8', '9']"
            ]
          },
          "metadata": {},
          "execution_count": 13
        }
      ]
    },
    {
      "cell_type": "markdown",
      "metadata": {
        "id": "eGVxEhsfskFh"
      },
      "source": [
        "**List with mix data type**"
      ]
    },
    {
      "cell_type": "code",
      "metadata": {
        "id": "7yUdbjSssL9j"
      },
      "source": [
        "list4 = [1,1.23,'c','Aman',True]"
      ],
      "execution_count": null,
      "outputs": []
    },
    {
      "cell_type": "code",
      "metadata": {
        "colab": {
          "base_uri": "https://localhost:8080/"
        },
        "id": "x9Ic1luCsczq",
        "outputId": "85d18f37-9ca2-453b-9497-ad58405ad89b"
      },
      "source": [
        "list4"
      ],
      "execution_count": null,
      "outputs": [
        {
          "output_type": "execute_result",
          "data": {
            "text/plain": [
              "[1, 1.23, 'c', 'Aman', True]"
            ]
          },
          "metadata": {},
          "execution_count": 15
        }
      ]
    },
    {
      "cell_type": "code",
      "metadata": {
        "colab": {
          "base_uri": "https://localhost:8080/"
        },
        "id": "UO8womz4sqnD",
        "outputId": "427be084-ebc9-4f3c-ff3e-3f3763d3d19b"
      },
      "source": [
        "type(list4)"
      ],
      "execution_count": null,
      "outputs": [
        {
          "output_type": "execute_result",
          "data": {
            "text/plain": [
              "list"
            ]
          },
          "metadata": {},
          "execution_count": 16
        }
      ]
    },
    {
      "cell_type": "code",
      "metadata": {
        "colab": {
          "base_uri": "https://localhost:8080/"
        },
        "id": "rktNmFqys6FM",
        "outputId": "b014b296-997e-4d9d-ac51-592a165d2b0d"
      },
      "source": [
        "#Display Data type of each elements in list\n",
        "[type(item) for item in list4]"
      ],
      "execution_count": null,
      "outputs": [
        {
          "output_type": "execute_result",
          "data": {
            "text/plain": [
              "[int, float, str, str, bool]"
            ]
          },
          "metadata": {},
          "execution_count": 18
        }
      ]
    },
    {
      "cell_type": "code",
      "metadata": {
        "colab": {
          "base_uri": "https://localhost:8080/"
        },
        "id": "FICULE9WtndK",
        "outputId": "febf0138-2739-4c9c-a697-afe65c088bb4"
      },
      "source": [
        "#Paython array\n",
        "import array as ar\n",
        "L= list(range(10))\n",
        "A= ar.array('i',L)\n",
        "A\n",
        "#i represent contents are integer"
      ],
      "execution_count": null,
      "outputs": [
        {
          "output_type": "execute_result",
          "data": {
            "text/plain": [
              "array('i', [0, 1, 2, 3, 4, 5, 6, 7, 8, 9])"
            ]
          },
          "metadata": {},
          "execution_count": 20
        }
      ]
    },
    {
      "cell_type": "code",
      "metadata": {
        "colab": {
          "base_uri": "https://localhost:8080/"
        },
        "id": "WROIMUGOt8Nu",
        "outputId": "615f7d3a-3670-4929-dc77-8dd62a619ab1"
      },
      "source": [
        "#numpy array\n",
        "import numpy as np\n",
        "#integer array\n",
        "np.array([3,2,1,4])"
      ],
      "execution_count": null,
      "outputs": [
        {
          "output_type": "execute_result",
          "data": {
            "text/plain": [
              "array([3, 2, 1, 4])"
            ]
          },
          "metadata": {},
          "execution_count": 22
        }
      ]
    },
    {
      "cell_type": "code",
      "metadata": {
        "colab": {
          "base_uri": "https://localhost:8080/"
        },
        "id": "KsVG1BfJunJW",
        "outputId": "e7d1c2ec-77b3-4db4-cf12-b67eec52a87d"
      },
      "source": [
        "#Automatic/implicit conversion of values/elements\n",
        "np.array([10.1,4,3,5])"
      ],
      "execution_count": null,
      "outputs": [
        {
          "output_type": "execute_result",
          "data": {
            "text/plain": [
              "array([10.1,  4. ,  3. ,  5. ])"
            ]
          },
          "metadata": {},
          "execution_count": 23
        }
      ]
    },
    {
      "cell_type": "code",
      "metadata": {
        "colab": {
          "base_uri": "https://localhost:8080/"
        },
        "id": "xXTxDuMLvXCW",
        "outputId": "98839ce8-b463-4269-d501-8c89788ce77f"
      },
      "source": [
        "#Explicitly specify the data types of array\n",
        "np.array([1,2,3,4],dtype= 'float32')"
      ],
      "execution_count": null,
      "outputs": [
        {
          "output_type": "execute_result",
          "data": {
            "text/plain": [
              "array([1., 2., 3., 4.], dtype=float32)"
            ]
          },
          "metadata": {},
          "execution_count": 24
        }
      ]
    },
    {
      "cell_type": "code",
      "metadata": {
        "colab": {
          "base_uri": "https://localhost:8080/"
        },
        "id": "IZnCm60DvwMO",
        "outputId": "29ee07ca-0c6a-43c2-f2c9-c19a49f4812a"
      },
      "source": [
        "#Multi dimensional array with nested list\n",
        "#[[, ,], [, ,], [, ,]]\n",
        "np.array([range(i,i+3) for i in [2,4,6]])"
      ],
      "execution_count": null,
      "outputs": [
        {
          "output_type": "execute_result",
          "data": {
            "text/plain": [
              "array([[2, 3, 4],\n",
              "       [4, 5, 6],\n",
              "       [6, 7, 8]])"
            ]
          },
          "metadata": {},
          "execution_count": 25
        }
      ]
    },
    {
      "cell_type": "code",
      "metadata": {
        "colab": {
          "base_uri": "https://localhost:8080/"
        },
        "id": "uhslD9XWxBRE",
        "outputId": "4b16315d-48b9-42f3-9615-5a2d23606712"
      },
      "source": [
        "#Create a length-10 interger array filled with zerO\n",
        "np.zeros(10, dtype =int)"
      ],
      "execution_count": null,
      "outputs": [
        {
          "output_type": "execute_result",
          "data": {
            "text/plain": [
              "array([0, 0, 0, 0, 0, 0, 0, 0, 0, 0])"
            ]
          },
          "metadata": {},
          "execution_count": 26
        }
      ]
    },
    {
      "cell_type": "code",
      "metadata": {
        "colab": {
          "base_uri": "https://localhost:8080/"
        },
        "id": "9ChVcdqYxiG2",
        "outputId": "359023b3-b7ee-481d-b98e-e00b3b086c0f"
      },
      "source": [
        "# Create two dimensioanl filled with zerO with Float data types\n",
        "np.zeros((2,5), dtype =float)"
      ],
      "execution_count": null,
      "outputs": [
        {
          "output_type": "execute_result",
          "data": {
            "text/plain": [
              "array([[0., 0., 0., 0., 0.],\n",
              "       [0., 0., 0., 0., 0.]])"
            ]
          },
          "metadata": {},
          "execution_count": 31
        }
      ]
    },
    {
      "cell_type": "code",
      "metadata": {
        "colab": {
          "base_uri": "https://localhost:8080/"
        },
        "id": "qRCs5HWSyIqK",
        "outputId": "eaf97489-7560-44be-b871-58ebbfa7e4a2"
      },
      "source": [
        "#Create 3*5 array filled with value 3.14\n",
        "np.full((3,5),3.14)"
      ],
      "execution_count": null,
      "outputs": [
        {
          "output_type": "execute_result",
          "data": {
            "text/plain": [
              "array([[3.14, 3.14, 3.14, 3.14, 3.14],\n",
              "       [3.14, 3.14, 3.14, 3.14, 3.14],\n",
              "       [3.14, 3.14, 3.14, 3.14, 3.14]])"
            ]
          },
          "metadata": {},
          "execution_count": 33
        }
      ]
    },
    {
      "cell_type": "code",
      "metadata": {
        "colab": {
          "base_uri": "https://localhost:8080/"
        },
        "id": "Vhn1wpRUymNU",
        "outputId": "ca8ba6c5-4aa7-45af-aea3-659aadc21c95"
      },
      "source": [
        "#Linear sequence\n",
        "np.arange(0,20,2)"
      ],
      "execution_count": null,
      "outputs": [
        {
          "output_type": "execute_result",
          "data": {
            "text/plain": [
              "array([ 0,  2,  4,  6,  8, 10, 12, 14, 16, 18])"
            ]
          },
          "metadata": {},
          "execution_count": 37
        }
      ]
    },
    {
      "cell_type": "code",
      "metadata": {
        "colab": {
          "base_uri": "https://localhost:8080/"
        },
        "id": "kuM0rBFdy01C",
        "outputId": "15823796-de59-43dd-a861-5a006cd6fed9"
      },
      "source": [
        "np.arange(0,40,3)"
      ],
      "execution_count": null,
      "outputs": [
        {
          "output_type": "execute_result",
          "data": {
            "text/plain": [
              "array([ 0,  3,  6,  9, 12, 15, 18, 21, 24, 27, 30, 33, 36, 39])"
            ]
          },
          "metadata": {},
          "execution_count": 38
        }
      ]
    },
    {
      "cell_type": "code",
      "metadata": {
        "colab": {
          "base_uri": "https://localhost:8080/"
        },
        "id": "QbItqeTJzA4T",
        "outputId": "054aae67-1807-4944-9f92-4f455e638f2f"
      },
      "source": [
        "#0-2 = 4 elements (0.0, 0.66, 1.33, 2.0)\n",
        "#Creation of array of evenly spaced value for given range\n",
        "np.linspace(0,2,4)"
      ],
      "execution_count": null,
      "outputs": [
        {
          "output_type": "execute_result",
          "data": {
            "text/plain": [
              "array([0.        , 0.66666667, 1.33333333, 2.        ])"
            ]
          },
          "metadata": {},
          "execution_count": 45
        }
      ]
    },
    {
      "cell_type": "code",
      "metadata": {
        "colab": {
          "base_uri": "https://localhost:8080/"
        },
        "id": "a5YqMaju0QR7",
        "outputId": "c264c050-1cc1-4fb0-d1e8-9bfcd5109f9c"
      },
      "source": [
        "np.linspace(0,1,10)"
      ],
      "execution_count": null,
      "outputs": [
        {
          "output_type": "execute_result",
          "data": {
            "text/plain": [
              "array([0.        , 0.11111111, 0.22222222, 0.33333333, 0.44444444,\n",
              "       0.55555556, 0.66666667, 0.77777778, 0.88888889, 1.        ])"
            ]
          },
          "metadata": {},
          "execution_count": 46
        }
      ]
    },
    {
      "cell_type": "code",
      "metadata": {
        "colab": {
          "base_uri": "https://localhost:8080/"
        },
        "id": "eA8STgju0WkB",
        "outputId": "4a59fc39-1a2f-4a37-86d6-4de26b3635c8"
      },
      "source": [
        "#Create 3*3 array uniformly distrubuted\n",
        "#random value between (0,1)\n",
        "np.random.random((3,4))"
      ],
      "execution_count": null,
      "outputs": [
        {
          "output_type": "execute_result",
          "data": {
            "text/plain": [
              "array([[0.57719088, 0.64784526, 0.34081539, 0.7382354 ],\n",
              "       [0.49855259, 0.64773421, 0.18503062, 0.8003241 ],\n",
              "       [0.2544468 , 0.08497436, 0.6049854 , 0.40896779]])"
            ]
          },
          "metadata": {},
          "execution_count": 48
        }
      ]
    },
    {
      "cell_type": "code",
      "metadata": {
        "colab": {
          "base_uri": "https://localhost:8080/"
        },
        "id": "3D9MQ9FL0_2T",
        "outputId": "4e24ea9f-bbfe-495d-df3c-d51b98d5e65c"
      },
      "source": [
        "#Create 3*3 array uniformly distrubuted\n",
        "#with mean 0 and standard deviation 1\n",
        "np.random.normal(0,1,(3,3))"
      ],
      "execution_count": null,
      "outputs": [
        {
          "output_type": "execute_result",
          "data": {
            "text/plain": [
              "array([[ 0.32859695,  1.25961338, -1.53921177],\n",
              "       [-1.19417386, -0.45089508, -1.98928765],\n",
              "       [ 0.86853288,  1.37499446,  0.79757441]])"
            ]
          },
          "metadata": {},
          "execution_count": 52
        }
      ]
    },
    {
      "cell_type": "code",
      "metadata": {
        "colab": {
          "base_uri": "https://localhost:8080/"
        },
        "id": "Q0V0w9g61g9U",
        "outputId": "6137df6f-1bed-41be-cf77-c80b649ce298"
      },
      "source": [
        "#Create a 3*3 array of random integer in the of interval(0,10)\n",
        "np.random.randint(0,10, (3,3))"
      ],
      "execution_count": null,
      "outputs": [
        {
          "output_type": "execute_result",
          "data": {
            "text/plain": [
              "array([[6, 0, 8],\n",
              "       [5, 2, 1],\n",
              "       [4, 2, 9]])"
            ]
          },
          "metadata": {},
          "execution_count": 50
        }
      ]
    },
    {
      "cell_type": "code",
      "metadata": {
        "colab": {
          "base_uri": "https://localhost:8080/"
        },
        "id": "5Qrn3lXF169X",
        "outputId": "c4481e28-ef40-4cf8-bb3f-a994cad31d30"
      },
      "source": [
        "#Create 3*3 indentity matrix\n",
        "np.eye(3)"
      ],
      "execution_count": null,
      "outputs": [
        {
          "output_type": "execute_result",
          "data": {
            "text/plain": [
              "array([[1., 0., 0.],\n",
              "       [0., 1., 0.],\n",
              "       [0., 0., 1.]])"
            ]
          },
          "metadata": {},
          "execution_count": 51
        }
      ]
    },
    {
      "cell_type": "code",
      "metadata": {
        "colab": {
          "base_uri": "https://localhost:8080/"
        },
        "id": "CvDXjyuP2LNJ",
        "outputId": "8b510b69-0546-46e2-ab12-1ca58273d76f"
      },
      "source": [
        "#create an uninitialized array with 3 elements\n",
        "np.empty(3)"
      ],
      "execution_count": null,
      "outputs": [
        {
          "output_type": "execute_result",
          "data": {
            "text/plain": [
              "array([1., 1., 1.])"
            ]
          },
          "metadata": {},
          "execution_count": 53
        }
      ]
    },
    {
      "cell_type": "code",
      "metadata": {
        "colab": {
          "base_uri": "https://localhost:8080/"
        },
        "id": "5BQSBXK_2c6J",
        "outputId": "d4a8841e-27ea-49e0-bad2-5fbd9604e4af"
      },
      "source": [
        "np.random.seed(0) # seed for reproducibity\n",
        "\n",
        "x1=np.random.randint(10, size=6) #one dimensional array\n",
        "x1"
      ],
      "execution_count": null,
      "outputs": [
        {
          "output_type": "execute_result",
          "data": {
            "text/plain": [
              "array([5, 0, 3, 3, 7, 9])"
            ]
          },
          "metadata": {},
          "execution_count": 55
        }
      ]
    },
    {
      "cell_type": "code",
      "metadata": {
        "colab": {
          "base_uri": "https://localhost:8080/"
        },
        "id": "JXgpFLzW3BE7",
        "outputId": "4657f55d-f434-4970-9f62-5af5be90c450"
      },
      "source": [
        "# Seed 100  200   5 6 7\n",
        "np.random.seed(100)\n",
        "x2=np.random.randint(200, size=(5,6,7)) #one dimensional array\n",
        "x2"
      ],
      "execution_count": null,
      "outputs": [
        {
          "output_type": "execute_result",
          "data": {
            "text/plain": [
              "array([[[  8,  24,  67, 103,  87,  79, 176],\n",
              "        [138,  94, 180,  98,  53,  66,  14],\n",
              "        [ 34,  24, 143, 107,  60,  58, 144],\n",
              "        [137,  93,  86, 130, 155, 108, 132],\n",
              "        [159, 129, 141, 100,   4,  91, 187],\n",
              "        [ 67, 135,  49, 175, 193,  61,  14]],\n",
              "\n",
              "       [[183, 199,  80,   2, 121, 105, 147],\n",
              "        [ 63, 181,  27,  56, 113, 158, 176],\n",
              "        [ 47, 167, 109,  38, 172,  18, 192],\n",
              "        [184, 162, 181,  17,  72,  13, 106],\n",
              "        [ 30,  17,  53,  68, 178,  91, 181],\n",
              "        [ 78,   0,  13, 185, 106, 131,  70]],\n",
              "\n",
              "       [[131, 138, 188, 131, 105, 176, 180],\n",
              "        [ 43,  36,   5,  71,  38,  94, 170],\n",
              "        [ 84,  95, 114, 119,  76,  33,  58],\n",
              "        [102, 170, 150,   0, 183, 147,  53],\n",
              "        [196, 190,  50, 196, 163, 151,   9],\n",
              "        [176,  21, 153, 182,   6, 165, 102]],\n",
              "\n",
              "       [[122, 116, 186,  39, 107,  51,  30],\n",
              "        [121,  66, 152, 183,  17,  45,  89],\n",
              "        [173,  35,  16,  12,  86, 109,  67],\n",
              "        [ 20, 138,   8, 158, 140, 146,  93],\n",
              "        [119,  92,  44,  57, 127,   0,  73],\n",
              "        [182,  66, 144, 133, 179,  90,  34]],\n",
              "\n",
              "       [[195,  94, 182,  77, 129,  14, 115],\n",
              "        [ 33, 148, 168,  24, 186,  28, 135],\n",
              "        [  2,  63, 113, 130, 145,  74, 181],\n",
              "        [ 30,  67, 156, 165,  82, 145, 138],\n",
              "        [141,  81, 117,  25, 194, 143, 108],\n",
              "        [122,  11, 101,  38, 116,  22,  55]]])"
            ]
          },
          "metadata": {},
          "execution_count": 56
        }
      ]
    },
    {
      "cell_type": "code",
      "metadata": {
        "colab": {
          "base_uri": "https://localhost:8080/"
        },
        "id": "peKqx8eE3g6u",
        "outputId": "3404c573-8b68-4db8-8a8c-d967a295224f"
      },
      "source": [
        "np.random.seed(100)\n",
        "x3=np.random.randint(200, size=(2,4,2,2,3)) #one dimensional array\n",
        "x3"
      ],
      "execution_count": null,
      "outputs": [
        {
          "output_type": "execute_result",
          "data": {
            "text/plain": [
              "array([[[[[  8,  24,  67],\n",
              "          [103,  87,  79]],\n",
              "\n",
              "         [[176, 138,  94],\n",
              "          [180,  98,  53]]],\n",
              "\n",
              "\n",
              "        [[[ 66,  14,  34],\n",
              "          [ 24, 143, 107]],\n",
              "\n",
              "         [[ 60,  58, 144],\n",
              "          [137,  93,  86]]],\n",
              "\n",
              "\n",
              "        [[[130, 155, 108],\n",
              "          [132, 159, 129]],\n",
              "\n",
              "         [[141, 100,   4],\n",
              "          [ 91, 187,  67]]],\n",
              "\n",
              "\n",
              "        [[[135,  49, 175],\n",
              "          [193,  61,  14]],\n",
              "\n",
              "         [[183, 199,  80],\n",
              "          [  2, 121, 105]]]],\n",
              "\n",
              "\n",
              "\n",
              "       [[[[147,  63, 181],\n",
              "          [ 27,  56, 113]],\n",
              "\n",
              "         [[158, 176,  47],\n",
              "          [167, 109,  38]]],\n",
              "\n",
              "\n",
              "        [[[172,  18, 192],\n",
              "          [184, 162, 181]],\n",
              "\n",
              "         [[ 17,  72,  13],\n",
              "          [106,  30,  17]]],\n",
              "\n",
              "\n",
              "        [[[ 53,  68, 178],\n",
              "          [ 91, 181,  78]],\n",
              "\n",
              "         [[  0,  13, 185],\n",
              "          [106, 131,  70]]],\n",
              "\n",
              "\n",
              "        [[[131, 138, 188],\n",
              "          [131, 105, 176]],\n",
              "\n",
              "         [[180,  43,  36],\n",
              "          [  5,  71,  38]]]]])"
            ]
          },
          "metadata": {},
          "execution_count": 57
        }
      ]
    },
    {
      "cell_type": "code",
      "metadata": {
        "colab": {
          "base_uri": "https://localhost:8080/"
        },
        "id": "DErALUZs3nve",
        "outputId": "a2c13657-e9d5-4e61-b319-5e90960247fe"
      },
      "source": [
        "np.random.seed(100)\n",
        "x4=np.random.randint(200, size=(3,2,1)) #one dimensional array\n",
        "x4"
      ],
      "execution_count": null,
      "outputs": [
        {
          "output_type": "execute_result",
          "data": {
            "text/plain": [
              "array([[[  8],\n",
              "        [ 24]],\n",
              "\n",
              "       [[ 67],\n",
              "        [103]],\n",
              "\n",
              "       [[ 87],\n",
              "        [ 79]]])"
            ]
          },
          "metadata": {},
          "execution_count": 59
        }
      ]
    },
    {
      "cell_type": "code",
      "metadata": {
        "colab": {
          "base_uri": "https://localhost:8080/"
        },
        "id": "aW9Px86K4FSZ",
        "outputId": "397195b2-ff79-4e53-b863-e924abb95c3b"
      },
      "source": [
        "np.random.seed(100)\n",
        "x5=np.random.randint(200, size=(4,3,2,1)) #one dimensional array\n",
        "x5"
      ],
      "execution_count": null,
      "outputs": [
        {
          "output_type": "execute_result",
          "data": {
            "text/plain": [
              "array([[[[  8],\n",
              "         [ 24]],\n",
              "\n",
              "        [[ 67],\n",
              "         [103]],\n",
              "\n",
              "        [[ 87],\n",
              "         [ 79]]],\n",
              "\n",
              "\n",
              "       [[[176],\n",
              "         [138]],\n",
              "\n",
              "        [[ 94],\n",
              "         [180]],\n",
              "\n",
              "        [[ 98],\n",
              "         [ 53]]],\n",
              "\n",
              "\n",
              "       [[[ 66],\n",
              "         [ 14]],\n",
              "\n",
              "        [[ 34],\n",
              "         [ 24]],\n",
              "\n",
              "        [[143],\n",
              "         [107]]],\n",
              "\n",
              "\n",
              "       [[[ 60],\n",
              "         [ 58]],\n",
              "\n",
              "        [[144],\n",
              "         [137]],\n",
              "\n",
              "        [[ 93],\n",
              "         [ 86]]]])"
            ]
          },
          "metadata": {},
          "execution_count": 60
        }
      ]
    },
    {
      "cell_type": "code",
      "metadata": {
        "colab": {
          "base_uri": "https://localhost:8080/"
        },
        "id": "ifa3KCR-4S0d",
        "outputId": "6ee8abc8-31a7-4dbb-eae7-cc12f848ca3b"
      },
      "source": [
        "x5.shape"
      ],
      "execution_count": null,
      "outputs": [
        {
          "output_type": "execute_result",
          "data": {
            "text/plain": [
              "(4, 3, 2, 1)"
            ]
          },
          "metadata": {},
          "execution_count": 62
        }
      ]
    },
    {
      "cell_type": "code",
      "metadata": {
        "colab": {
          "base_uri": "https://localhost:8080/"
        },
        "id": "lUH8BNwA4bKn",
        "outputId": "10f4be18-5e57-4891-f44a-25f84d16fa12"
      },
      "source": [
        "x5.ndim"
      ],
      "execution_count": null,
      "outputs": [
        {
          "output_type": "execute_result",
          "data": {
            "text/plain": [
              "4"
            ]
          },
          "metadata": {},
          "execution_count": 63
        }
      ]
    },
    {
      "cell_type": "code",
      "metadata": {
        "colab": {
          "base_uri": "https://localhost:8080/"
        },
        "id": "zHVNlgP84gGL",
        "outputId": "3b773d42-99b8-4e14-f0fd-727dd2d46505"
      },
      "source": [
        "x5.size"
      ],
      "execution_count": null,
      "outputs": [
        {
          "output_type": "execute_result",
          "data": {
            "text/plain": [
              "24"
            ]
          },
          "metadata": {},
          "execution_count": 64
        }
      ]
    },
    {
      "cell_type": "code",
      "metadata": {
        "colab": {
          "base_uri": "https://localhost:8080/"
        },
        "id": "EzjkxHLu40VT",
        "outputId": "a4f6ecf8-791d-4133-d819-96735822738a"
      },
      "source": [
        "x5.nbytes"
      ],
      "execution_count": null,
      "outputs": [
        {
          "output_type": "execute_result",
          "data": {
            "text/plain": [
              "192"
            ]
          },
          "metadata": {},
          "execution_count": 65
        }
      ]
    },
    {
      "cell_type": "code",
      "metadata": {
        "colab": {
          "base_uri": "https://localhost:8080/"
        },
        "id": "lUrEDmg74qjr",
        "outputId": "97730df5-df48-4cbe-c350-12eb522273be"
      },
      "source": [
        "#Item Size (give the nbytes value)\n",
        "x5.itemsize"
      ],
      "execution_count": null,
      "outputs": [
        {
          "output_type": "execute_result",
          "data": {
            "text/plain": [
              "8"
            ]
          },
          "metadata": {},
          "execution_count": 66
        }
      ]
    }
  ]
}