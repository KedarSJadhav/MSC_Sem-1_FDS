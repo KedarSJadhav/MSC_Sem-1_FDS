{
  "nbformat": 4,
  "nbformat_minor": 0,
  "metadata": {
    "colab": {
      "name": "Commonly used Machine Learning Algorithms.ipynb",
      "provenance": [],
      "authorship_tag": "ABX9TyOORw11vanSKYuspK0XV7Va",
      "include_colab_link": true
    },
    "kernelspec": {
      "name": "python3",
      "display_name": "Python 3"
    },
    "language_info": {
      "name": "python"
    }
  },
  "cells": [
    {
      "cell_type": "markdown",
      "metadata": {
        "id": "view-in-github",
        "colab_type": "text"
      },
      "source": [
        "<a href=\"https://colab.research.google.com/github/KedarSJadhav/MSC_Sem-1_FDS/blob/main/Commonly_used_Machine_Learning_Algorithms.ipynb\" target=\"_parent\"><img src=\"https://colab.research.google.com/assets/colab-badge.svg\" alt=\"Open In Colab\"/></a>"
      ]
    },
    {
      "cell_type": "markdown",
      "metadata": {
        "id": "eZV6iSvtuvQc"
      },
      "source": [
        "**Linear Regression**"
      ]
    },
    {
      "cell_type": "code",
      "metadata": {
        "id": "tuy7M1gmuxjf"
      },
      "source": [
        "# importing required libraries\n",
        "import pandas as pd\n",
        "from sklearn.linear_model import LinearRegression\n",
        "from sklearn.metrics import mean_squared_error"
      ],
      "execution_count": 1,
      "outputs": []
    },
    {
      "cell_type": "code",
      "metadata": {
        "id": "uMWJBb4Uu8Fg"
      },
      "source": [
        "# read the train and test dataset\n",
        "train_data = pd.read_csv('/content/sample_data/train.csv')\n",
        "test_data = pd.read_csv('/content/sample_data/test.csv')"
      ],
      "execution_count": 5,
      "outputs": []
    },
    {
      "cell_type": "code",
      "metadata": {
        "colab": {
          "base_uri": "https://localhost:8080/"
        },
        "id": "_dRa-dkbwUXt",
        "outputId": "778bc3ea-968e-43bf-e332-7be5271862ac"
      },
      "source": [
        "print(train_data.head())"
      ],
      "execution_count": 6,
      "outputs": [
        {
          "output_type": "stream",
          "name": "stdout",
          "text": [
            "   Item_Weight  ...  Outlet_Type_Supermarket Type3\n",
            "0     6.800000  ...                              0\n",
            "1    15.600000  ...                              0\n",
            "2    12.911575  ...                              1\n",
            "3    11.800000  ...                              0\n",
            "4    17.850000  ...                              0\n",
            "\n",
            "[5 rows x 36 columns]\n"
          ]
        }
      ]
    },
    {
      "cell_type": "code",
      "metadata": {
        "colab": {
          "base_uri": "https://localhost:8080/"
        },
        "id": "y5JY5nVYwXab",
        "outputId": "c42fe42a-71e9-4852-9cc3-245e9f80622f"
      },
      "source": [
        "# shape of the dataset\n",
        "print('\\nShape of training data :',train_data.shape)\n",
        "print('\\nShape of testing data :',test_data.shape)"
      ],
      "execution_count": 8,
      "outputs": [
        {
          "output_type": "stream",
          "name": "stdout",
          "text": [
            "\n",
            "Shape of training data : (1364, 36)\n",
            "\n",
            "Shape of testing data : (341, 36)\n"
          ]
        }
      ]
    },
    {
      "cell_type": "code",
      "metadata": {
        "id": "pSWk1trnwci0"
      },
      "source": [
        "# Now, we need to predict the missing target variable in the test data\n",
        "# target variable - Item_Outlet_Sales\n",
        "\n",
        "# seperate the independent and target variable on training data\n",
        "train_x = train_data.drop(columns=['Item_Outlet_Sales'],axis=1)\n",
        "train_y = train_data['Item_Outlet_Sales']"
      ],
      "execution_count": 9,
      "outputs": []
    },
    {
      "cell_type": "code",
      "metadata": {
        "id": "0_uyR4_nwjRi"
      },
      "source": [
        "# seperate the independent and target variable on training data\n",
        "test_x = test_data.drop(columns=['Item_Outlet_Sales'],axis=1)\n",
        "test_y = test_data['Item_Outlet_Sales']"
      ],
      "execution_count": 10,
      "outputs": []
    },
    {
      "cell_type": "code",
      "metadata": {
        "id": "ERLhTkMwwp77"
      },
      "source": [
        "'''\n",
        "Create the object of the Linear Regression model\n",
        "You can also add other parameters and test your code here\n",
        "Some parameters are : fit_intercept and normalize\n",
        "Documentation of sklearn LinearRegression: \n",
        "\n",
        "https://scikit-learn.org/stable/modules/generated/sklearn.linear_model.LinearRegression.html\n",
        "\n",
        " '''\n",
        "model = LinearRegression()"
      ],
      "execution_count": 11,
      "outputs": []
    },
    {
      "cell_type": "code",
      "metadata": {
        "colab": {
          "base_uri": "https://localhost:8080/"
        },
        "id": "K1Zocr1lwtuC",
        "outputId": "e42f07e5-070e-4a73-a56d-5791bf76b892"
      },
      "source": [
        "# fit the model with the training data\n",
        "model.fit(train_x,train_y)"
      ],
      "execution_count": 12,
      "outputs": [
        {
          "output_type": "execute_result",
          "data": {
            "text/plain": [
              "LinearRegression()"
            ]
          },
          "metadata": {},
          "execution_count": 12
        }
      ]
    },
    {
      "cell_type": "code",
      "metadata": {
        "colab": {
          "base_uri": "https://localhost:8080/"
        },
        "id": "RRCDGRkhwwr-",
        "outputId": "8062530a-200c-4fa6-8623-9316622867ec"
      },
      "source": [
        "# coefficeints of the trained model\n",
        "print('\\nCoefficient of model :', model.coef_)"
      ],
      "execution_count": 13,
      "outputs": [
        {
          "output_type": "stream",
          "name": "stdout",
          "text": [
            "\n",
            "Coefficient of model : [-3.84197604e+00  9.83065945e+00  1.61711856e+01  6.09197622e+01\n",
            " -8.64161561e+01  1.23593376e+02  2.34714039e+02 -2.44597425e+02\n",
            " -2.72938329e+01 -8.09611456e+00 -3.01147840e+02  1.70727611e+02\n",
            " -5.40194744e+01  7.34248834e+01  1.70313375e+00 -5.07701615e+01\n",
            "  1.63553657e+02 -5.85286125e+01  1.04913492e+02 -6.01944874e+01\n",
            "  1.98948206e+02 -1.40959023e+02  1.19426257e+02  2.66382669e+01\n",
            " -1.85619792e+02  1.43925357e+03  2.16134663e+02  3.54723990e+01\n",
            "  3.54832996e+02 -5.54559635e+00 -3.49287400e+02 -1.39202954e+03\n",
            " -2.57982359e+02 -9.59016062e+02  2.60902796e+03]\n"
          ]
        }
      ]
    },
    {
      "cell_type": "code",
      "metadata": {
        "colab": {
          "base_uri": "https://localhost:8080/"
        },
        "id": "rGfWE3rzw0Qq",
        "outputId": "699d3817-c718-4f3d-8c4d-ff6b66fecd3e"
      },
      "source": [
        "# intercept of the model\n",
        "print('\\nIntercept of model',model.intercept_)"
      ],
      "execution_count": 14,
      "outputs": [
        {
          "output_type": "stream",
          "name": "stdout",
          "text": [
            "\n",
            "Intercept of model -121926.97473298332\n"
          ]
        }
      ]
    },
    {
      "cell_type": "code",
      "metadata": {
        "colab": {
          "base_uri": "https://localhost:8080/"
        },
        "id": "OXgjkKL4w26k",
        "outputId": "43257f7f-8a2e-4c36-c03f-6195b7ed94a0"
      },
      "source": [
        "# predict the target on the test dataset\n",
        "predict_train = model.predict(train_x)\n",
        "print('\\nItem_Outlet_Sales on training data',predict_train) "
      ],
      "execution_count": 15,
      "outputs": [
        {
          "output_type": "stream",
          "name": "stdout",
          "text": [
            "\n",
            "Item_Outlet_Sales on training data [ 803.88817641 1733.98835979 3294.52154482 ...  811.16967914 2343.96927185\n",
            " 2444.98869913]\n"
          ]
        }
      ]
    },
    {
      "cell_type": "code",
      "metadata": {
        "colab": {
          "base_uri": "https://localhost:8080/"
        },
        "id": "JoDM56nTw6Pz",
        "outputId": "190081c1-1a69-441f-eb3b-1e1a388c0706"
      },
      "source": [
        "# Root Mean Squared Error on training dataset\n",
        "rmse_train = mean_squared_error(train_y,predict_train)**(0.5)\n",
        "print('\\nRMSE on train dataset : ', rmse_train)"
      ],
      "execution_count": 16,
      "outputs": [
        {
          "output_type": "stream",
          "name": "stdout",
          "text": [
            "\n",
            "RMSE on train dataset :  1135.8159344155245\n"
          ]
        }
      ]
    },
    {
      "cell_type": "code",
      "metadata": {
        "colab": {
          "base_uri": "https://localhost:8080/"
        },
        "id": "yPF4X8PDw9Dx",
        "outputId": "09caa85a-5d47-44f7-f3f5-fa7d12699a74"
      },
      "source": [
        "# predict the target on the testing dataset\n",
        "predict_test = model.predict(test_x)\n",
        "print('\\nItem_Outlet_Sales on test data',predict_test) "
      ],
      "execution_count": 17,
      "outputs": [
        {
          "output_type": "stream",
          "name": "stdout",
          "text": [
            "\n",
            "Item_Outlet_Sales on test data [ 1615.37962439  3168.60806673  2564.31326686  2685.29698657\n",
            "  2771.82059109  4223.3788671   2615.10827403   565.8088248\n",
            "  4000.68496927  1035.54578573  2184.60316447  1033.54185437\n",
            "   150.22804639  1616.19932803  2370.37858454  1953.693325\n",
            "  2307.09514556  1429.85271583  2343.42149697  3780.28905363\n",
            "   583.44339124  1089.08346168  2323.64661483  3559.90832258\n",
            "  1829.46789667  1602.03985138   840.70282292  1823.14253132\n",
            "  3145.30906529  1823.30397678  2103.35401623  3025.02597477\n",
            "  2265.03907268   697.33936172  4474.05156681  2270.45195749\n",
            "  1897.45212218  3305.0110824   2228.36615412  3767.90052861\n",
            "  2162.33844917   665.40410258  -926.22966666   738.30407877\n",
            "   197.90808777  2483.25075805  3693.05388376  2458.43116228\n",
            "  1329.02544771   -57.67123156  1952.26612825  3614.4167807\n",
            "  2127.22359714  2486.1932574   1826.90446272   786.7283994\n",
            "  3200.67525412  1981.66000538  2326.98747373  3535.12951812\n",
            "    53.4756877    129.4629475   4259.8975191   3732.15225981\n",
            "  4454.54642228   717.26348394  1431.6614166    581.01605137\n",
            "  1119.93954645  2392.48117429  1155.07145201  3528.03281464\n",
            "  2044.86804694   455.24692632  1342.74411911  1033.2840843\n",
            "  1406.11005231   794.30323743  1098.87255812    83.75695654\n",
            "  1250.60074702  1495.67548794  2424.43083225  1844.12427139\n",
            "  3082.43684194  3765.07357641   771.99003119  4435.95849625\n",
            "   738.14937479   850.57494768  2622.28171329  1655.50682655\n",
            "   907.1351255   4290.06774145   953.43327412  5344.75965244\n",
            "  4088.62424173  2806.91278755  3128.8067004   1928.5781408\n",
            "  4036.11769697  3180.16424086  3139.20756065   542.83160506\n",
            "  2532.07785569  1105.76857669  3504.70144046  3939.48193634\n",
            "   333.08756699  1948.88080922  1231.78773626  2740.61520829\n",
            "  2346.30720313  3424.19140178  3051.02145123  1014.75408262\n",
            "  1782.52495649  1841.62002811  3947.82775657  1614.81023184\n",
            "  1389.86016917  1928.35682551  2619.4880638   2472.77585379\n",
            "  2692.29331855    78.62892708  2330.19059149  4159.73973081\n",
            "  4529.46230433  2264.57300155  1826.88342763  1275.25198009\n",
            "  -457.62680268   329.71458616  5805.46289307 -1450.16404187\n",
            "  1501.61687972  2965.88387942  1611.61916429  1886.73538613\n",
            "  1242.79778954  4296.14339619  1728.68334987  1509.00474116\n",
            "  2260.5918405   4159.20469494  3193.38759006  1509.53713972\n",
            "  2210.42073119  5754.97388686 -1170.50864902  3162.64617061\n",
            "  1994.01620756  1917.42431232  4404.60357762   997.35766781\n",
            "  1742.51236828  2265.77611998  2543.6189625   1469.66880224\n",
            "  1975.14690278  1225.30048856  4218.66518874  1697.85375137\n",
            "  2790.38688349  3935.99362435   625.06246143  2373.6866766\n",
            "  1831.0172668   1796.26777    -1075.85814761   427.15550704\n",
            "  1746.36375123   233.53413014  1774.33869755  2918.17108391\n",
            "  1912.23196062  3497.76791      605.64499947   761.50725234\n",
            "   575.95154528  2460.73367421  1613.43332209  1746.36921802\n",
            "  1366.92450243  2750.82093523  2708.27802108  2113.05123036\n",
            "  4091.83752837  2621.18104708  3834.85938706   866.33297998\n",
            "  3178.14854212  1320.60993899   614.11653153  2996.50726857\n",
            "  4183.21848289  2768.14376223  1894.7224403   2168.35936706\n",
            "  -430.75854506  1752.34512895  2547.47132497  3202.07672874\n",
            "  4158.43802333  2603.79263873  4096.2558171   4530.17698005\n",
            "  2657.59669754  1845.45481481  3390.50113508  2297.02310717\n",
            "  1935.22179911  1039.45233714  1610.06188742  2349.26388899\n",
            "  1687.75642234  1416.88045961  3186.47487698  1380.9005566\n",
            "  2048.98028877  3115.36727803  3192.74829239  2957.81471134\n",
            "  -309.39482285  3792.4834738   3808.61032694  3669.63236467\n",
            "  3736.43245566  2277.01639962   857.76812536  2528.67482118\n",
            "  4700.44879575  2872.01837914  2804.08508738 -1045.53520215\n",
            "  -183.90085944  2556.47193302  3194.77054019  3108.48089695\n",
            "  4718.52624333  3623.54852334  3038.4043458   2900.27886742\n",
            "  1042.6899685   3242.69016168  1632.6328344   3395.96081244\n",
            "  2213.18339089  2707.37203753  4165.66077486  1492.34822792\n",
            "  -132.72238794  1102.63092166  1438.80008104  1443.75837334\n",
            "  1829.01554695   973.12771481  3271.39421376  3254.27432253\n",
            "  -161.46169522    72.58218786  1774.24125644  -632.66831423\n",
            "  2531.55226268  4485.65882169  1796.44459658  2519.74607773\n",
            "  2371.38081459  4194.8355524   -771.30234698  1344.46736265\n",
            "  -967.33576066  1353.05300573  3265.73163044  2670.2925567\n",
            "  1613.75708737  3189.58746374  -810.85964358  2753.09992531\n",
            "  2178.28032441  2732.98784197  2110.04822199  2327.68963809\n",
            "  3870.64913841  2926.04570599  2779.15291241   636.25728977\n",
            "  1194.1928894   4778.71033823  3066.39089093  3328.54835279\n",
            "  4400.46098188  1894.895569    4290.01251609   572.99300136\n",
            "  2579.24830491  3349.60698124  2982.54911796  2674.56165895\n",
            "  3763.95229207  3884.58791149  3782.90713719  3939.12885079\n",
            "  3850.1735489   3870.01081561  3964.5331962   2908.96433528\n",
            "  1001.51593302   509.85548611  2026.75019074  5691.58192484\n",
            "  2105.74552915  1747.54922009  3110.61258139   115.7401617\n",
            "  5172.75086929  3338.73543581  4144.05762646   805.53285192\n",
            "  2331.40657555  3206.99378836   386.55122767  2938.94701141\n",
            "  1873.28577011  2144.49147042  3082.87955228  3870.29871722\n",
            "  1791.43594337  1069.11477182  3294.84134826  5603.61296774\n",
            "  1645.44477396   232.82442927  1181.13519601  3701.34493377\n",
            "  4099.97384712  2877.21991084  3519.04358701  1707.98351381\n",
            "   170.07605396]\n"
          ]
        }
      ]
    },
    {
      "cell_type": "code",
      "metadata": {
        "colab": {
          "base_uri": "https://localhost:8080/"
        },
        "id": "F-ovvExOw-70",
        "outputId": "148e4185-003f-4ed3-92e2-a2e286878671"
      },
      "source": [
        "# Root Mean Squared Error on testing dataset\n",
        "rmse_test = mean_squared_error(test_y,predict_test)**(0.5)\n",
        "print('\\nRMSE on test dataset : ', rmse_test)"
      ],
      "execution_count": 18,
      "outputs": [
        {
          "output_type": "stream",
          "name": "stdout",
          "text": [
            "\n",
            "RMSE on test dataset :  1009.2517232209692\n"
          ]
        }
      ]
    },
    {
      "cell_type": "markdown",
      "metadata": {
        "id": "520yEJvdxG0r"
      },
      "source": [
        "**logistic regression**"
      ]
    },
    {
      "cell_type": "code",
      "metadata": {
        "id": "-beeCM2JxH_i"
      },
      "source": [
        "# importing required libraries\n",
        "import pandas as pd\n",
        "from sklearn.linear_model import LogisticRegression\n",
        "from sklearn.metrics import accuracy_score"
      ],
      "execution_count": 19,
      "outputs": []
    },
    {
      "cell_type": "code",
      "metadata": {
        "id": "GXhvSubsxMui"
      },
      "source": [
        "# read the train and test dataset\n",
        "train_data = pd.read_csv('/content/sample_data/train-data.csv')\n",
        "test_data = pd.read_csv('/content/sample_data/test-data.csv')"
      ],
      "execution_count": 20,
      "outputs": []
    },
    {
      "cell_type": "code",
      "metadata": {
        "colab": {
          "base_uri": "https://localhost:8080/"
        },
        "id": "CP-yBAFpxwhh",
        "outputId": "2f738f8e-4acc-4716-fa27-6c68632951db"
      },
      "source": [
        "print(train_data.head())"
      ],
      "execution_count": 21,
      "outputs": [
        {
          "output_type": "stream",
          "name": "stdout",
          "text": [
            "   Survived        Age     Fare  ...  Embarked_C  Embarked_Q  Embarked_S\n",
            "0         0  28.500000   7.2292  ...           1           0           0\n",
            "1         1  27.000000  10.5000  ...           0           0           1\n",
            "2         1  29.699118  16.1000  ...           0           0           1\n",
            "3         0  29.699118   0.0000  ...           0           0           1\n",
            "4         0  17.000000   8.6625  ...           0           0           1\n",
            "\n",
            "[5 rows x 25 columns]\n"
          ]
        }
      ]
    },
    {
      "cell_type": "code",
      "metadata": {
        "colab": {
          "base_uri": "https://localhost:8080/"
        },
        "id": "I7uSab5kxzNZ",
        "outputId": "f9ad88ca-6dfc-41c3-c7cd-cd423cd7c100"
      },
      "source": [
        "# shape of the dataset\n",
        "print('Shape of training data :',train_data.shape)\n",
        "print('Shape of testing data :',test_data.shape)"
      ],
      "execution_count": 22,
      "outputs": [
        {
          "output_type": "stream",
          "name": "stdout",
          "text": [
            "Shape of training data : (712, 25)\n",
            "Shape of testing data : (179, 25)\n"
          ]
        }
      ]
    },
    {
      "cell_type": "code",
      "metadata": {
        "id": "stnHkbOOx1Ol"
      },
      "source": [
        "# Now, we need to predict the missing target variable in the test data\n",
        "# target variable - Survived\n",
        "\n",
        "# seperate the independent and target variable on training data\n",
        "train_x = train_data.drop(columns=['Survived'],axis=1)\n",
        "train_y = train_data['Survived']"
      ],
      "execution_count": 23,
      "outputs": []
    },
    {
      "cell_type": "code",
      "metadata": {
        "id": "xY31Zwz6x3k8"
      },
      "source": [
        "# seperate the independent and target variable on testing data\n",
        "test_x = test_data.drop(columns=['Survived'],axis=1)\n",
        "test_y = test_data['Survived']"
      ],
      "execution_count": 24,
      "outputs": []
    },
    {
      "cell_type": "code",
      "metadata": {
        "id": "cWHGLfUnx6VC"
      },
      "source": [
        "'''\n",
        "Create the object of the Logistic Regression model\n",
        "You can also add other parameters and test your code here\n",
        "Some parameters are : fit_intercept and penalty\n",
        "Documentation of sklearn LogisticRegression: \n",
        "\n",
        "https://scikit-learn.org/stable/modules/generated/sklearn.linear_model.LogisticRegression.html\n",
        "\n",
        " '''\n",
        "model = LogisticRegression()"
      ],
      "execution_count": 25,
      "outputs": []
    },
    {
      "cell_type": "code",
      "metadata": {
        "colab": {
          "base_uri": "https://localhost:8080/"
        },
        "id": "VdjQEiGjx8Jq",
        "outputId": "887f0135-ef07-4a08-f264-48816e8814ae"
      },
      "source": [
        "# fit the model with the training data\n",
        "model.fit(train_x,train_y)"
      ],
      "execution_count": 26,
      "outputs": [
        {
          "output_type": "stream",
          "name": "stderr",
          "text": [
            "/usr/local/lib/python3.7/dist-packages/sklearn/linear_model/_logistic.py:818: ConvergenceWarning: lbfgs failed to converge (status=1):\n",
            "STOP: TOTAL NO. of ITERATIONS REACHED LIMIT.\n",
            "\n",
            "Increase the number of iterations (max_iter) or scale the data as shown in:\n",
            "    https://scikit-learn.org/stable/modules/preprocessing.html\n",
            "Please also refer to the documentation for alternative solver options:\n",
            "    https://scikit-learn.org/stable/modules/linear_model.html#logistic-regression\n",
            "  extra_warning_msg=_LOGISTIC_SOLVER_CONVERGENCE_MSG,\n"
          ]
        },
        {
          "output_type": "execute_result",
          "data": {
            "text/plain": [
              "LogisticRegression()"
            ]
          },
          "metadata": {},
          "execution_count": 26
        }
      ]
    },
    {
      "cell_type": "code",
      "metadata": {
        "colab": {
          "base_uri": "https://localhost:8080/"
        },
        "id": "_YtYwB54x_8N",
        "outputId": "578e0ac8-1bbb-4811-ae97-8d4731634890"
      },
      "source": [
        "# coefficeints of the trained model\n",
        "print('Coefficient of model :', model.coef_)"
      ],
      "execution_count": 27,
      "outputs": [
        {
          "output_type": "stream",
          "name": "stdout",
          "text": [
            "Coefficient of model : [[-0.03112606  0.00155629  0.93299841  0.08451959 -1.02556785  1.24541941\n",
            "  -1.25346925  1.05047794  0.97898932  0.61562405 -1.14084292 -0.78091604\n",
            "  -0.28356149 -0.4478207   0.16173065  0.6339807  -0.04705229  0.20461808\n",
            "  -0.45766539 -0.33677639 -0.16688521  0.07948039  0.28573972 -0.37326995]]\n"
          ]
        }
      ]
    },
    {
      "cell_type": "code",
      "metadata": {
        "colab": {
          "base_uri": "https://localhost:8080/"
        },
        "id": "nHdiUS4nyCIi",
        "outputId": "6eb0c192-3274-4b53-9563-4bd74e2be112"
      },
      "source": [
        "# intercept of the model\n",
        "print('Intercept of model',model.intercept_)"
      ],
      "execution_count": 28,
      "outputs": [
        {
          "output_type": "stream",
          "name": "stdout",
          "text": [
            "Intercept of model [0.07227482]\n"
          ]
        }
      ]
    },
    {
      "cell_type": "code",
      "metadata": {
        "colab": {
          "base_uri": "https://localhost:8080/"
        },
        "id": "HM9awJPryKKa",
        "outputId": "e00c6eb7-be67-4221-b91a-43b8446aa6f6"
      },
      "source": [
        "# predict the target on the train dataset\n",
        "predict_train = model.predict(train_x)\n",
        "print('Target on train data',predict_train) "
      ],
      "execution_count": 29,
      "outputs": [
        {
          "output_type": "stream",
          "name": "stdout",
          "text": [
            "Target on train data [0 1 1 0 0 0 0 0 0 0 0 1 0 0 0 0 0 0 0 1 0 0 0 0 0 0 0 0 0 1 1 0 0 0 0 0 1\n",
            " 1 0 0 0 1 0 1 1 1 1 0 0 0 1 0 0 1 0 0 0 0 1 0 1 1 1 1 0 0 0 0 0 0 0 0 0 0\n",
            " 0 1 1 0 0 1 0 0 0 1 1 0 0 1 1 0 1 0 0 0 0 1 0 1 1 0 0 1 0 1 0 1 0 1 1 0 1\n",
            " 0 0 0 0 1 0 0 1 1 1 0 0 1 0 0 0 1 0 0 1 1 0 0 1 0 0 0 0 0 0 1 0 1 0 1 1 0\n",
            " 0 0 1 1 0 0 0 1 0 1 0 0 1 1 0 1 1 0 1 0 0 0 0 0 0 0 0 0 0 0 0 0 0 1 0 0 1\n",
            " 0 1 1 1 1 0 0 1 0 1 0 0 1 1 1 1 1 0 0 0 1 1 1 0 0 0 0 1 0 0 0 0 0 0 0 0 0\n",
            " 0 0 0 0 0 0 1 0 1 0 1 0 0 1 0 1 0 0 0 1 0 1 0 1 1 0 0 0 1 1 0 1 0 0 1 1 1\n",
            " 0 0 1 0 1 1 1 1 1 0 0 0 1 0 0 1 1 1 0 0 0 0 0 0 0 1 1 0 0 0 0 0 0 0 1 0 0\n",
            " 0 0 1 1 0 1 1 0 1 0 1 0 0 0 0 0 1 0 1 1 1 0 0 0 1 0 1 0 0 0 1 0 0 1 0 1 1\n",
            " 1 0 0 1 1 0 1 1 0 0 0 0 0 1 0 1 1 0 1 0 0 1 1 1 1 0 0 0 0 1 0 0 0 0 0 0 0\n",
            " 0 0 0 1 0 1 0 0 1 0 0 1 0 0 1 0 0 1 0 0 1 0 0 1 0 0 0 1 1 1 0 1 0 1 1 0 1\n",
            " 0 1 1 0 0 0 0 0 0 0 0 0 1 0 0 0 0 0 1 0 0 0 0 1 0 0 1 1 1 1 0 0 0 0 1 0 0\n",
            " 0 1 0 0 0 0 0 0 1 0 0 1 1 0 1 1 1 0 0 0 0 0 0 1 0 0 1 1 1 0 1 0 0 0 0 0 0\n",
            " 0 0 1 0 0 0 0 0 0 1 1 0 1 1 0 1 1 0 1 0 0 0 0 0 0 0 0 0 0 0 1 0 0 0 1 0 1\n",
            " 1 0 0 0 0 1 0 0 0 1 0 1 0 1 1 1 0 0 0 0 1 0 1 1 1 0 0 1 1 0 1 1 0 0 0 0 1\n",
            " 0 1 0 1 1 0 0 1 0 0 1 0 1 1 0 1 0 1 0 1 0 0 0 0 1 1 0 1 0 0 1 1 0 1 1 0 0\n",
            " 1 0 1 0 0 1 0 1 0 1 0 1 1 0 0 1 0 1 1 0 1 0 0 0 1 0 1 0 0 0 1 0 0 0 0 0 1\n",
            " 0 0 0 0 0 0 1 1 0 0 1 1 0 0 0 1 1 0 0 0 0 0 1 1 1 0 0 0 0 0 0 1 0 1 0 0 0\n",
            " 0 0 0 0 1 0 0 1 0 0 1 0 0 0 0 1 1 0 0 0 0 0 0 0 0 0 1 0 0 0 1 0 0 1 0 1 0\n",
            " 1 0 1 1 1 0 1 0 0]\n"
          ]
        }
      ]
    },
    {
      "cell_type": "code",
      "metadata": {
        "colab": {
          "base_uri": "https://localhost:8080/"
        },
        "id": "PMX7XSMdyMAy",
        "outputId": "f755428f-e141-4ebb-a28d-01365549dedc"
      },
      "source": [
        "# Accuray Score on train dataset\n",
        "accuracy_train = accuracy_score(train_y,predict_train)\n",
        "print('accuracy_score on train dataset : ', accuracy_train)"
      ],
      "execution_count": 30,
      "outputs": [
        {
          "output_type": "stream",
          "name": "stdout",
          "text": [
            "accuracy_score on train dataset :  0.8047752808988764\n"
          ]
        }
      ]
    },
    {
      "cell_type": "code",
      "metadata": {
        "colab": {
          "base_uri": "https://localhost:8080/"
        },
        "id": "2qfZdjqZyU4S",
        "outputId": "b089d132-c5b7-4cbe-92ef-309802030b39"
      },
      "source": [
        "# predict the target on the test dataset\n",
        "predict_test = model.predict(test_x)\n",
        "print('Target on test data',predict_test) "
      ],
      "execution_count": 31,
      "outputs": [
        {
          "output_type": "stream",
          "name": "stdout",
          "text": [
            "Target on test data [0 0 0 1 1 0 0 0 0 0 0 1 1 0 0 0 0 0 1 0 0 0 1 0 0 0 0 1 0 1 1 0 1 0 1 0 1\n",
            " 0 0 0 0 0 0 0 0 0 0 0 1 0 0 0 0 0 1 1 0 1 1 0 0 1 1 1 0 0 0 0 0 0 0 0 0 0\n",
            " 1 0 0 0 1 0 0 0 0 1 1 0 1 1 0 1 0 0 0 0 1 1 1 0 1 0 0 0 0 0 1 1 0 1 1 1 1\n",
            " 0 1 0 0 0 0 1 1 1 1 0 1 1 0 1 1 0 0 1 1 0 0 1 1 1 0 1 1 0 1 0 0 0 0 0 0 0\n",
            " 0 0 0 0 1 0 0 1 0 0 0 0 0 1 0 0 0 0 0 0 1 0 1 1 0 1 0 0 0 0 1]\n"
          ]
        }
      ]
    },
    {
      "cell_type": "code",
      "metadata": {
        "colab": {
          "base_uri": "https://localhost:8080/"
        },
        "id": "45XizMoUyXPi",
        "outputId": "53e43208-53c2-4f6c-902f-e8c1882469e5"
      },
      "source": [
        "# Accuracy Score on test dataset\n",
        "accuracy_test = accuracy_score(test_y,predict_test)\n",
        "print('accuracy_score on test dataset : ', accuracy_test)"
      ],
      "execution_count": 32,
      "outputs": [
        {
          "output_type": "stream",
          "name": "stdout",
          "text": [
            "accuracy_score on test dataset :  0.8324022346368715\n"
          ]
        }
      ]
    },
    {
      "cell_type": "markdown",
      "metadata": {
        "id": "1mpUk7I4ycqF"
      },
      "source": [
        "**Decision tree**"
      ]
    },
    {
      "cell_type": "code",
      "metadata": {
        "id": "_yHzCwenyemD"
      },
      "source": [
        "# importing required libraries\n",
        "import pandas as pd\n",
        "from sklearn.tree import DecisionTreeClassifier\n",
        "from sklearn.metrics import accuracy_score"
      ],
      "execution_count": 33,
      "outputs": []
    },
    {
      "cell_type": "code",
      "metadata": {
        "id": "-64T0QxIyjTN"
      },
      "source": [
        "# read the train and test dataset\n",
        "train_data = pd.read_csv('/content/sample_data/train-data.csv')\n",
        "test_data = pd.read_csv('/content/sample_data/test-data.csv')"
      ],
      "execution_count": 34,
      "outputs": []
    },
    {
      "cell_type": "code",
      "metadata": {
        "colab": {
          "base_uri": "https://localhost:8080/"
        },
        "id": "BFREup7Pyq-T",
        "outputId": "a9de64c1-70e6-4a96-d5ee-4b0ca5133be1"
      },
      "source": [
        "# shape of the dataset\n",
        "print('Shape of training data :',train_data.shape)\n",
        "print('Shape of testing data :',test_data.shape)"
      ],
      "execution_count": 35,
      "outputs": [
        {
          "output_type": "stream",
          "name": "stdout",
          "text": [
            "Shape of training data : (712, 25)\n",
            "Shape of testing data : (179, 25)\n"
          ]
        }
      ]
    },
    {
      "cell_type": "code",
      "metadata": {
        "id": "ZRN8XYIdytbj"
      },
      "source": [
        "# Now, we need to predict the missing target variable in the test data\n",
        "# target variable - Survived\n",
        "\n",
        "# seperate the independent and target variable on training data\n",
        "train_x = train_data.drop(columns=['Survived'],axis=1)\n",
        "train_y = train_data['Survived']"
      ],
      "execution_count": 36,
      "outputs": []
    },
    {
      "cell_type": "code",
      "metadata": {
        "id": "eetes0wtyvNy"
      },
      "source": [
        "# seperate the independent and target variable on testing data\n",
        "test_x = test_data.drop(columns=['Survived'],axis=1)\n",
        "test_y = test_data['Survived']"
      ],
      "execution_count": 37,
      "outputs": []
    },
    {
      "cell_type": "code",
      "metadata": {
        "id": "0RT0srmKyxRS"
      },
      "source": [
        "'''\n",
        "Create the object of the Decision Tree model\n",
        "You can also add other parameters and test your code here\n",
        "Some parameters are : max_depth and max_features\n",
        "Documentation of sklearn DecisionTreeClassifier: \n",
        "\n",
        "https://scikit-learn.org/stable/modules/generated/sklearn.tree.DecisionTreeClassifier.html\n",
        "\n",
        " '''\n",
        "model = DecisionTreeClassifier()"
      ],
      "execution_count": 38,
      "outputs": []
    },
    {
      "cell_type": "code",
      "metadata": {
        "colab": {
          "base_uri": "https://localhost:8080/"
        },
        "id": "cYsnB2Q2yz5K",
        "outputId": "8e1a9776-a7a0-4cd1-ac65-b58316f4d104"
      },
      "source": [
        "# fit the model with the training data\n",
        "model.fit(train_x,train_y)"
      ],
      "execution_count": 39,
      "outputs": [
        {
          "output_type": "execute_result",
          "data": {
            "text/plain": [
              "DecisionTreeClassifier()"
            ]
          },
          "metadata": {},
          "execution_count": 39
        }
      ]
    },
    {
      "cell_type": "code",
      "metadata": {
        "colab": {
          "base_uri": "https://localhost:8080/"
        },
        "id": "2Qom-Qgry14z",
        "outputId": "7307350c-ef63-4f04-e423-fcef4b45f395"
      },
      "source": [
        "# depth of the decision tree\n",
        "print('Depth of the Decision Tree :', model.get_depth())"
      ],
      "execution_count": 40,
      "outputs": [
        {
          "output_type": "stream",
          "name": "stdout",
          "text": [
            "Depth of the Decision Tree : 19\n"
          ]
        }
      ]
    },
    {
      "cell_type": "code",
      "metadata": {
        "colab": {
          "base_uri": "https://localhost:8080/"
        },
        "id": "D7-ceb3Qy4Es",
        "outputId": "7e0aad5d-2676-4afe-8d16-9d60bba68122"
      },
      "source": [
        "# predict the target on the train dataset\n",
        "predict_train = model.predict(train_x)\n",
        "print('Target on train data',predict_train) "
      ],
      "execution_count": 41,
      "outputs": [
        {
          "output_type": "stream",
          "name": "stdout",
          "text": [
            "Target on train data [0 1 1 0 0 0 0 0 0 0 0 1 1 1 0 0 1 0 0 1 0 0 1 0 0 0 0 0 0 1 1 0 0 1 0 0 0\n",
            " 1 0 0 0 1 0 1 0 1 0 0 1 0 1 0 0 0 0 0 0 0 1 0 1 1 1 1 0 1 0 0 1 0 0 0 0 0\n",
            " 0 1 1 0 0 1 0 0 1 1 1 0 0 0 1 0 1 0 0 1 0 0 0 1 1 0 0 1 0 1 1 1 0 0 0 0 0\n",
            " 0 0 0 0 1 0 0 1 0 1 0 1 1 0 0 0 1 0 0 1 0 0 0 1 0 1 0 1 0 0 0 0 1 0 1 1 0\n",
            " 0 0 0 1 1 0 0 1 0 0 1 0 1 1 0 1 1 0 1 1 0 0 0 0 0 0 0 1 0 0 0 0 0 1 0 0 1\n",
            " 0 1 1 1 1 0 0 1 0 1 0 0 1 1 1 1 0 0 0 1 1 1 1 0 0 0 0 1 0 0 0 0 0 0 0 0 0\n",
            " 0 0 0 0 1 0 0 0 1 0 1 0 0 0 0 1 0 0 0 1 0 1 0 1 0 0 0 1 1 1 0 1 0 0 0 1 0\n",
            " 0 1 1 0 1 1 1 0 1 1 0 0 1 0 1 1 1 1 1 0 0 1 0 0 0 1 1 0 0 1 1 0 0 0 0 0 0\n",
            " 0 0 1 1 0 1 1 0 1 0 1 1 1 0 0 0 1 0 1 1 0 0 0 0 1 0 1 1 0 0 0 0 0 0 0 0 1\n",
            " 1 0 0 1 1 0 1 0 0 0 1 0 1 0 0 0 1 0 1 0 0 1 0 1 0 0 0 0 0 1 0 0 0 1 0 0 0\n",
            " 0 0 0 0 0 0 1 0 0 1 0 1 0 0 1 0 0 1 1 0 0 0 0 1 0 0 1 1 1 1 0 1 1 0 1 1 1\n",
            " 0 1 1 1 0 0 0 0 0 0 0 0 1 1 1 1 0 0 1 0 0 1 0 0 1 0 1 0 1 1 1 1 0 0 1 0 0\n",
            " 0 1 0 0 0 0 0 1 1 0 0 1 1 0 1 0 1 0 1 0 1 0 0 0 0 0 0 0 1 1 1 0 0 0 0 0 0\n",
            " 0 0 1 1 1 0 0 1 0 1 1 0 1 0 0 0 1 1 1 0 1 0 0 0 0 0 0 0 0 0 0 0 0 0 1 0 1\n",
            " 1 0 0 0 0 1 0 0 0 1 0 1 0 1 1 1 0 0 0 0 0 0 1 1 1 0 0 1 1 1 0 1 0 1 0 0 1\n",
            " 0 0 0 1 1 0 0 1 0 0 1 0 1 0 0 1 0 0 0 1 0 0 1 1 0 1 0 0 0 0 1 1 0 1 1 1 0\n",
            " 1 0 1 0 1 1 0 1 0 1 0 0 1 0 0 1 0 1 1 0 1 0 0 0 1 0 1 0 0 0 0 0 0 0 0 0 1\n",
            " 0 0 0 1 0 1 1 1 1 0 1 1 0 0 1 0 1 0 0 1 0 0 1 1 1 1 0 1 0 0 0 1 0 1 0 1 0\n",
            " 1 0 0 0 1 0 0 1 0 0 1 0 1 0 0 1 1 0 0 0 0 0 0 0 0 0 1 0 0 0 0 0 0 1 0 1 0\n",
            " 1 0 1 1 1 0 0 1 0]\n"
          ]
        }
      ]
    },
    {
      "cell_type": "code",
      "metadata": {
        "colab": {
          "base_uri": "https://localhost:8080/"
        },
        "id": "LAZEPxkvy5Oy",
        "outputId": "078f8567-91d4-41d9-f688-5a1880c4d702"
      },
      "source": [
        "# Accuray Score on train dataset\n",
        "accuracy_train = accuracy_score(train_y,predict_train)\n",
        "print('accuracy_score on train dataset : ', accuracy_train)"
      ],
      "execution_count": 42,
      "outputs": [
        {
          "output_type": "stream",
          "name": "stdout",
          "text": [
            "accuracy_score on train dataset :  0.9859550561797753\n"
          ]
        }
      ]
    },
    {
      "cell_type": "code",
      "metadata": {
        "colab": {
          "base_uri": "https://localhost:8080/"
        },
        "id": "XvHqOyGky8K8",
        "outputId": "1caeca47-0050-46ec-c767-b182ef6cb978"
      },
      "source": [
        "# predict the target on the test dataset\n",
        "predict_test = model.predict(test_x)\n",
        "print('Target on test data',predict_test) "
      ],
      "execution_count": 43,
      "outputs": [
        {
          "output_type": "stream",
          "name": "stdout",
          "text": [
            "Target on test data [0 0 0 0 1 0 0 0 0 0 0 1 1 0 1 0 0 0 0 0 0 1 1 1 1 0 0 1 0 1 1 0 1 0 1 1 0\n",
            " 1 0 0 0 1 0 0 0 1 1 0 1 1 1 0 0 1 1 1 0 1 1 1 0 1 1 1 0 0 0 0 0 1 0 0 0 0\n",
            " 1 0 0 0 0 0 0 0 0 1 0 0 1 1 0 0 0 0 0 0 1 1 0 0 1 0 1 0 1 0 1 1 0 1 1 0 1\n",
            " 0 1 0 0 0 1 1 1 1 1 0 1 1 1 1 1 0 0 1 1 0 0 0 1 0 0 0 1 0 1 0 1 1 0 0 0 0\n",
            " 0 0 0 1 1 0 0 1 0 0 0 0 0 1 0 0 0 1 1 0 1 0 1 1 0 1 0 0 0 0 0]\n"
          ]
        }
      ]
    },
    {
      "cell_type": "code",
      "metadata": {
        "colab": {
          "base_uri": "https://localhost:8080/"
        },
        "id": "PF3XHTV0y-VL",
        "outputId": "870c9f54-b462-4ab1-dd94-4b9ff3e805aa"
      },
      "source": [
        "# Accuracy Score on test dataset\n",
        "accuracy_test = accuracy_score(test_y,predict_test)\n",
        "print('accuracy_score on test dataset : ', accuracy_test)"
      ],
      "execution_count": 44,
      "outputs": [
        {
          "output_type": "stream",
          "name": "stdout",
          "text": [
            "accuracy_score on test dataset :  0.770949720670391\n"
          ]
        }
      ]
    },
    {
      "cell_type": "markdown",
      "metadata": {
        "id": "UXwpaS8czDk7"
      },
      "source": [
        "**SVM model in Python**"
      ]
    },
    {
      "cell_type": "code",
      "metadata": {
        "id": "J0tBA1bvzE6y"
      },
      "source": [
        "# importing required libraries\n",
        "import pandas as pd\n",
        "from sklearn.svm import SVC\n",
        "from sklearn.metrics import accuracy_score"
      ],
      "execution_count": 45,
      "outputs": []
    },
    {
      "cell_type": "code",
      "metadata": {
        "id": "5lI2_fIjzIpe"
      },
      "source": [
        "# read the train and test dataset\n",
        "train_data = pd.read_csv('/content/sample_data/train-data.csv')\n",
        "test_data = pd.read_csv('/content/sample_data/test-data.csv')"
      ],
      "execution_count": 46,
      "outputs": []
    },
    {
      "cell_type": "code",
      "metadata": {
        "colab": {
          "base_uri": "https://localhost:8080/"
        },
        "id": "FA97v-ICzPWu",
        "outputId": "664d9e31-aef6-4473-e37f-d71df7023f03"
      },
      "source": [
        "# shape of the dataset\n",
        "print('Shape of training data :',train_data.shape)\n",
        "print('Shape of testing data :',test_data.shape)"
      ],
      "execution_count": 47,
      "outputs": [
        {
          "output_type": "stream",
          "name": "stdout",
          "text": [
            "Shape of training data : (712, 25)\n",
            "Shape of testing data : (179, 25)\n"
          ]
        }
      ]
    },
    {
      "cell_type": "code",
      "metadata": {
        "id": "FdtNyQFPzRWY"
      },
      "source": [
        "# Now, we need to predict the missing target variable in the test data\n",
        "# target variable - Survived\n",
        "\n",
        "# seperate the independent and target variable on training data\n",
        "train_x = train_data.drop(columns=['Survived'],axis=1)\n",
        "train_y = train_data['Survived']"
      ],
      "execution_count": 48,
      "outputs": []
    },
    {
      "cell_type": "code",
      "metadata": {
        "id": "aJxK1WK_zTU3"
      },
      "source": [
        "# seperate the independent and target variable on testing data\n",
        "test_x = test_data.drop(columns=['Survived'],axis=1)\n",
        "test_y = test_data['Survived']"
      ],
      "execution_count": 49,
      "outputs": []
    },
    {
      "cell_type": "code",
      "metadata": {
        "id": "UVcv_SdKzVS2"
      },
      "source": [
        "'''\n",
        "Create the object of the Support Vector Classifier model\n",
        "You can also add other parameters and test your code here\n",
        "Some parameters are : kernal and degree\n",
        "Documentation of sklearn Support Vector Classifier: \n",
        "\n",
        "https://scikit-learn.org/stable/modules/generated/sklearn.svm.SVC.html\n",
        "\n",
        " '''\n",
        "model = SVC()"
      ],
      "execution_count": 50,
      "outputs": []
    },
    {
      "cell_type": "code",
      "metadata": {
        "colab": {
          "base_uri": "https://localhost:8080/"
        },
        "id": "xK9BTEVtzX1P",
        "outputId": "ba5e16d0-8b98-45c5-eb44-a229c24da536"
      },
      "source": [
        "# fit the model with the training data\n",
        "model.fit(train_x,train_y)"
      ],
      "execution_count": 51,
      "outputs": [
        {
          "output_type": "execute_result",
          "data": {
            "text/plain": [
              "SVC()"
            ]
          },
          "metadata": {},
          "execution_count": 51
        }
      ]
    },
    {
      "cell_type": "code",
      "metadata": {
        "colab": {
          "base_uri": "https://localhost:8080/"
        },
        "id": "OEuLWLH-zZvP",
        "outputId": "aeebbb63-dfa8-45f2-8437-ca7cf8f3a0ad"
      },
      "source": [
        "# predict the target on the train dataset\n",
        "predict_train = model.predict(train_x)\n",
        "print('Target on train data',predict_train) "
      ],
      "execution_count": 52,
      "outputs": [
        {
          "output_type": "stream",
          "name": "stdout",
          "text": [
            "Target on train data [0 0 0 0 0 0 0 0 0 0 0 0 0 0 0 0 0 0 0 0 0 0 0 0 0 0 0 0 0 0 0 0 0 0 0 0 0\n",
            " 0 0 0 0 0 0 1 0 0 0 0 0 0 1 0 0 0 0 0 0 0 0 0 0 1 1 0 0 0 0 0 0 0 0 0 1 0\n",
            " 0 1 0 0 0 0 0 0 0 0 1 1 0 0 0 0 1 0 0 0 0 1 0 0 0 0 0 1 0 0 0 0 0 0 0 1 0\n",
            " 0 0 0 0 0 0 1 0 0 0 0 0 0 0 0 0 1 0 0 0 1 0 0 1 0 0 1 0 0 0 0 0 0 0 1 1 0\n",
            " 0 0 0 1 0 0 1 0 0 0 1 0 0 0 0 1 1 0 0 0 0 0 0 0 0 0 1 0 0 0 0 0 0 0 0 0 0\n",
            " 0 0 0 1 0 0 0 1 0 1 0 0 0 0 0 0 0 0 0 1 0 1 0 0 0 0 0 0 0 0 0 0 0 0 0 0 0\n",
            " 0 0 1 0 0 0 1 0 1 0 0 0 0 0 0 0 0 0 0 0 0 0 0 0 1 1 0 0 1 0 0 0 0 0 0 0 0\n",
            " 1 0 0 1 0 0 1 1 0 0 0 0 0 0 0 0 1 1 0 0 0 0 0 0 0 0 0 0 1 0 1 0 0 0 1 0 0\n",
            " 0 0 0 0 0 0 0 0 0 0 0 0 0 0 0 0 0 0 1 1 0 0 0 0 1 0 1 0 0 0 0 0 0 0 0 0 1\n",
            " 0 0 0 0 0 0 1 0 0 0 0 0 0 0 0 0 0 0 0 0 0 0 0 0 0 0 0 0 0 0 0 0 0 0 0 0 0\n",
            " 0 0 0 1 0 0 0 0 0 0 0 0 0 0 0 0 0 1 0 0 0 0 0 1 0 0 0 0 0 0 0 1 0 1 1 0 0\n",
            " 0 1 0 0 0 0 0 0 0 0 0 0 0 0 0 0 0 0 1 0 0 0 0 0 0 0 0 1 0 1 0 0 0 0 1 0 0\n",
            " 0 0 0 0 0 0 0 0 0 0 0 0 0 0 0 0 1 0 0 0 0 0 0 0 0 0 0 0 0 1 0 0 0 0 0 0 1\n",
            " 0 0 0 0 0 0 0 0 0 1 1 1 0 0 0 0 0 0 0 0 0 0 0 0 0 0 0 0 0 0 0 0 0 0 1 0 0\n",
            " 0 0 0 1 0 0 0 0 0 0 0 1 0 0 1 1 0 0 0 1 0 0 0 1 0 0 0 0 0 0 0 1 0 0 0 0 1\n",
            " 0 1 0 0 0 0 1 0 0 0 0 0 0 0 0 1 1 0 0 0 0 0 0 0 1 1 0 0 0 1 1 0 0 1 0 0 0\n",
            " 0 0 0 0 0 0 0 0 0 0 0 1 0 0 0 0 0 0 1 0 0 1 0 0 0 0 1 0 0 0 0 0 1 0 0 0 1\n",
            " 0 0 0 0 0 1 0 0 0 0 0 0 0 0 0 0 1 0 0 0 0 0 0 1 0 0 0 0 0 0 0 0 0 0 0 0 0\n",
            " 0 0 0 0 0 0 0 0 0 0 0 0 1 0 0 0 1 0 0 0 0 0 0 1 0 0 0 0 0 0 0 0 0 1 0 0 0\n",
            " 1 0 0 0 1 0 1 0 0]\n"
          ]
        }
      ]
    },
    {
      "cell_type": "code",
      "metadata": {
        "colab": {
          "base_uri": "https://localhost:8080/"
        },
        "id": "K7qdp9nPzcNv",
        "outputId": "c04dbe8b-adcc-4342-a817-df3919ffc171"
      },
      "source": [
        "# Accuray Score on train dataset\n",
        "accuracy_train = accuracy_score(train_y,predict_train)\n",
        "print('accuracy_score on train dataset : ', accuracy_train)"
      ],
      "execution_count": 53,
      "outputs": [
        {
          "output_type": "stream",
          "name": "stdout",
          "text": [
            "accuracy_score on train dataset :  0.651685393258427\n"
          ]
        }
      ]
    },
    {
      "cell_type": "code",
      "metadata": {
        "colab": {
          "base_uri": "https://localhost:8080/"
        },
        "id": "1fRb_zAxzfBB",
        "outputId": "c9251e1c-36d1-404e-b9d4-04c87066055b"
      },
      "source": [
        "# predict the target on the test dataset\n",
        "predict_test = model.predict(test_x)\n",
        "print('Target on test data',predict_test) "
      ],
      "execution_count": 55,
      "outputs": [
        {
          "output_type": "stream",
          "name": "stdout",
          "text": [
            "Target on test data [0 0 0 1 1 0 0 0 0 0 0 0 0 0 0 0 0 0 0 0 0 0 0 0 0 0 0 1 0 1 0 0 0 0 0 0 0\n",
            " 1 0 0 0 0 0 0 0 0 0 0 0 1 0 0 0 0 0 1 0 0 1 0 0 1 0 0 0 0 0 0 0 0 0 0 0 0\n",
            " 0 0 0 0 0 0 0 0 1 1 0 0 1 0 0 0 0 0 0 0 0 0 0 0 0 0 0 0 0 0 0 1 0 1 0 0 0\n",
            " 0 1 0 0 1 0 0 0 1 1 0 1 0 0 0 1 0 0 0 0 0 0 1 0 0 0 0 1 0 0 0 0 0 0 0 0 0\n",
            " 0 0 0 0 1 0 0 0 0 0 0 0 0 0 0 0 0 0 0 0 0 0 0 0 0 0 0 0 0 0 0]\n"
          ]
        }
      ]
    },
    {
      "cell_type": "code",
      "metadata": {
        "colab": {
          "base_uri": "https://localhost:8080/"
        },
        "id": "FpMShx4Xzg-p",
        "outputId": "a55f72c9-03e3-4cbe-ef6e-034a62b2d7fd"
      },
      "source": [
        "# Accuracy Score on test dataset\n",
        "accuracy_test = accuracy_score(test_y,predict_test)\n",
        "print('accuracy_score on test dataset : ', accuracy_test)"
      ],
      "execution_count": 56,
      "outputs": [
        {
          "output_type": "stream",
          "name": "stdout",
          "text": [
            "accuracy_score on test dataset :  0.7262569832402235\n"
          ]
        }
      ]
    },
    {
      "cell_type": "markdown",
      "metadata": {
        "id": "GErUXXjDzp6c"
      },
      "source": [
        "**Naive Bayes classification model**"
      ]
    },
    {
      "cell_type": "code",
      "metadata": {
        "id": "aW_9_MggzrGa"
      },
      "source": [
        "# importing required libraries\n",
        "import pandas as pd\n",
        "from sklearn.naive_bayes import GaussianNB\n",
        "from sklearn.metrics import accuracy_score"
      ],
      "execution_count": 57,
      "outputs": []
    },
    {
      "cell_type": "code",
      "metadata": {
        "id": "bNw4TwrNzuaE"
      },
      "source": [
        "# read the train and test dataset\n",
        "train_data = pd.read_csv('/content/sample_data/train-data.csv')\n",
        "test_data = pd.read_csv('/content/sample_data/test-data.csv')"
      ],
      "execution_count": 58,
      "outputs": []
    },
    {
      "cell_type": "code",
      "metadata": {
        "colab": {
          "base_uri": "https://localhost:8080/"
        },
        "id": "I6yMnywn1nKR",
        "outputId": "edb6cf9a-0b1b-4d18-fcbf-b19e46d8865b"
      },
      "source": [
        "# shape of the dataset\n",
        "print('Shape of training data :',train_data.shape)\n",
        "print('Shape of testing data :',test_data.shape)"
      ],
      "execution_count": 59,
      "outputs": [
        {
          "output_type": "stream",
          "name": "stdout",
          "text": [
            "Shape of training data : (712, 25)\n",
            "Shape of testing data : (179, 25)\n"
          ]
        }
      ]
    },
    {
      "cell_type": "code",
      "metadata": {
        "id": "t6zPCwxB1o1A"
      },
      "source": [
        "# Now, we need to predict the missing target variable in the test data\n",
        "# target variable - Survived\n",
        "\n",
        "# seperate the independent and target variable on training data\n",
        "train_x = train_data.drop(columns=['Survived'],axis=1)\n",
        "train_y = train_data['Survived']"
      ],
      "execution_count": 60,
      "outputs": []
    },
    {
      "cell_type": "code",
      "metadata": {
        "id": "up_dJRf41qiv"
      },
      "source": [
        "# seperate the independent and target variable on testing data\n",
        "test_x = test_data.drop(columns=['Survived'],axis=1)\n",
        "test_y = test_data['Survived']"
      ],
      "execution_count": 61,
      "outputs": []
    },
    {
      "cell_type": "code",
      "metadata": {
        "id": "PnrNozPK1sXR"
      },
      "source": [
        "'''\n",
        "Create the object of the Naive Bayes model\n",
        "You can also add other parameters and test your code here\n",
        "Some parameters are : var_smoothing\n",
        "Documentation of sklearn GaussianNB: \n",
        "\n",
        "https://scikit-learn.org/stable/modules/generated/sklearn.naive_bayes.GaussianNB.html\n",
        "\n",
        " '''\n",
        "model = GaussianNB()"
      ],
      "execution_count": 62,
      "outputs": []
    },
    {
      "cell_type": "code",
      "metadata": {
        "colab": {
          "base_uri": "https://localhost:8080/"
        },
        "id": "dhT5OV621u9w",
        "outputId": "77c71f31-340a-48bd-eade-e5355de29d20"
      },
      "source": [
        "# fit the model with the training data\n",
        "model.fit(train_x,train_y)"
      ],
      "execution_count": 63,
      "outputs": [
        {
          "output_type": "execute_result",
          "data": {
            "text/plain": [
              "GaussianNB()"
            ]
          },
          "metadata": {},
          "execution_count": 63
        }
      ]
    },
    {
      "cell_type": "code",
      "metadata": {
        "colab": {
          "base_uri": "https://localhost:8080/"
        },
        "id": "XaCRjyVG1wv8",
        "outputId": "cb6d07a3-f2e6-481d-808e-cf41d081bdd2"
      },
      "source": [
        "# predict the target on the train dataset\n",
        "predict_train = model.predict(train_x)\n",
        "print('Target on train data',predict_train) "
      ],
      "execution_count": 64,
      "outputs": [
        {
          "output_type": "stream",
          "name": "stdout",
          "text": [
            "Target on train data [1 1 1 1 1 1 1 1 1 1 1 1 0 1 1 1 1 0 1 1 1 1 1 1 1 1 1 1 1 1 1 0 1 1 1 1 1\n",
            " 1 1 1 1 1 1 1 1 1 1 1 1 0 1 1 1 1 1 1 1 1 1 1 1 1 1 1 1 1 1 1 1 1 1 1 0 1\n",
            " 1 1 1 1 1 1 1 1 1 1 1 0 1 1 1 0 1 1 0 1 1 1 0 1 1 1 1 1 1 1 1 1 1 1 1 1 1\n",
            " 1 0 1 1 1 1 0 1 1 1 0 1 1 1 1 1 1 1 1 1 1 1 1 1 0 1 0 1 0 1 1 1 1 1 1 1 1\n",
            " 1 1 1 1 1 1 1 1 1 1 1 1 1 1 1 1 1 1 1 1 1 1 1 1 1 1 1 1 1 1 1 0 1 1 1 1 1\n",
            " 1 1 1 1 1 1 1 0 1 1 1 1 1 1 1 1 1 1 1 1 1 1 1 1 1 1 1 1 1 1 1 1 1 1 1 1 1\n",
            " 1 1 1 0 1 1 1 1 1 1 1 1 1 1 1 1 1 1 0 1 1 1 1 1 1 1 1 1 0 1 1 1 0 1 1 1 1\n",
            " 1 1 1 1 1 1 1 1 1 1 1 1 1 1 1 1 1 1 1 1 1 1 1 1 0 1 1 0 1 1 1 0 1 1 1 0 1\n",
            " 1 1 1 1 0 1 1 1 1 1 1 1 1 1 1 1 1 1 1 1 1 1 1 1 1 1 1 1 1 1 1 1 1 1 1 1 1\n",
            " 1 1 1 1 1 1 1 1 1 1 0 1 1 1 1 1 1 1 1 1 1 1 1 1 1 1 1 1 1 1 1 1 1 1 1 1 1\n",
            " 1 1 1 1 1 1 1 0 1 1 1 1 1 1 1 1 1 1 1 1 1 0 1 1 1 1 1 1 1 1 1 1 1 1 1 1 1\n",
            " 0 1 1 1 1 1 1 1 1 1 1 1 1 1 1 1 1 1 1 1 1 1 1 1 1 1 1 1 1 1 1 1 1 1 1 1 0\n",
            " 1 1 1 1 1 1 1 1 1 1 1 1 1 1 1 1 1 0 1 1 1 1 1 1 1 1 1 1 1 1 1 1 1 1 1 1 0\n",
            " 1 1 1 1 1 1 1 1 1 1 1 1 1 1 1 1 1 1 1 1 1 1 1 1 1 1 1 0 1 1 1 1 1 1 1 1 1\n",
            " 1 1 1 0 1 1 1 1 1 1 1 1 1 1 1 1 1 1 1 1 0 0 1 1 1 1 1 1 1 1 1 1 0 1 1 1 1\n",
            " 1 1 1 1 1 1 0 1 1 1 1 1 1 1 1 1 0 1 1 1 1 1 1 1 1 1 1 1 1 1 1 1 1 1 1 1 1\n",
            " 1 1 1 0 1 1 1 1 1 1 1 1 1 1 1 1 1 1 1 1 1 1 0 1 1 1 1 1 1 1 1 1 1 1 1 0 1\n",
            " 0 1 1 1 1 1 1 1 1 1 1 1 1 1 1 1 1 1 0 1 1 1 1 1 1 1 1 1 1 1 1 1 1 1 1 1 1\n",
            " 1 1 1 1 1 1 1 1 1 0 1 0 1 1 1 1 1 1 1 1 1 1 1 1 1 1 1 1 1 1 1 1 1 1 1 1 1\n",
            " 1 1 1 1 1 1 1 1 1]\n"
          ]
        }
      ]
    },
    {
      "cell_type": "code",
      "metadata": {
        "colab": {
          "base_uri": "https://localhost:8080/"
        },
        "id": "R1QaE3lj1ydV",
        "outputId": "5763ccad-ca5b-4ebf-8d26-a7e854bf4dc8"
      },
      "source": [
        "# Accuray Score on train dataset\n",
        "accuracy_train = accuracy_score(train_y,predict_train)\n",
        "print('accuracy_score on train dataset : ', accuracy_train)"
      ],
      "execution_count": 65,
      "outputs": [
        {
          "output_type": "stream",
          "name": "stdout",
          "text": [
            "accuracy_score on train dataset :  0.44803370786516855\n"
          ]
        }
      ]
    },
    {
      "cell_type": "code",
      "metadata": {
        "colab": {
          "base_uri": "https://localhost:8080/"
        },
        "id": "r7zntl3w10Qm",
        "outputId": "06218578-9f02-4ec5-b9b9-c80e112d9443"
      },
      "source": [
        "# predict the target on the test dataset\n",
        "predict_test = model.predict(test_x)\n",
        "print('Target on test data',predict_test) "
      ],
      "execution_count": 66,
      "outputs": [
        {
          "output_type": "stream",
          "name": "stdout",
          "text": [
            "Target on test data [1 1 1 1 1 1 1 1 1 1 1 1 1 1 1 1 0 0 1 1 1 1 1 1 1 1 1 1 1 1 1 1 1 1 1 1 1\n",
            " 0 1 1 1 1 1 0 1 1 1 1 1 1 1 1 1 1 1 1 0 1 1 1 1 1 1 1 1 1 1 1 1 0 1 1 1 1\n",
            " 1 1 1 0 1 1 1 1 1 1 1 1 1 1 1 1 1 1 1 1 1 1 1 1 1 1 1 1 1 1 1 1 1 1 1 1 1\n",
            " 1 1 1 1 1 1 1 1 1 1 0 1 1 0 1 1 1 1 1 1 1 1 1 1 1 1 1 1 1 1 1 1 1 1 1 1 1\n",
            " 1 1 1 1 1 1 1 1 1 1 1 1 1 1 1 1 1 1 1 1 1 1 1 1 1 1 1 1 1 1 1]\n"
          ]
        }
      ]
    },
    {
      "cell_type": "code",
      "metadata": {
        "colab": {
          "base_uri": "https://localhost:8080/"
        },
        "id": "ptWjjMJw110-",
        "outputId": "843b165a-d7f2-4e9b-fb9f-7f984d07c2d1"
      },
      "source": [
        "# Accuracy Score on test dataset\n",
        "accuracy_test = accuracy_score(test_y,predict_test)\n",
        "print('accuracy_score on test dataset : ', accuracy_test)"
      ],
      "execution_count": 67,
      "outputs": [
        {
          "output_type": "stream",
          "name": "stdout",
          "text": [
            "accuracy_score on test dataset :  0.35195530726256985\n"
          ]
        }
      ]
    },
    {
      "cell_type": "markdown",
      "metadata": {
        "id": "KqlA3qn-2CwO"
      },
      "source": [
        "**kNN (k- Nearest Neighbors)**"
      ]
    },
    {
      "cell_type": "code",
      "metadata": {
        "id": "N06Vp3Iw2GYg"
      },
      "source": [
        "# importing required libraries\n",
        "import pandas as pd\n",
        "from sklearn.neighbors import KNeighborsClassifier\n",
        "from sklearn.metrics import accuracy_score"
      ],
      "execution_count": 68,
      "outputs": []
    },
    {
      "cell_type": "code",
      "metadata": {
        "id": "Ch0kiIF62JfI"
      },
      "source": [
        "# read the train and test dataset\n",
        "train_data = pd.read_csv('/content/sample_data/train-data.csv')\n",
        "test_data = pd.read_csv('/content/sample_data/test-data.csv')"
      ],
      "execution_count": 69,
      "outputs": []
    },
    {
      "cell_type": "code",
      "metadata": {
        "colab": {
          "base_uri": "https://localhost:8080/"
        },
        "id": "TzOrVEDz279d",
        "outputId": "1db82c89-46a9-427f-8784-095e206aa212"
      },
      "source": [
        "# shape of the dataset\n",
        "print('Shape of training data :',train_data.shape)\n",
        "print('Shape of testing data :',test_data.shape)"
      ],
      "execution_count": 70,
      "outputs": [
        {
          "output_type": "stream",
          "name": "stdout",
          "text": [
            "Shape of training data : (712, 25)\n",
            "Shape of testing data : (179, 25)\n"
          ]
        }
      ]
    },
    {
      "cell_type": "code",
      "metadata": {
        "id": "cT2buSwW29iV"
      },
      "source": [
        "# Now, we need to predict the missing target variable in the test data\n",
        "# target variable - Survived\n",
        "\n",
        "# seperate the independent and target variable on training data\n",
        "train_x = train_data.drop(columns=['Survived'],axis=1)\n",
        "train_y = train_data['Survived']"
      ],
      "execution_count": 71,
      "outputs": []
    },
    {
      "cell_type": "code",
      "metadata": {
        "id": "FlylyAJw2-6X"
      },
      "source": [
        "# seperate the independent and target variable on testing data\n",
        "test_x = test_data.drop(columns=['Survived'],axis=1)\n",
        "test_y = test_data['Survived']"
      ],
      "execution_count": 72,
      "outputs": []
    },
    {
      "cell_type": "code",
      "metadata": {
        "id": "aaJgh8i53BeZ"
      },
      "source": [
        "'''\n",
        "Create the object of the K-Nearest Neighbor model\n",
        "You can also add other parameters and test your code here\n",
        "Some parameters are : n_neighbors, leaf_size\n",
        "Documentation of sklearn K-Neighbors Classifier: \n",
        "\n",
        "https://scikit-learn.org/stable/modules/generated/sklearn.neighbors.KNeighborsClassifier.html\n",
        "\n",
        " '''\n",
        "model = KNeighborsClassifier()  "
      ],
      "execution_count": 73,
      "outputs": []
    },
    {
      "cell_type": "code",
      "metadata": {
        "colab": {
          "base_uri": "https://localhost:8080/"
        },
        "id": "1mDSoSNu3M-n",
        "outputId": "3834682c-86d3-45db-d56d-cf7ab85e724a"
      },
      "source": [
        "# fit the model with the training data\n",
        "model.fit(train_x,train_y)"
      ],
      "execution_count": 74,
      "outputs": [
        {
          "output_type": "execute_result",
          "data": {
            "text/plain": [
              "KNeighborsClassifier()"
            ]
          },
          "metadata": {},
          "execution_count": 74
        }
      ]
    },
    {
      "cell_type": "code",
      "metadata": {
        "colab": {
          "base_uri": "https://localhost:8080/"
        },
        "id": "8MzW_vW23OmS",
        "outputId": "74155191-6f64-4d9b-e161-14b60fbc3338"
      },
      "source": [
        "# Number of Neighbors used to predict the target\n",
        "print('\\nThe number of neighbors used to predict the target : ',model.n_neighbors)"
      ],
      "execution_count": 75,
      "outputs": [
        {
          "output_type": "stream",
          "name": "stdout",
          "text": [
            "\n",
            "The number of neighbors used to predict the target :  5\n"
          ]
        }
      ]
    },
    {
      "cell_type": "code",
      "metadata": {
        "colab": {
          "base_uri": "https://localhost:8080/"
        },
        "id": "NE7l8fuc3Qdx",
        "outputId": "c98b0e76-8100-45e8-ccea-58adee9fc819"
      },
      "source": [
        "# predict the target on the train dataset\n",
        "predict_train = model.predict(train_x)\n",
        "print('\\nTarget on train data',predict_train) "
      ],
      "execution_count": 76,
      "outputs": [
        {
          "output_type": "stream",
          "name": "stdout",
          "text": [
            "\n",
            "Target on train data [0 1 1 0 0 0 0 0 0 0 0 1 0 1 0 0 0 0 0 0 0 0 1 0 0 0 0 0 0 1 1 0 1 0 0 0 0\n",
            " 1 0 0 0 0 0 1 1 1 0 0 1 0 0 0 0 0 0 0 0 0 1 0 1 1 1 1 0 1 0 1 0 0 0 0 0 0\n",
            " 0 1 1 0 0 0 0 0 1 0 1 0 0 0 1 1 1 0 1 0 0 0 0 0 1 0 0 1 0 1 1 1 0 1 0 1 0\n",
            " 0 1 1 0 1 0 0 1 0 0 0 0 1 0 0 1 1 0 0 1 0 0 0 1 1 0 1 0 0 0 1 0 0 0 1 0 0\n",
            " 0 0 0 1 1 0 0 1 0 0 1 0 1 0 0 1 1 0 1 1 0 0 0 0 0 0 0 0 0 0 0 0 0 1 0 0 1\n",
            " 0 0 1 1 1 0 0 1 0 1 0 0 0 1 1 1 0 0 0 1 1 1 1 0 0 0 0 1 0 0 0 0 0 0 0 0 0\n",
            " 0 0 1 0 0 0 1 0 1 0 0 0 0 1 0 1 0 0 0 0 0 1 0 0 1 0 0 0 1 1 0 1 0 0 0 0 0\n",
            " 1 1 1 1 1 0 1 1 1 1 0 0 0 0 0 1 1 1 1 0 0 0 0 0 0 1 1 0 0 0 1 0 0 0 1 0 0\n",
            " 0 0 0 0 0 1 1 0 0 0 1 0 0 0 0 0 1 1 1 1 0 0 0 0 1 0 1 0 0 0 1 1 0 1 0 0 1\n",
            " 1 0 0 1 0 0 1 0 0 0 0 0 1 0 0 0 1 0 0 0 0 1 1 1 1 0 0 0 0 1 0 0 0 1 0 1 0\n",
            " 0 0 0 1 0 0 1 0 0 1 0 1 0 0 1 0 0 1 0 0 1 1 1 1 0 0 1 1 0 1 0 1 0 1 1 1 1\n",
            " 0 1 1 1 0 0 0 0 0 0 1 0 1 0 0 1 0 0 1 1 1 0 0 0 1 0 1 0 0 1 0 0 0 0 1 0 0\n",
            " 0 1 0 0 0 0 0 0 1 0 0 1 0 0 1 0 1 0 0 0 0 0 0 0 0 0 0 0 1 1 1 0 0 0 0 1 0\n",
            " 0 0 0 1 1 0 0 0 0 1 1 0 0 0 1 0 1 1 1 0 0 0 0 0 0 0 0 0 0 0 1 0 0 0 1 1 1\n",
            " 1 0 0 0 0 1 0 0 0 1 1 0 0 0 1 1 1 0 0 0 0 0 1 1 0 0 0 0 1 1 1 1 0 1 0 0 0\n",
            " 0 1 1 1 1 0 0 1 0 0 0 0 0 0 0 1 0 0 0 1 0 0 0 0 1 1 0 0 0 1 1 1 0 1 1 1 0\n",
            " 1 0 0 0 0 1 0 1 0 1 0 1 1 0 0 1 0 1 1 0 1 0 0 0 1 0 1 1 0 0 0 0 1 0 0 0 1\n",
            " 0 0 0 1 0 1 0 1 0 0 1 1 0 0 0 0 1 0 0 0 0 0 0 1 1 1 0 1 0 0 0 1 0 1 0 0 0\n",
            " 1 1 0 0 0 0 0 1 0 0 1 0 1 0 0 1 1 0 0 0 1 0 1 0 0 1 1 0 0 0 1 0 0 1 0 1 0\n",
            " 1 0 1 1 1 0 0 1 0]\n"
          ]
        }
      ]
    },
    {
      "cell_type": "code",
      "metadata": {
        "colab": {
          "base_uri": "https://localhost:8080/"
        },
        "id": "xp622cjp3SUe",
        "outputId": "f7a6ce9b-0082-44f3-e90e-9daa985c001b"
      },
      "source": [
        "# Accuray Score on train dataset\n",
        "accuracy_train = accuracy_score(train_y,predict_train)\n",
        "print('accuracy_score on train dataset : ', accuracy_train)"
      ],
      "execution_count": 77,
      "outputs": [
        {
          "output_type": "stream",
          "name": "stdout",
          "text": [
            "accuracy_score on train dataset :  0.8047752808988764\n"
          ]
        }
      ]
    },
    {
      "cell_type": "code",
      "metadata": {
        "colab": {
          "base_uri": "https://localhost:8080/"
        },
        "id": "EQeYJR2I3T6I",
        "outputId": "a6d60d02-6615-49ec-af59-ee2409271226"
      },
      "source": [
        "# predict the target on the test dataset\n",
        "predict_test = model.predict(test_x)\n",
        "print('Target on test data',predict_test) "
      ],
      "execution_count": 78,
      "outputs": [
        {
          "output_type": "stream",
          "name": "stdout",
          "text": [
            "Target on test data [0 0 0 1 1 0 0 0 0 0 0 0 1 0 0 0 0 0 0 0 0 0 0 0 1 0 0 1 0 0 0 0 1 0 1 0 0\n",
            " 1 0 0 0 1 0 0 0 1 0 0 1 1 1 0 0 0 1 1 0 0 0 0 0 1 1 0 0 0 0 0 0 0 1 0 0 0\n",
            " 1 0 0 0 0 0 0 0 0 0 0 0 1 1 1 0 0 0 1 0 1 0 0 0 1 0 1 1 0 1 1 0 0 1 0 0 1\n",
            " 0 1 0 0 1 0 1 0 1 1 0 1 0 0 1 1 0 0 1 0 0 0 1 1 0 0 0 1 0 1 0 1 0 0 0 0 0\n",
            " 0 0 0 0 1 0 0 0 0 1 0 0 0 1 0 0 0 1 1 0 1 0 1 0 0 1 0 0 0 0 0]\n"
          ]
        }
      ]
    },
    {
      "cell_type": "code",
      "metadata": {
        "colab": {
          "base_uri": "https://localhost:8080/"
        },
        "id": "w1adNFog3V4n",
        "outputId": "72258e66-c124-454b-f4c0-cd9a2ab755c9"
      },
      "source": [
        "# Accuracy Score on test dataset\n",
        "accuracy_test = accuracy_score(test_y,predict_test)\n",
        "print('accuracy_score on test dataset : ', accuracy_test)"
      ],
      "execution_count": 79,
      "outputs": [
        {
          "output_type": "stream",
          "name": "stdout",
          "text": [
            "accuracy_score on test dataset :  0.7262569832402235\n"
          ]
        }
      ]
    },
    {
      "cell_type": "markdown",
      "metadata": {
        "id": "XUKgzr853aEG"
      },
      "source": [
        "**K-Means**"
      ]
    },
    {
      "cell_type": "code",
      "metadata": {
        "id": "Irso8QIm3bB1"
      },
      "source": [
        "# importing required libraries\n",
        "import pandas as pd\n",
        "from sklearn.cluster import KMeans"
      ],
      "execution_count": 80,
      "outputs": []
    },
    {
      "cell_type": "code",
      "metadata": {
        "id": "TaJ_j5XS3e4m"
      },
      "source": [
        "# read the train and test dataset\n",
        "train_data = pd.read_csv('/content/sample_data/train-data.csv')\n",
        "test_data = pd.read_csv('/content/sample_data/test-data.csv')"
      ],
      "execution_count": 81,
      "outputs": []
    },
    {
      "cell_type": "code",
      "metadata": {
        "colab": {
          "base_uri": "https://localhost:8080/"
        },
        "id": "uD6-4IhJ3lZI",
        "outputId": "16110431-3fee-4045-a52f-b0afb74955b7"
      },
      "source": [
        "# shape of the dataset\n",
        "print('Shape of training data :',train_data.shape)\n",
        "print('Shape of testing data :',test_data.shape)"
      ],
      "execution_count": 82,
      "outputs": [
        {
          "output_type": "stream",
          "name": "stdout",
          "text": [
            "Shape of training data : (712, 25)\n",
            "Shape of testing data : (179, 25)\n"
          ]
        }
      ]
    },
    {
      "cell_type": "code",
      "metadata": {
        "id": "F95OJhFQ3peO"
      },
      "source": [
        "# Now, we need to divide the training data into differernt clusters\n",
        "# and predict in which cluster a particular data point belongs.  \n",
        "\n",
        "'''\n",
        "Create the object of the K-Means model\n",
        "You can also add other parameters and test your code here\n",
        "Some parameters are : n_clusters and max_iter\n",
        "Documentation of sklearn KMeans: \n",
        "\n",
        "https://scikit-learn.org/stable/modules/generated/sklearn.cluster.KMeans.html\n",
        " '''\n",
        "\n",
        "model = KMeans()"
      ],
      "execution_count": 83,
      "outputs": []
    },
    {
      "cell_type": "code",
      "metadata": {
        "colab": {
          "base_uri": "https://localhost:8080/"
        },
        "id": "iIQxYpAg3sCw",
        "outputId": "2ebcb0ea-851d-443c-cceb-11edb539fe6b"
      },
      "source": [
        "# fit the model with the training data\n",
        "model.fit(train_data)"
      ],
      "execution_count": 84,
      "outputs": [
        {
          "output_type": "execute_result",
          "data": {
            "text/plain": [
              "KMeans()"
            ]
          },
          "metadata": {},
          "execution_count": 84
        }
      ]
    },
    {
      "cell_type": "code",
      "metadata": {
        "colab": {
          "base_uri": "https://localhost:8080/"
        },
        "id": "wro-5Lcc3tjL",
        "outputId": "bfdfb25e-aa56-4f1e-d451-bb2e8fdb9d41"
      },
      "source": [
        "# Number of Clusters\n",
        "print('\\nDefault number of Clusters : ',model.n_clusters)"
      ],
      "execution_count": 85,
      "outputs": [
        {
          "output_type": "stream",
          "name": "stdout",
          "text": [
            "\n",
            "Default number of Clusters :  8\n"
          ]
        }
      ]
    },
    {
      "cell_type": "code",
      "metadata": {
        "colab": {
          "base_uri": "https://localhost:8080/"
        },
        "id": "dVDDY2fB3vHH",
        "outputId": "90039023-4f39-4437-967c-c6f39f2fa4f7"
      },
      "source": [
        "# predict the clusters on the train dataset\n",
        "predict_train = model.predict(train_data)\n",
        "print('\\nCLusters on train data',predict_train) "
      ],
      "execution_count": 86,
      "outputs": [
        {
          "output_type": "stream",
          "name": "stdout",
          "text": [
            "\n",
            "CLusters on train data [1 1 1 1 1 1 5 1 1 5 6 1 7 7 6 5 5 7 5 1 1 5 5 5 1 1 1 0 1 1 0 5 1 1 5 1 1\n",
            " 1 1 1 5 1 1 0 1 6 1 1 0 6 2 1 1 1 7 0 1 1 7 1 1 2 2 7 6 0 1 6 7 5 1 1 0 1\n",
            " 1 4 7 5 1 1 1 6 0 5 4 0 5 1 1 7 0 6 7 7 5 0 6 1 7 5 1 0 1 7 6 7 1 1 6 0 6\n",
            " 1 7 6 1 1 5 0 1 1 7 7 1 7 1 1 0 3 1 5 1 4 5 1 0 7 5 2 1 6 1 1 5 5 1 2 4 1\n",
            " 1 1 5 0 6 1 4 6 5 6 0 1 1 1 1 0 0 1 1 7 0 1 1 5 1 6 0 1 6 1 1 6 1 1 1 1 1\n",
            " 1 0 5 4 6 1 1 2 1 0 1 1 1 0 6 7 1 1 5 0 7 0 6 1 1 1 5 6 1 1 1 1 1 1 1 6 1\n",
            " 1 1 0 6 1 1 2 1 0 6 0 1 1 1 7 1 1 1 7 5 5 1 1 7 2 0 1 1 2 5 1 7 7 6 1 5 7\n",
            " 0 6 1 0 6 6 4 0 0 6 6 6 0 6 1 5 0 0 1 1 1 1 1 5 7 1 0 7 4 5 4 7 5 1 0 7 1\n",
            " 1 1 5 5 7 1 1 5 6 5 7 1 5 1 1 1 7 1 4 4 1 1 6 1 0 6 4 6 5 1 1 6 1 1 1 6 2\n",
            " 1 5 6 6 5 1 0 6 5 1 6 5 1 1 1 1 1 1 7 5 1 7 6 1 7 1 1 1 1 1 1 6 1 6 1 5 1\n",
            " 1 1 1 4 1 5 6 6 1 0 6 6 1 1 7 1 1 4 1 1 0 7 6 0 1 5 5 7 1 1 1 4 1 4 0 7 1\n",
            " 7 3 1 1 1 5 1 1 1 1 6 1 1 5 1 7 1 5 4 5 5 0 5 1 6 1 1 4 1 0 1 1 1 1 0 1 7\n",
            " 1 1 1 1 1 7 1 1 7 1 5 6 6 5 6 5 0 7 1 1 6 1 6 1 5 1 1 1 1 4 7 1 1 6 5 6 0\n",
            " 5 1 7 6 7 6 1 1 6 0 4 0 6 1 0 1 1 5 1 7 1 1 1 6 1 1 1 7 6 1 7 1 1 1 3 0 6\n",
            " 1 1 1 0 1 1 5 1 1 1 6 0 1 1 0 4 1 1 1 0 6 7 1 0 6 1 6 5 7 7 1 0 7 6 1 1 0\n",
            " 1 4 6 1 6 1 0 1 1 1 7 1 6 1 1 2 0 1 0 6 1 1 6 1 4 4 1 6 1 0 4 6 1 0 6 0 1\n",
            " 1 1 5 7 5 7 6 7 1 1 1 2 1 1 1 1 5 0 0 0 1 0 7 1 1 1 0 5 7 5 1 1 0 1 6 6 0\n",
            " 7 1 1 0 1 0 1 6 1 1 6 5 1 1 6 1 0 0 7 5 1 1 5 4 1 0 5 7 1 1 5 1 6 7 1 1 1\n",
            " 6 1 1 1 6 1 1 1 1 6 7 6 0 1 1 7 2 1 5 1 6 1 1 0 1 1 0 1 1 1 1 5 6 0 1 1 1\n",
            " 0 1 1 1 0 1 2 1 1]\n"
          ]
        }
      ]
    },
    {
      "cell_type": "code",
      "metadata": {
        "colab": {
          "base_uri": "https://localhost:8080/"
        },
        "id": "llwqNpqn3w6X",
        "outputId": "2ee4866f-4808-479c-864e-dfd7e7592979"
      },
      "source": [
        "# predict the target on the test dataset\n",
        "predict_test = model.predict(test_data)\n",
        "print('Clusters on test data',predict_test) "
      ],
      "execution_count": 87,
      "outputs": [
        {
          "output_type": "stream",
          "name": "stdout",
          "text": [
            "Clusters on test data [1 1 1 4 0 1 1 5 1 1 1 7 6 6 1 1 6 7 1 1 1 1 6 1 7 1 1 0 5 0 0 1 7 1 1 1 1\n",
            " 2 1 1 5 6 1 1 0 6 1 1 0 0 0 6 1 0 7 4 7 1 2 6 1 0 1 1 5 1 6 1 1 6 7 5 1 5\n",
            " 1 1 1 7 6 1 1 1 0 4 1 1 4 5 1 1 1 1 6 1 0 1 1 6 0 1 7 0 1 5 1 0 1 4 6 6 6\n",
            " 5 0 1 1 0 5 6 1 0 4 7 0 1 1 1 0 6 1 7 6 1 1 4 6 1 1 6 2 5 1 1 6 5 1 1 1 5\n",
            " 1 5 1 5 0 5 1 1 1 6 1 1 1 1 6 1 1 6 0 1 1 1 1 7 5 1 5 1 5 5 6]\n"
          ]
        }
      ]
    },
    {
      "cell_type": "code",
      "metadata": {
        "id": "FkwyEs_p3yZb"
      },
      "source": [
        "# Now, we will train a model with n_cluster = 3\n",
        "model_n3 = KMeans(n_clusters=3)"
      ],
      "execution_count": 88,
      "outputs": []
    },
    {
      "cell_type": "code",
      "metadata": {
        "colab": {
          "base_uri": "https://localhost:8080/"
        },
        "id": "OdDPYLuk30Io",
        "outputId": "27778428-87b2-465c-cfaa-3a9138f680da"
      },
      "source": [
        "# fit the model with the training data\n",
        "model_n3.fit(train_data)"
      ],
      "execution_count": 89,
      "outputs": [
        {
          "output_type": "execute_result",
          "data": {
            "text/plain": [
              "KMeans(n_clusters=3)"
            ]
          },
          "metadata": {},
          "execution_count": 89
        }
      ]
    },
    {
      "cell_type": "code",
      "metadata": {
        "colab": {
          "base_uri": "https://localhost:8080/"
        },
        "id": "APdUVV_x314m",
        "outputId": "8e59be53-983a-4594-f085-d6eecccf560b"
      },
      "source": [
        "# Number of Clusters\n",
        "print('\\nNumber of Clusters : ',model_n3.n_clusters)"
      ],
      "execution_count": 90,
      "outputs": [
        {
          "output_type": "stream",
          "name": "stdout",
          "text": [
            "\n",
            "Number of Clusters :  3\n"
          ]
        }
      ]
    },
    {
      "cell_type": "code",
      "metadata": {
        "colab": {
          "base_uri": "https://localhost:8080/"
        },
        "id": "LxVMdZIr33gt",
        "outputId": "67b3b746-ccb3-4303-9a35-9de7ea1dc0c6"
      },
      "source": [
        "# predict the clusters on the train dataset\n",
        "predict_train_3 = model_n3.predict(train_data)\n",
        "print('\\nCLusters on train data',predict_train_3) "
      ],
      "execution_count": 91,
      "outputs": [
        {
          "output_type": "stream",
          "name": "stdout",
          "text": [
            "\n",
            "CLusters on train data [0 0 0 0 0 0 0 0 0 0 0 0 0 0 0 0 0 0 0 0 0 0 0 0 0 0 0 2 0 0 2 0 0 0 0 0 0\n",
            " 0 0 0 0 0 0 2 0 0 0 0 2 0 1 0 0 0 0 2 0 0 0 0 0 1 1 0 0 2 0 0 0 0 0 0 2 0\n",
            " 0 2 0 0 0 0 0 0 2 0 2 2 0 0 0 0 2 0 0 0 0 2 0 0 0 0 0 2 0 0 0 0 0 0 0 2 0\n",
            " 0 0 0 0 0 0 2 0 0 0 0 0 0 0 0 2 1 0 0 0 2 0 0 2 0 0 1 0 0 0 0 0 0 0 1 2 0\n",
            " 0 0 0 2 0 0 2 0 0 0 2 0 0 0 0 2 2 0 0 0 2 0 0 0 0 0 2 0 0 0 0 0 0 0 0 0 0\n",
            " 0 2 0 2 0 0 0 1 0 2 0 0 0 2 0 0 0 0 0 2 0 2 0 0 0 0 0 0 0 0 0 0 0 0 0 0 0\n",
            " 0 0 2 0 0 0 1 0 2 0 2 0 0 0 0 0 0 0 0 0 0 0 0 0 1 2 0 0 1 0 0 0 0 0 0 0 0\n",
            " 2 0 0 2 0 0 2 2 2 0 0 0 2 0 0 0 2 2 0 0 0 0 0 0 0 0 2 0 2 0 2 0 0 0 2 0 0\n",
            " 0 0 0 0 0 0 0 0 0 0 0 0 0 0 0 0 0 0 2 2 0 0 0 0 2 0 2 0 0 0 0 0 0 0 0 0 1\n",
            " 0 0 0 0 0 0 2 0 0 0 0 0 0 0 0 0 0 0 0 0 0 0 0 0 0 0 0 0 0 0 0 0 0 0 0 0 0\n",
            " 0 0 0 2 0 0 0 0 0 2 0 0 0 0 0 0 0 2 0 0 2 0 0 2 0 0 0 0 0 0 0 2 0 2 2 0 0\n",
            " 0 1 0 0 0 0 0 0 0 0 0 0 0 0 0 0 0 0 2 0 0 2 0 0 0 0 0 2 0 2 0 0 0 0 2 0 0\n",
            " 0 0 0 0 0 0 0 0 0 0 0 0 0 0 0 0 2 0 0 0 0 0 0 0 0 0 0 0 0 2 0 0 0 0 2 0 2\n",
            " 0 0 0 0 0 0 0 0 0 2 2 2 0 0 2 0 0 0 0 0 0 0 0 0 0 0 0 0 0 0 0 0 0 0 1 2 0\n",
            " 0 0 0 2 0 0 0 0 0 0 0 2 0 0 2 2 0 0 0 2 0 0 0 2 0 0 0 0 0 0 0 2 0 0 0 0 2\n",
            " 0 2 0 0 0 0 2 0 0 0 0 0 0 0 0 1 2 0 2 0 0 0 0 0 2 2 0 0 0 2 2 0 0 2 0 2 0\n",
            " 0 0 0 0 0 0 0 0 0 0 0 1 0 0 0 0 0 2 2 2 0 2 0 0 0 0 2 0 0 0 0 0 2 0 0 0 2\n",
            " 0 0 0 2 0 2 0 0 0 0 0 0 0 0 0 0 2 2 0 0 0 0 0 2 0 2 0 0 0 0 0 0 0 0 0 0 0\n",
            " 0 0 0 0 0 0 0 0 0 0 0 0 2 0 0 0 1 0 0 0 0 0 0 2 0 0 2 0 0 0 0 0 0 2 0 0 0\n",
            " 2 0 0 0 2 0 1 0 0]\n"
          ]
        }
      ]
    },
    {
      "cell_type": "code",
      "metadata": {
        "colab": {
          "base_uri": "https://localhost:8080/"
        },
        "id": "wRbRuRdx35c8",
        "outputId": "e1979577-86fe-4513-ce0d-cf35f709cf66"
      },
      "source": [
        "# predict the target on the test dataset\n",
        "predict_test_3 = model_n3.predict(test_data)\n",
        "print('Clusters on test data',predict_test_3) "
      ],
      "execution_count": 92,
      "outputs": [
        {
          "output_type": "stream",
          "name": "stdout",
          "text": [
            "Clusters on test data [0 0 0 2 2 0 0 0 0 0 0 0 0 0 0 0 0 0 0 0 0 0 0 0 0 0 0 2 0 2 2 0 0 0 0 0 0\n",
            " 1 0 0 0 0 0 0 2 0 0 0 2 2 2 0 0 2 0 2 0 0 1 0 0 2 0 0 0 0 0 0 0 0 0 0 0 0\n",
            " 0 0 0 0 0 0 0 0 2 2 0 0 2 0 0 0 0 0 0 0 2 0 0 0 2 0 0 2 0 0 0 2 0 2 0 0 0\n",
            " 0 2 0 0 2 0 0 0 2 2 0 2 0 0 0 2 0 0 0 0 0 0 2 0 0 0 0 1 0 0 0 0 0 0 0 0 0\n",
            " 0 0 0 0 2 0 0 0 0 0 0 0 0 0 0 0 0 0 2 0 0 0 0 0 0 0 0 0 0 0 0]\n"
          ]
        }
      ]
    },
    {
      "cell_type": "markdown",
      "metadata": {
        "id": "kq82A7r1389s"
      },
      "source": [
        "**Random Forest**"
      ]
    },
    {
      "cell_type": "code",
      "metadata": {
        "id": "gozrr28M396v"
      },
      "source": [
        "# importing required libraries\n",
        "import pandas as pd\n",
        "from sklearn.ensemble import RandomForestClassifier\n",
        "from sklearn.metrics import accuracy_score"
      ],
      "execution_count": 93,
      "outputs": []
    },
    {
      "cell_type": "code",
      "metadata": {
        "id": "vrdmzFuv4A55"
      },
      "source": [
        "# read the train and test dataset\n",
        "train_data = pd.read_csv('/content/sample_data/train-data.csv')\n",
        "test_data = pd.read_csv('/content/sample_data/test-data.csv')"
      ],
      "execution_count": 94,
      "outputs": []
    },
    {
      "cell_type": "code",
      "metadata": {
        "colab": {
          "base_uri": "https://localhost:8080/"
        },
        "id": "5vKvyr3q4In8",
        "outputId": "a9be124e-4b5a-4ea6-b16a-9fce39247988"
      },
      "source": [
        "# view the top 3 rows of the dataset\n",
        "print(train_data.head(3))"
      ],
      "execution_count": 95,
      "outputs": [
        {
          "output_type": "stream",
          "name": "stdout",
          "text": [
            "   Survived        Age     Fare  ...  Embarked_C  Embarked_Q  Embarked_S\n",
            "0         0  28.500000   7.2292  ...           1           0           0\n",
            "1         1  27.000000  10.5000  ...           0           0           1\n",
            "2         1  29.699118  16.1000  ...           0           0           1\n",
            "\n",
            "[3 rows x 25 columns]\n"
          ]
        }
      ]
    },
    {
      "cell_type": "code",
      "metadata": {
        "colab": {
          "base_uri": "https://localhost:8080/"
        },
        "id": "43pXDei54KbC",
        "outputId": "a47fb34d-dc57-4190-bbc5-dd7fb42f29ac"
      },
      "source": [
        "# shape of the dataset\n",
        "print('\\nShape of training data :',train_data.shape)\n",
        "print('\\nShape of testing data :',test_data.shape)"
      ],
      "execution_count": 96,
      "outputs": [
        {
          "output_type": "stream",
          "name": "stdout",
          "text": [
            "\n",
            "Shape of training data : (712, 25)\n",
            "\n",
            "Shape of testing data : (179, 25)\n"
          ]
        }
      ]
    },
    {
      "cell_type": "code",
      "metadata": {
        "id": "h1eKQ8WX4M1s"
      },
      "source": [
        "# Now, we need to predict the missing target variable in the test data\n",
        "# target variable - Survived\n",
        "\n",
        "# seperate the independent and target variable on training data\n",
        "train_x = train_data.drop(columns=['Survived'],axis=1)\n",
        "train_y = train_data['Survived']"
      ],
      "execution_count": 97,
      "outputs": []
    },
    {
      "cell_type": "code",
      "metadata": {
        "id": "XE6w1Brv4OYc"
      },
      "source": [
        "# seperate the independent and target variable on testing data\n",
        "test_x = test_data.drop(columns=['Survived'],axis=1)\n",
        "test_y = test_data['Survived']"
      ],
      "execution_count": 98,
      "outputs": []
    },
    {
      "cell_type": "code",
      "metadata": {
        "id": "YGXoJLqq4QMn"
      },
      "source": [
        "'''\n",
        "\n",
        "Create the object of the Random Forest model\n",
        "You can also add other parameters and test your code here\n",
        "Some parameters are : n_estimators and max_depth\n",
        "Documentation of sklearn RandomForestClassifier: \n",
        "\n",
        "https://scikit-learn.org/stable/modules/generated/sklearn.ensemble.RandomForestClassifier.html\n",
        "\n",
        "'''\n",
        "model = RandomForestClassifier()"
      ],
      "execution_count": 99,
      "outputs": []
    },
    {
      "cell_type": "code",
      "metadata": {
        "colab": {
          "base_uri": "https://localhost:8080/"
        },
        "id": "4PZKQOWE4SBa",
        "outputId": "939126cc-da92-49be-ef86-2ae3316a36c9"
      },
      "source": [
        "# fit the model with the training data\n",
        "model.fit(train_x,train_y)"
      ],
      "execution_count": 100,
      "outputs": [
        {
          "output_type": "execute_result",
          "data": {
            "text/plain": [
              "RandomForestClassifier()"
            ]
          },
          "metadata": {},
          "execution_count": 100
        }
      ]
    },
    {
      "cell_type": "code",
      "metadata": {
        "colab": {
          "base_uri": "https://localhost:8080/"
        },
        "id": "FYFrJPgS4UFw",
        "outputId": "a715ebf1-aa96-4256-f5ff-a85bf8a979bb"
      },
      "source": [
        "# number of trees used\n",
        "print('Number of Trees used : ', model.n_estimators)"
      ],
      "execution_count": 101,
      "outputs": [
        {
          "output_type": "stream",
          "name": "stdout",
          "text": [
            "Number of Trees used :  100\n"
          ]
        }
      ]
    },
    {
      "cell_type": "code",
      "metadata": {
        "colab": {
          "base_uri": "https://localhost:8080/"
        },
        "id": "n4ry0Eoy4VyH",
        "outputId": "c43120bf-8284-466a-ca07-55842e1a7edb"
      },
      "source": [
        "# predict the target on the train dataset\n",
        "predict_train = model.predict(train_x)\n",
        "print('\\nTarget on train data',predict_train) "
      ],
      "execution_count": 102,
      "outputs": [
        {
          "output_type": "stream",
          "name": "stdout",
          "text": [
            "\n",
            "Target on train data [0 1 1 0 0 0 0 0 0 0 0 1 1 1 0 0 1 0 0 1 0 0 1 0 0 0 0 0 0 1 1 0 0 1 0 0 0\n",
            " 1 0 0 0 1 0 1 0 1 0 0 1 0 1 0 0 0 0 0 0 0 1 0 1 1 1 1 0 1 0 0 1 0 0 0 0 0\n",
            " 0 1 1 0 0 1 0 1 1 1 1 0 0 0 1 0 1 0 0 1 0 0 0 1 1 0 0 1 0 1 1 1 0 0 0 0 0\n",
            " 0 0 0 0 1 0 0 1 0 1 0 1 1 0 0 0 1 0 0 1 0 0 0 1 0 1 0 1 0 0 0 0 1 0 1 1 0\n",
            " 0 0 0 1 1 0 0 1 0 0 1 0 1 1 0 1 1 0 1 1 0 0 0 0 0 0 0 1 0 0 0 0 0 1 0 0 1\n",
            " 0 1 1 1 1 0 0 1 0 1 0 0 1 1 1 1 0 0 0 1 1 1 1 0 0 0 0 1 0 0 0 0 1 0 0 0 0\n",
            " 0 0 0 0 1 0 0 0 1 1 1 0 0 0 0 1 0 0 0 1 0 1 0 1 0 0 0 1 1 1 0 1 0 0 0 1 0\n",
            " 0 1 1 0 1 1 1 0 1 1 0 0 1 0 1 1 1 1 1 0 0 1 0 0 0 1 1 0 0 1 1 0 0 0 0 0 0\n",
            " 0 0 1 1 0 1 1 0 1 0 1 1 1 0 0 0 1 0 1 1 0 0 0 0 1 0 1 1 0 0 0 0 0 0 0 0 1\n",
            " 1 0 0 1 1 0 1 0 0 0 1 0 1 0 0 0 1 0 1 0 0 1 0 1 0 0 0 1 0 1 0 0 0 1 0 1 0\n",
            " 0 0 0 0 0 0 1 0 0 1 0 1 0 0 1 0 0 1 1 0 0 0 0 1 0 0 1 1 1 1 0 1 1 0 1 1 1\n",
            " 0 1 1 1 0 0 0 0 0 0 0 0 1 1 1 1 0 0 1 0 1 1 0 0 1 0 1 0 1 1 1 1 0 0 1 0 0\n",
            " 0 1 0 0 0 0 0 1 1 0 0 1 1 0 1 0 1 0 1 0 1 0 0 0 0 0 0 0 1 1 1 0 0 0 0 0 0\n",
            " 0 0 1 1 1 0 0 1 0 1 1 0 1 0 0 0 1 1 1 0 1 0 0 0 0 0 0 0 0 0 0 0 0 0 1 0 1\n",
            " 1 0 0 0 0 1 0 0 0 1 0 1 0 1 1 1 0 0 0 0 0 0 1 1 1 0 0 1 1 1 0 1 0 1 0 0 1\n",
            " 0 0 0 1 1 0 0 1 0 0 1 0 1 0 0 1 0 0 0 1 0 0 1 1 0 1 0 0 0 0 1 1 0 1 1 1 0\n",
            " 1 0 1 0 1 1 0 1 0 1 0 0 1 0 0 1 0 1 1 0 1 0 0 0 1 0 1 0 0 0 0 0 0 0 0 0 1\n",
            " 0 0 0 1 0 1 1 1 1 0 1 1 0 0 1 0 1 0 0 1 0 0 1 1 1 1 0 1 0 0 0 1 0 1 0 1 0\n",
            " 1 0 0 0 1 0 0 1 0 0 1 0 1 0 0 1 1 0 0 0 0 0 0 0 0 0 1 0 0 0 0 0 0 1 0 1 0\n",
            " 1 0 1 1 1 0 0 1 0]\n"
          ]
        }
      ]
    },
    {
      "cell_type": "code",
      "metadata": {
        "colab": {
          "base_uri": "https://localhost:8080/"
        },
        "id": "OJ6NQfbp4Xe1",
        "outputId": "d62e5301-e54b-4264-8037-45cf84f79902"
      },
      "source": [
        "# Accuray Score on train dataset\n",
        "accuracy_train = accuracy_score(train_y,predict_train)\n",
        "print('\\naccuracy_score on train dataset : ', accuracy_train)"
      ],
      "execution_count": 103,
      "outputs": [
        {
          "output_type": "stream",
          "name": "stdout",
          "text": [
            "\n",
            "accuracy_score on train dataset :  0.9859550561797753\n"
          ]
        }
      ]
    },
    {
      "cell_type": "code",
      "metadata": {
        "colab": {
          "base_uri": "https://localhost:8080/"
        },
        "id": "LxOHmaDD4ZJh",
        "outputId": "2732e339-1df5-438a-8832-4f58834d88a2"
      },
      "source": [
        "# predict the target on the test dataset\n",
        "predict_test = model.predict(test_x)\n",
        "print('\\nTarget on test data',predict_test) "
      ],
      "execution_count": 104,
      "outputs": [
        {
          "output_type": "stream",
          "name": "stdout",
          "text": [
            "\n",
            "Target on test data [0 0 0 1 1 0 0 0 0 0 0 1 1 0 0 0 0 0 0 0 0 1 1 1 1 0 0 1 0 1 1 0 1 0 1 1 0\n",
            " 1 0 0 0 0 0 0 0 1 0 0 1 0 0 0 0 1 1 1 0 1 1 0 0 1 1 1 0 0 0 0 0 1 0 0 0 0\n",
            " 1 0 0 0 0 0 0 0 0 1 0 0 1 1 0 1 0 0 1 0 1 1 0 0 1 0 0 0 0 1 1 1 0 1 1 0 1\n",
            " 0 1 0 0 0 1 1 0 1 1 0 1 1 0 1 1 0 0 1 1 0 0 1 1 0 0 0 1 0 1 0 1 0 0 0 0 0\n",
            " 0 0 0 1 1 0 0 1 0 0 0 0 0 1 0 0 0 0 1 0 1 0 1 1 0 0 0 0 0 0 0]\n"
          ]
        }
      ]
    },
    {
      "cell_type": "code",
      "metadata": {
        "colab": {
          "base_uri": "https://localhost:8080/"
        },
        "id": "yWZcoMcx4cUg",
        "outputId": "9e216db9-6588-4cd8-9b6d-cdd65498349d"
      },
      "source": [
        "# Accuracy Score on test dataset\n",
        "accuracy_test = accuracy_score(test_y,predict_test)\n",
        "print('\\naccuracy_score on test dataset : ', accuracy_test)"
      ],
      "execution_count": 105,
      "outputs": [
        {
          "output_type": "stream",
          "name": "stdout",
          "text": [
            "\n",
            "accuracy_score on test dataset :  0.8044692737430168\n"
          ]
        }
      ]
    },
    {
      "cell_type": "markdown",
      "metadata": {
        "id": "aQiJ7e4D4nLg"
      },
      "source": [
        "**Dimensionality Reduction Algorithms**"
      ]
    },
    {
      "cell_type": "code",
      "metadata": {
        "id": "xJ4DtL8X4oRw"
      },
      "source": [
        "# importing required libraries\n",
        "import pandas as pd\n",
        "from sklearn.decomposition import PCA\n",
        "from sklearn.linear_model import LinearRegression\n",
        "from sklearn.metrics import mean_squared_error"
      ],
      "execution_count": 106,
      "outputs": []
    },
    {
      "cell_type": "code",
      "metadata": {
        "id": "qoc2Jrn54r-_"
      },
      "source": [
        "# read the train and test dataset\n",
        "train_data = pd.read_csv('/content/sample_data/train.csv')\n",
        "test_data = pd.read_csv('/content/sample_data/test.csv')"
      ],
      "execution_count": 107,
      "outputs": []
    },
    {
      "cell_type": "code",
      "metadata": {
        "colab": {
          "base_uri": "https://localhost:8080/"
        },
        "id": "hnTo8uC04zYJ",
        "outputId": "88a5f957-1b84-403e-e19e-9900f5b38dda"
      },
      "source": [
        "# view the top 3 rows of the dataset\n",
        "print(train_data.head(3))"
      ],
      "execution_count": 108,
      "outputs": [
        {
          "output_type": "stream",
          "name": "stdout",
          "text": [
            "   Item_Weight  ...  Outlet_Type_Supermarket Type3\n",
            "0     6.800000  ...                              0\n",
            "1    15.600000  ...                              0\n",
            "2    12.911575  ...                              1\n",
            "\n",
            "[3 rows x 36 columns]\n"
          ]
        }
      ]
    },
    {
      "cell_type": "code",
      "metadata": {
        "colab": {
          "base_uri": "https://localhost:8080/"
        },
        "id": "Y2K36UEh41qL",
        "outputId": "95348439-1352-4353-fdee-9bb061192aed"
      },
      "source": [
        "# shape of the dataset\n",
        "print('\\nShape of training data :',train_data.shape)\n",
        "print('\\nShape of testing data :',test_data.shape)"
      ],
      "execution_count": 109,
      "outputs": [
        {
          "output_type": "stream",
          "name": "stdout",
          "text": [
            "\n",
            "Shape of training data : (1364, 36)\n",
            "\n",
            "Shape of testing data : (341, 36)\n"
          ]
        }
      ]
    },
    {
      "cell_type": "code",
      "metadata": {
        "id": "LsuuPgaB43LG"
      },
      "source": [
        "# Now, we need to predict the missing target variable in the test data\n",
        "# target variable - Survived\n",
        "\n",
        "# seperate the independent and target variable on training data\n",
        "# target variable - Item_Outlet_Sales\n",
        "train_x = train_data.drop(columns=['Item_Outlet_Sales'],axis=1)\n",
        "train_y = train_data['Item_Outlet_Sales']"
      ],
      "execution_count": 110,
      "outputs": []
    },
    {
      "cell_type": "code",
      "metadata": {
        "id": "-c9ZVKVt44wi"
      },
      "source": [
        "# seperate the independent and target variable on testing data\n",
        "test_x = test_data.drop(columns=['Item_Outlet_Sales'],axis=1)\n",
        "test_y = test_data['Item_Outlet_Sales']"
      ],
      "execution_count": 111,
      "outputs": []
    },
    {
      "cell_type": "code",
      "metadata": {
        "colab": {
          "base_uri": "https://localhost:8080/"
        },
        "id": "I15LMbFZ47Cs",
        "outputId": "32bc424c-3fab-472a-a203-0d7d4c700fff"
      },
      "source": [
        "print('\\nTraining model with {} dimensions.'.format(train_x.shape[1]))"
      ],
      "execution_count": 112,
      "outputs": [
        {
          "output_type": "stream",
          "name": "stdout",
          "text": [
            "\n",
            "Training model with 35 dimensions.\n"
          ]
        }
      ]
    },
    {
      "cell_type": "code",
      "metadata": {
        "id": "MJ_5mSqf48pZ"
      },
      "source": [
        "# create object of model\n",
        "model = LinearRegression()"
      ],
      "execution_count": 113,
      "outputs": []
    },
    {
      "cell_type": "code",
      "metadata": {
        "colab": {
          "base_uri": "https://localhost:8080/"
        },
        "id": "IdTWtXA84-Vz",
        "outputId": "4a48131b-9b77-4416-d91f-ca330b5ea3a9"
      },
      "source": [
        "# fit the model with the training data\n",
        "model.fit(train_x,train_y)"
      ],
      "execution_count": 114,
      "outputs": [
        {
          "output_type": "execute_result",
          "data": {
            "text/plain": [
              "LinearRegression()"
            ]
          },
          "metadata": {},
          "execution_count": 114
        }
      ]
    },
    {
      "cell_type": "code",
      "metadata": {
        "id": "4VqGDKy24_sK"
      },
      "source": [
        "# predict the target on the train dataset\n",
        "predict_train = model.predict(train_x)"
      ],
      "execution_count": 115,
      "outputs": []
    },
    {
      "cell_type": "code",
      "metadata": {
        "colab": {
          "base_uri": "https://localhost:8080/"
        },
        "id": "45XB6hC45BI5",
        "outputId": "7114d1cc-e4ed-4004-e847-da325a6ee38e"
      },
      "source": [
        "# Accuray Score on train dataset\n",
        "rmse_train = mean_squared_error(train_y,predict_train)**(0.5)\n",
        "print('\\nRMSE on train dataset : ', rmse_train)"
      ],
      "execution_count": 116,
      "outputs": [
        {
          "output_type": "stream",
          "name": "stdout",
          "text": [
            "\n",
            "RMSE on train dataset :  1135.8159344155245\n"
          ]
        }
      ]
    },
    {
      "cell_type": "code",
      "metadata": {
        "id": "J8uKSrav5C5T"
      },
      "source": [
        "# predict the target on the test dataset\n",
        "predict_test = model.predict(test_x)"
      ],
      "execution_count": 117,
      "outputs": []
    },
    {
      "cell_type": "code",
      "metadata": {
        "colab": {
          "base_uri": "https://localhost:8080/"
        },
        "id": "_A99p-Ux5E0Z",
        "outputId": "aef4be33-bb1a-4bdb-d76f-72a1558f4bd0"
      },
      "source": [
        "# Accuracy Score on test dataset\n",
        "rmse_test = mean_squared_error(test_y,predict_test)**(0.5)\n",
        "print('\\nRMSE on test dataset : ', rmse_test)"
      ],
      "execution_count": 118,
      "outputs": [
        {
          "output_type": "stream",
          "name": "stdout",
          "text": [
            "\n",
            "RMSE on test dataset :  1009.2517232209692\n"
          ]
        }
      ]
    },
    {
      "cell_type": "code",
      "metadata": {
        "id": "PAUTX9-V5JR4"
      },
      "source": [
        "'''\n",
        "You can also add other parameters and test your code here\n",
        "Some parameters are : svd_solver, iterated_power\n",
        "Documentation of sklearn PCA:\n",
        "\n",
        "https://scikit-learn.org/stable/modules/generated/sklearn.decomposition.PCA.html\n",
        "'''\n",
        "model_pca = PCA(n_components=12)\n",
        "\n",
        "new_train = model_pca.fit_transform(train_x)\n",
        "new_test  = model_pca.fit_transform(test_x)\n",
        "\n",
        "print('\\nTraining model with {} dimensions.'.format(new_train.shape[1]))"
      ],
      "execution_count": null,
      "outputs": []
    },
    {
      "cell_type": "code",
      "metadata": {
        "id": "gIygMOxF5Mb2"
      },
      "source": [
        "# create object of model\n",
        "model_new = LinearRegression()"
      ],
      "execution_count": 120,
      "outputs": []
    },
    {
      "cell_type": "code",
      "metadata": {
        "colab": {
          "base_uri": "https://localhost:8080/"
        },
        "id": "LrbiTDkk5Nux",
        "outputId": "e6c34ff5-46f7-4fb2-ea75-5fc0c70bc6f4"
      },
      "source": [
        "# fit the model with the training data\n",
        "model_new.fit(new_train,train_y)"
      ],
      "execution_count": 121,
      "outputs": [
        {
          "output_type": "execute_result",
          "data": {
            "text/plain": [
              "LinearRegression()"
            ]
          },
          "metadata": {},
          "execution_count": 121
        }
      ]
    },
    {
      "cell_type": "code",
      "metadata": {
        "id": "UMO4plh55PLw"
      },
      "source": [
        "# predict the target on the new train dataset\n",
        "predict_train_pca = model_new.predict(new_train)"
      ],
      "execution_count": 122,
      "outputs": []
    },
    {
      "cell_type": "code",
      "metadata": {
        "colab": {
          "base_uri": "https://localhost:8080/"
        },
        "id": "wieP2vKA5Smo",
        "outputId": "3c7d17b8-cc5e-49a6-baae-11f59f1676f3"
      },
      "source": [
        "# Accuray Score on train dataset\n",
        "rmse_train_pca = mean_squared_error(train_y,predict_train_pca)**(0.5)\n",
        "print('\\nRMSE on new train dataset : ', rmse_train_pca)"
      ],
      "execution_count": 123,
      "outputs": [
        {
          "output_type": "stream",
          "name": "stdout",
          "text": [
            "\n",
            "RMSE on new train dataset :  1159.9786259299503\n"
          ]
        }
      ]
    },
    {
      "cell_type": "code",
      "metadata": {
        "id": "jksB4CVI5VHv"
      },
      "source": [
        "# predict the target on the new test dataset\n",
        "predict_test_pca = model_new.predict(new_test)"
      ],
      "execution_count": 124,
      "outputs": []
    },
    {
      "cell_type": "code",
      "metadata": {
        "colab": {
          "base_uri": "https://localhost:8080/"
        },
        "id": "nQuH23g65XG1",
        "outputId": "7e9d1a5a-05e0-4ea0-e4c0-629408e950aa"
      },
      "source": [
        "# Accuracy Score on test dataset\n",
        "rmse_test_pca = mean_squared_error(test_y,predict_test_pca)**(0.5)\n",
        "print('\\nRMSE on new test dataset : ', rmse_test_pca)"
      ],
      "execution_count": 125,
      "outputs": [
        {
          "output_type": "stream",
          "name": "stdout",
          "text": [
            "\n",
            "RMSE on new test dataset :  1014.4114660827148\n"
          ]
        }
      ]
    },
    {
      "cell_type": "markdown",
      "metadata": {
        "id": "aOpneA0d5aGK"
      },
      "source": [
        "**Gradient Boosting Algorithms**"
      ]
    },
    {
      "cell_type": "code",
      "metadata": {
        "id": "EyahQM4e5a_u"
      },
      "source": [
        "# importing required libraries\n",
        "import pandas as pd\n",
        "from sklearn.ensemble import GradientBoostingClassifier\n",
        "from sklearn.metrics import accuracy_score"
      ],
      "execution_count": 130,
      "outputs": []
    },
    {
      "cell_type": "code",
      "metadata": {
        "id": "pbCMjYhQ5d_K"
      },
      "source": [
        "# read the train and test dataset\n",
        "train_data = pd.read_csv('/content/sample_data/train-data1.csv')\n",
        "test_data = pd.read_csv('/content/sample_data/test-data1.csv')"
      ],
      "execution_count": 132,
      "outputs": []
    },
    {
      "cell_type": "code",
      "metadata": {
        "colab": {
          "base_uri": "https://localhost:8080/"
        },
        "id": "Ay8-Rq6T5ioY",
        "outputId": "415ff537-229c-4dcc-84f4-084908ab4f29"
      },
      "source": [
        "# shape of the dataset\n",
        "print('Shape of training data :',train_data.shape)\n",
        "print('Shape of testing data :',test_data.shape)"
      ],
      "execution_count": 133,
      "outputs": [
        {
          "output_type": "stream",
          "name": "stdout",
          "text": [
            "Shape of training data : (712, 25)\n",
            "Shape of testing data : (179, 25)\n"
          ]
        }
      ]
    },
    {
      "cell_type": "code",
      "metadata": {
        "id": "G2D9cYvx5lLl"
      },
      "source": [
        "# Now, we need to predict the missing target variable in the test data\n",
        "# target variable - Survived\n",
        "\n",
        "# seperate the independent and target variable on training data\n",
        "train_x = train_data.drop(columns=['Survived'],axis=1)\n",
        "train_y = train_data['Survived']"
      ],
      "execution_count": 134,
      "outputs": []
    },
    {
      "cell_type": "code",
      "metadata": {
        "colab": {
          "base_uri": "https://localhost:8080/"
        },
        "id": "ixhdYeXR6yzW",
        "outputId": "143392b9-d633-4d3b-e3be-19f233dcfdd1"
      },
      "source": [
        "# shape of the dataset\n",
        "print('Shape of training data :',train_data.shape)\n",
        "print('Shape of testing data :',test_data.shape)"
      ],
      "execution_count": 135,
      "outputs": [
        {
          "output_type": "stream",
          "name": "stdout",
          "text": [
            "Shape of training data : (712, 25)\n",
            "Shape of testing data : (179, 25)\n"
          ]
        }
      ]
    },
    {
      "cell_type": "code",
      "metadata": {
        "id": "UJ-Y4Amt7DOf"
      },
      "source": [
        "# Now, we need to predict the missing target variable in the test data\n",
        "# target variable - Survived\n",
        "\n",
        "# seperate the independent and target variable on training data\n",
        "train_x = train_data.drop(columns=['Survived'],axis=1)\n",
        "train_y = train_data['Survived']"
      ],
      "execution_count": 136,
      "outputs": []
    },
    {
      "cell_type": "code",
      "metadata": {
        "id": "NOI1NIph7FR9"
      },
      "source": [
        "# seperate the independent and target variable on testing data\n",
        "test_x = test_data.drop(columns=['Survived'],axis=1)\n",
        "test_y = test_data['Survived']"
      ],
      "execution_count": 137,
      "outputs": []
    },
    {
      "cell_type": "code",
      "metadata": {
        "id": "3-3Qj0Qh7Hmq"
      },
      "source": [
        "'''\n",
        "Create the object of the GradientBoosting Classifier model\n",
        "You can also add other parameters and test your code here\n",
        "Some parameters are : learning_rate, n_estimators\n",
        "Documentation of sklearn GradientBoosting Classifier: \n",
        "\n",
        "https://scikit-learn.org/stable/modules/generated/sklearn.ensemble.GradientBoostingClassifier.html\n",
        "'''\n",
        "model = GradientBoostingClassifier(n_estimators=100,max_depth=5)"
      ],
      "execution_count": 138,
      "outputs": []
    },
    {
      "cell_type": "code",
      "metadata": {
        "colab": {
          "base_uri": "https://localhost:8080/"
        },
        "id": "67XbdGYf7JNI",
        "outputId": "5ba0fba5-8853-4eaa-ed82-f0f692a30753"
      },
      "source": [
        "# fit the model with the training data\n",
        "model.fit(train_x,train_y)"
      ],
      "execution_count": 139,
      "outputs": [
        {
          "output_type": "execute_result",
          "data": {
            "text/plain": [
              "GradientBoostingClassifier(max_depth=5)"
            ]
          },
          "metadata": {},
          "execution_count": 139
        }
      ]
    },
    {
      "cell_type": "code",
      "metadata": {
        "colab": {
          "base_uri": "https://localhost:8080/"
        },
        "id": "cGItCZ4f7KlT",
        "outputId": "106a6a32-4234-4658-aca0-cdb0dadd8fc3"
      },
      "source": [
        "# predict the target on the train dataset\n",
        "predict_train = model.predict(train_x)\n",
        "print('\\nTarget on train data',predict_train) "
      ],
      "execution_count": 140,
      "outputs": [
        {
          "output_type": "stream",
          "name": "stdout",
          "text": [
            "\n",
            "Target on train data [0 1 1 0 0 0 0 0 0 0 0 1 1 1 0 0 1 0 0 1 0 0 1 0 0 0 0 0 0 1 1 0 0 1 0 0 0\n",
            " 1 0 0 0 1 0 1 0 1 0 0 1 0 1 0 0 0 0 0 0 0 1 0 1 1 1 1 0 1 0 0 1 0 0 0 0 0\n",
            " 0 1 1 0 0 1 0 1 1 1 1 0 0 0 1 0 1 0 0 1 0 0 0 1 1 0 0 1 0 1 1 1 0 1 0 0 0\n",
            " 0 0 0 0 1 0 0 1 0 1 0 0 1 0 0 0 1 0 0 1 0 0 0 1 0 1 0 1 0 0 0 0 1 0 1 1 0\n",
            " 0 0 0 1 1 0 0 1 0 0 1 0 1 1 0 1 1 0 1 1 0 0 0 0 0 0 0 0 0 0 0 0 0 1 0 0 1\n",
            " 0 1 1 1 1 0 0 1 0 1 0 0 1 1 1 1 0 0 0 1 1 1 1 0 0 0 0 1 0 0 0 0 0 0 0 0 0\n",
            " 0 0 0 0 0 0 0 0 1 1 1 0 0 0 0 1 0 0 0 1 0 1 0 1 0 0 0 1 1 1 0 1 0 0 0 1 0\n",
            " 0 1 1 0 1 1 1 0 1 1 0 0 1 0 0 1 1 1 1 0 0 1 0 0 0 1 1 0 0 1 1 0 0 0 0 0 0\n",
            " 0 0 1 1 0 1 1 0 1 0 1 0 1 0 0 0 1 0 1 1 0 0 0 0 1 0 1 1 0 0 0 0 0 0 0 0 1\n",
            " 1 0 0 1 1 0 1 0 0 0 1 0 0 0 0 0 1 0 1 0 0 1 1 1 0 0 0 0 0 1 0 0 0 0 0 0 0\n",
            " 0 0 0 0 0 1 1 0 0 1 0 1 0 0 1 0 0 1 0 0 0 0 0 1 0 0 1 1 1 1 0 1 0 0 1 1 1\n",
            " 0 1 1 0 0 0 0 0 0 0 0 0 1 1 1 1 0 0 1 0 0 1 0 0 1 0 1 0 1 1 0 0 0 0 1 0 0\n",
            " 0 1 0 0 0 0 0 0 1 0 0 1 1 0 1 0 1 0 1 0 1 0 0 0 0 0 0 0 1 1 1 0 0 0 0 0 0\n",
            " 0 0 1 1 1 0 0 1 0 1 1 0 1 0 0 0 1 1 1 0 1 0 0 0 0 0 0 0 0 0 0 0 0 0 1 0 1\n",
            " 1 0 0 0 0 1 0 0 0 1 0 1 0 1 1 1 0 0 0 0 0 0 1 1 1 0 0 1 1 1 0 1 0 1 0 0 1\n",
            " 0 0 0 1 1 0 0 1 0 0 1 0 1 0 0 1 0 1 0 1 0 0 1 0 0 1 0 0 0 0 1 1 0 1 1 1 0\n",
            " 1 0 1 0 0 1 0 1 0 1 0 0 1 0 0 1 0 1 1 0 1 0 0 0 1 0 1 0 0 0 1 0 0 0 0 0 1\n",
            " 0 0 0 1 0 1 1 1 0 0 1 1 0 0 1 0 1 0 0 1 0 0 1 1 1 1 0 1 0 0 0 1 0 1 0 1 0\n",
            " 0 0 0 0 1 0 0 1 0 0 1 0 1 0 0 1 1 0 0 0 0 0 0 0 0 0 1 0 0 0 0 0 0 1 0 1 0\n",
            " 1 0 1 1 1 0 0 1 0]\n"
          ]
        }
      ]
    },
    {
      "cell_type": "code",
      "metadata": {
        "colab": {
          "base_uri": "https://localhost:8080/"
        },
        "id": "pb7XZPws7Mr0",
        "outputId": "8a50ba32-44c8-481f-9368-82f990b672d8"
      },
      "source": [
        "# Accuray Score on train dataset\n",
        "accuracy_train = accuracy_score(train_y,predict_train)\n",
        "print('\\naccuracy_score on train dataset : ', accuracy_train)"
      ],
      "execution_count": 141,
      "outputs": [
        {
          "output_type": "stream",
          "name": "stdout",
          "text": [
            "\n",
            "accuracy_score on train dataset :  0.9550561797752809\n"
          ]
        }
      ]
    },
    {
      "cell_type": "code",
      "metadata": {
        "colab": {
          "base_uri": "https://localhost:8080/"
        },
        "id": "B2sHBlqr7Oob",
        "outputId": "e2761761-02cc-446f-f4bf-8dd13c4dbb88"
      },
      "source": [
        "# predict the target on the test dataset\n",
        "predict_test = model.predict(test_x)\n",
        "print('\\nTarget on test data',predict_test) "
      ],
      "execution_count": 142,
      "outputs": [
        {
          "output_type": "stream",
          "name": "stdout",
          "text": [
            "\n",
            "Target on test data [0 0 0 1 1 0 0 0 0 0 0 1 1 0 0 0 0 0 0 0 0 0 1 0 1 0 0 1 0 1 1 0 0 0 1 0 1\n",
            " 0 0 0 0 0 0 0 0 1 0 0 1 0 0 0 0 0 1 1 0 1 1 0 0 1 1 1 0 0 0 0 0 1 0 0 0 0\n",
            " 1 0 0 0 0 0 0 0 0 0 0 0 1 1 0 1 0 0 0 0 1 1 0 0 1 0 1 0 0 0 1 1 0 1 1 1 1\n",
            " 0 1 0 0 0 0 1 0 1 1 0 1 1 0 1 1 0 0 1 1 0 0 1 1 0 0 0 1 0 1 0 0 0 0 0 0 0\n",
            " 0 0 0 1 1 0 0 1 0 0 0 0 0 1 0 0 0 1 1 0 1 0 1 1 0 0 0 0 0 0 0]\n"
          ]
        }
      ]
    },
    {
      "cell_type": "code",
      "metadata": {
        "colab": {
          "base_uri": "https://localhost:8080/"
        },
        "id": "TLAwNlVa7P_5",
        "outputId": "8a97cb63-a92f-45b1-813d-6ebc8998c699"
      },
      "source": [
        "# Accuracy Score on test dataset\n",
        "accuracy_test = accuracy_score(test_y,predict_test)\n",
        "print('\\naccuracy_score on test dataset : ', accuracy_test)"
      ],
      "execution_count": 143,
      "outputs": [
        {
          "output_type": "stream",
          "name": "stdout",
          "text": [
            "\n",
            "accuracy_score on test dataset :  0.8324022346368715\n"
          ]
        }
      ]
    },
    {
      "cell_type": "markdown",
      "metadata": {
        "id": "W800uf597WJG"
      },
      "source": [
        "**XGBoost**"
      ]
    },
    {
      "cell_type": "code",
      "metadata": {
        "id": "jLsyG9HI7W9y"
      },
      "source": [
        "# importing required libraries\n",
        "import pandas as pd\n",
        "from xgboost import XGBClassifier\n",
        "from sklearn.metrics import accuracy_score"
      ],
      "execution_count": 144,
      "outputs": []
    },
    {
      "cell_type": "code",
      "metadata": {
        "id": "hrSmUq5m7anG"
      },
      "source": [
        "# read the train and test dataset\n",
        "train_data = pd.read_csv('/content/sample_data/train-data1.csv')\n",
        "test_data = pd.read_csv('/content/sample_data/test-data1.csv')"
      ],
      "execution_count": 145,
      "outputs": []
    },
    {
      "cell_type": "code",
      "metadata": {
        "colab": {
          "base_uri": "https://localhost:8080/"
        },
        "id": "txj5iej47gEz",
        "outputId": "eded1ee8-c8ee-464a-b812-1fc4cf60b5a4"
      },
      "source": [
        "# shape of the dataset\n",
        "print('Shape of training data :',train_data.shape)\n",
        "print('Shape of testing data :',test_data.shape)"
      ],
      "execution_count": 146,
      "outputs": [
        {
          "output_type": "stream",
          "name": "stdout",
          "text": [
            "Shape of training data : (712, 25)\n",
            "Shape of testing data : (179, 25)\n"
          ]
        }
      ]
    },
    {
      "cell_type": "code",
      "metadata": {
        "id": "ITURNPDa7iFP"
      },
      "source": [
        "# Now, we need to predict the missing target variable in the test data\n",
        "# target variable - Survived\n",
        "\n",
        "# seperate the independent and target variable on training data\n",
        "train_x = train_data.drop(columns=['Survived'],axis=1)\n",
        "train_y = train_data['Survived']"
      ],
      "execution_count": 147,
      "outputs": []
    },
    {
      "cell_type": "code",
      "metadata": {
        "id": "ZyH4r4p-7jmJ"
      },
      "source": [
        "# seperate the independent and target variable on testing data\n",
        "test_x = test_data.drop(columns=['Survived'],axis=1)\n",
        "test_y = test_data['Survived']"
      ],
      "execution_count": 148,
      "outputs": []
    },
    {
      "cell_type": "code",
      "metadata": {
        "id": "BuCR-lNg7ouI"
      },
      "source": [
        "'''\n",
        "Create the object of the XGBoost model\n",
        "You can also add other parameters and test your code here\n",
        "Some parameters are : max_depth and n_estimators\n",
        "Documentation of xgboost:\n",
        "\n",
        "https://xgboost.readthedocs.io/en/latest/\n",
        "'''\n",
        "model = XGBClassifier()"
      ],
      "execution_count": 149,
      "outputs": []
    },
    {
      "cell_type": "code",
      "metadata": {
        "colab": {
          "base_uri": "https://localhost:8080/"
        },
        "id": "AofwDz1w7rAp",
        "outputId": "f70a6483-dabe-4314-d277-e48e5c339f6d"
      },
      "source": [
        "# fit the model with the training data\n",
        "model.fit(train_x,train_y)"
      ],
      "execution_count": 150,
      "outputs": [
        {
          "output_type": "execute_result",
          "data": {
            "text/plain": [
              "XGBClassifier()"
            ]
          },
          "metadata": {},
          "execution_count": 150
        }
      ]
    },
    {
      "cell_type": "code",
      "metadata": {
        "colab": {
          "base_uri": "https://localhost:8080/"
        },
        "id": "Fhp9sola7s76",
        "outputId": "3a65d4a9-ee8e-466f-cb95-52bd20261302"
      },
      "source": [
        "# predict the target on the train dataset\n",
        "predict_train = model.predict(train_x)\n",
        "print('\\nTarget on train data',predict_train) "
      ],
      "execution_count": 151,
      "outputs": [
        {
          "output_type": "stream",
          "name": "stdout",
          "text": [
            "\n",
            "Target on train data [0 1 1 0 0 0 0 0 0 0 0 1 0 0 0 0 0 0 0 1 0 0 0 0 0 0 0 0 0 1 1 0 0 0 0 0 0\n",
            " 1 0 0 0 1 0 1 1 1 0 0 0 1 1 0 0 1 0 0 0 0 1 0 1 1 1 1 0 0 0 0 1 0 0 0 0 0\n",
            " 0 1 1 0 0 1 0 1 0 1 1 0 0 0 1 0 1 0 0 1 0 0 0 1 1 0 0 1 0 1 1 1 0 1 0 0 1\n",
            " 0 0 0 0 1 0 0 1 0 1 0 0 1 0 0 0 1 0 0 1 0 0 0 1 0 0 0 0 0 0 0 0 1 0 1 1 0\n",
            " 0 0 1 1 1 0 0 1 0 0 0 0 1 0 0 1 1 0 1 0 0 0 0 0 0 0 0 0 0 0 0 0 0 1 0 0 1\n",
            " 0 1 1 1 1 0 0 1 0 1 0 0 0 1 1 1 1 0 0 0 1 1 1 0 0 0 0 1 0 0 0 0 0 0 0 0 0\n",
            " 0 0 0 0 0 0 0 0 1 1 1 0 0 1 0 1 0 0 0 1 0 1 0 1 0 0 0 0 1 1 0 1 0 0 1 1 0\n",
            " 0 1 1 0 1 1 1 0 1 1 0 0 1 0 0 1 1 1 0 0 0 0 0 0 0 1 1 0 0 0 0 0 0 0 0 0 0\n",
            " 0 0 1 1 0 1 1 0 0 0 1 0 0 0 0 0 1 0 1 1 1 0 0 0 1 0 1 0 0 0 1 0 0 0 0 0 1\n",
            " 1 0 0 1 1 0 1 0 0 0 0 0 0 0 0 0 1 0 1 0 0 1 1 1 1 0 0 0 0 1 0 0 0 0 0 0 0\n",
            " 0 0 0 0 0 1 0 0 0 1 0 1 0 0 1 0 0 1 0 0 0 0 0 1 0 0 0 1 1 1 0 1 0 0 1 1 1\n",
            " 0 1 1 0 0 0 0 0 0 0 0 0 1 0 0 1 0 0 1 0 0 0 0 0 1 0 1 1 1 1 0 0 0 0 1 0 0\n",
            " 0 1 0 0 0 0 0 0 1 0 0 1 1 0 1 0 1 0 0 0 1 0 0 0 0 0 0 0 1 0 1 0 0 0 0 0 0\n",
            " 0 0 1 0 1 0 0 0 0 1 1 0 1 0 0 0 1 0 1 0 0 0 0 0 0 0 0 0 0 0 1 0 0 0 1 0 1\n",
            " 1 0 0 0 0 1 0 0 0 1 0 1 0 1 1 1 0 0 0 0 0 0 1 1 0 0 0 1 1 1 1 1 0 0 0 0 1\n",
            " 0 0 0 1 1 0 0 1 0 0 1 0 1 0 0 1 0 1 0 1 0 0 0 0 1 1 0 1 0 0 1 1 0 1 1 1 0\n",
            " 1 0 1 0 0 1 0 1 0 0 0 0 1 0 0 1 0 1 1 0 1 0 0 0 1 0 1 0 0 0 1 0 0 0 0 0 1\n",
            " 0 0 0 0 0 0 1 1 0 0 1 1 0 0 1 1 1 0 0 0 0 0 1 1 1 0 0 1 0 0 0 1 0 1 0 0 0\n",
            " 0 0 0 0 1 0 0 1 0 0 1 0 0 0 0 1 1 0 0 0 0 0 0 0 0 0 1 0 0 0 1 0 0 1 0 1 0\n",
            " 1 0 1 1 1 0 0 1 0]\n"
          ]
        }
      ]
    },
    {
      "cell_type": "code",
      "metadata": {
        "colab": {
          "base_uri": "https://localhost:8080/"
        },
        "id": "UxugsREe7u3r",
        "outputId": "0af670f2-ad80-4ad2-f197-f7b78956d834"
      },
      "source": [
        "# Accuray Score on train dataset\n",
        "accuracy_train = accuracy_score(train_y,predict_train)\n",
        "print('\\naccuracy_score on train dataset : ', accuracy_train)"
      ],
      "execution_count": 152,
      "outputs": [
        {
          "output_type": "stream",
          "name": "stdout",
          "text": [
            "\n",
            "accuracy_score on train dataset :  0.8693820224719101\n"
          ]
        }
      ]
    },
    {
      "cell_type": "code",
      "metadata": {
        "colab": {
          "base_uri": "https://localhost:8080/"
        },
        "id": "3ibT41Pw7zoT",
        "outputId": "59c3772c-383b-4ee8-8ea9-cddc493c95e5"
      },
      "source": [
        "# predict the target on the test dataset\n",
        "predict_test = model.predict(test_x)\n",
        "print('\\nTarget on test data',predict_test) "
      ],
      "execution_count": 153,
      "outputs": [
        {
          "output_type": "stream",
          "name": "stdout",
          "text": [
            "\n",
            "Target on test data [0 0 0 1 1 0 0 0 0 0 0 1 1 0 0 0 0 1 0 0 0 0 1 0 1 0 0 1 0 1 1 0 1 0 1 0 0\n",
            " 0 0 0 0 0 0 0 0 0 0 0 1 0 0 0 0 0 1 1 0 1 1 0 0 1 1 1 0 0 0 0 0 1 0 0 0 0\n",
            " 1 0 0 0 1 0 0 0 0 0 1 0 1 1 0 1 0 0 0 0 1 1 0 0 1 0 1 0 0 0 1 1 0 0 1 0 1\n",
            " 0 1 0 0 0 0 1 0 1 1 0 1 1 0 1 1 0 0 1 1 0 0 1 1 1 0 1 1 0 1 0 0 0 0 0 0 0\n",
            " 0 0 0 0 1 0 0 1 0 0 0 0 0 1 0 0 0 0 0 0 1 0 1 1 0 1 0 0 0 0 0]\n"
          ]
        }
      ]
    },
    {
      "cell_type": "code",
      "metadata": {
        "colab": {
          "base_uri": "https://localhost:8080/"
        },
        "id": "sW_wM9bN71f-",
        "outputId": "0df377c6-f8d4-4389-e8fb-1765661ad921"
      },
      "source": [
        "# Accuracy Score on test dataset\n",
        "accuracy_test = accuracy_score(test_y,predict_test)\n",
        "print('\\naccuracy_score on test dataset : ', accuracy_test)"
      ],
      "execution_count": 154,
      "outputs": [
        {
          "output_type": "stream",
          "name": "stdout",
          "text": [
            "\n",
            "accuracy_score on test dataset :  0.8212290502793296\n"
          ]
        }
      ]
    },
    {
      "cell_type": "markdown",
      "metadata": {
        "id": "cxcgHS3F74Nz"
      },
      "source": [
        "**LightGBM**"
      ]
    },
    {
      "cell_type": "code",
      "metadata": {
        "id": "Xl2FUCxG75Lj"
      },
      "source": [
        "import pandas as pd\n",
        "import lightgbm as lgb\n",
        "from sklearn.metrics import accuracy_score"
      ],
      "execution_count": 159,
      "outputs": []
    },
    {
      "cell_type": "code",
      "metadata": {
        "id": "YiE-oPuO8kqI"
      },
      "source": [
        "data = np.random.rand(500, 10) # 500 entities, each contains 10 features\n",
        "label = np.random.randint(2, size=500) # binary target"
      ],
      "execution_count": 157,
      "outputs": []
    },
    {
      "cell_type": "code",
      "metadata": {
        "id": "v2ZRFy-J8oeA"
      },
      "source": [
        "# read the train and test dataset\n",
        "train_data = pd.read_csv('/content/sample_data/train-data1.csv')\n",
        "test_data = pd.read_csv('/content/sample_data/test-data1.csv')"
      ],
      "execution_count": 161,
      "outputs": []
    },
    {
      "cell_type": "code",
      "metadata": {
        "colab": {
          "base_uri": "https://localhost:8080/"
        },
        "id": "YkmWAlCw9TKl",
        "outputId": "e354f287-5b2b-4fe1-9017-ffc4c40d3ae9"
      },
      "source": [
        "# shape of the dataset\n",
        "print('Shape of training data :',train_data.shape)\n",
        "print('Shape of testing data :',test_data.shape)"
      ],
      "execution_count": 162,
      "outputs": [
        {
          "output_type": "stream",
          "name": "stdout",
          "text": [
            "Shape of training data : (712, 25)\n",
            "Shape of testing data : (179, 25)\n"
          ]
        }
      ]
    },
    {
      "cell_type": "code",
      "metadata": {
        "id": "CRc7r8-19Uo4"
      },
      "source": [
        "# Now, we need to predict the missing target variable in the test data\n",
        "# target variable - Survived\n",
        "\n",
        "# seperate the independent and target variable on training data\n",
        "train_x = train_data.drop(columns=['Survived'],axis=1)\n",
        "train_y = train_data['Survived']"
      ],
      "execution_count": 163,
      "outputs": []
    },
    {
      "cell_type": "code",
      "metadata": {
        "id": "qolrIW0K9WDx"
      },
      "source": [
        "# seperate the independent and target variable on testing data\n",
        "test_x = test_data.drop(columns=['Survived'],axis=1)\n",
        "test_y = test_data['Survived']"
      ],
      "execution_count": 164,
      "outputs": []
    },
    {
      "cell_type": "code",
      "metadata": {
        "id": "NAoNq4l29XpO"
      },
      "source": [
        "'''\n",
        "Create the object of the LightGBM Classifier model\n",
        "You can also add other parameters and test your code here\n",
        "Some parameters are : n_estimators, boosting_type\n",
        "Documentation of sklearn LightGBM Classifier: \n",
        "\n",
        "https://lightgbm.readthedocs.io/en/latest/index.html\n",
        "'''\n",
        "model = lgb.LGBMClassifier()"
      ],
      "execution_count": 165,
      "outputs": []
    },
    {
      "cell_type": "code",
      "metadata": {
        "colab": {
          "base_uri": "https://localhost:8080/"
        },
        "id": "IAJwtxv39ZNK",
        "outputId": "90997b4c-daaa-46a9-8064-e94c6878a842"
      },
      "source": [
        "# fit the model with the training data\n",
        "model.fit(train_x,train_y)"
      ],
      "execution_count": 166,
      "outputs": [
        {
          "output_type": "execute_result",
          "data": {
            "text/plain": [
              "LGBMClassifier()"
            ]
          },
          "metadata": {},
          "execution_count": 166
        }
      ]
    },
    {
      "cell_type": "code",
      "metadata": {
        "colab": {
          "base_uri": "https://localhost:8080/"
        },
        "id": "qluFirHG9bvt",
        "outputId": "2bb042f0-5254-4590-8877-b64c9422a728"
      },
      "source": [
        "# predict the target on the train dataset\n",
        "predict_train = model.predict(train_x)\n",
        "print('\\nTarget on train data',predict_train) "
      ],
      "execution_count": 167,
      "outputs": [
        {
          "output_type": "stream",
          "name": "stdout",
          "text": [
            "\n",
            "Target on train data [0 1 1 0 0 0 0 0 0 0 0 1 1 1 0 0 0 0 0 1 0 0 1 0 0 0 0 0 0 1 1 0 0 1 0 0 0\n",
            " 1 0 0 0 1 0 1 0 1 0 0 1 0 1 0 0 0 0 0 0 0 1 0 1 1 1 1 0 1 0 0 1 0 0 0 0 0\n",
            " 0 1 1 0 0 1 0 1 1 1 1 0 0 0 1 0 1 0 0 1 0 0 0 1 1 0 0 1 0 1 1 1 0 1 0 0 0\n",
            " 0 0 0 0 1 0 0 1 0 1 0 1 1 0 0 0 1 0 0 1 0 0 0 1 0 0 0 1 0 0 0 0 1 0 1 1 0\n",
            " 0 0 1 1 1 0 0 1 0 0 1 0 1 1 0 1 1 0 1 1 0 0 0 0 0 0 0 0 0 0 0 0 0 1 0 0 1\n",
            " 0 1 1 1 1 0 0 1 0 1 0 0 1 1 1 1 0 0 0 1 1 1 1 0 0 0 0 1 0 0 0 0 0 0 0 0 0\n",
            " 0 0 0 0 0 0 0 0 1 1 1 0 0 1 0 1 0 0 0 1 0 1 0 1 0 0 0 1 1 1 0 1 0 0 0 1 0\n",
            " 0 1 1 0 1 1 1 0 1 1 0 0 1 0 0 1 1 1 1 0 0 1 0 0 0 1 1 0 0 0 1 0 0 0 0 0 0\n",
            " 0 0 1 1 0 1 1 0 1 0 1 0 1 0 0 0 1 0 1 1 0 0 0 0 1 0 1 1 0 0 0 0 0 0 0 0 1\n",
            " 1 0 0 1 1 0 1 0 0 0 1 0 1 0 0 0 0 0 1 0 0 1 0 1 1 0 0 0 0 1 0 0 0 0 0 0 0\n",
            " 0 0 0 0 0 1 1 0 0 1 0 1 0 0 1 0 0 0 1 0 0 0 0 1 0 0 1 1 1 1 0 1 0 0 1 1 1\n",
            " 0 1 1 1 0 0 0 0 0 0 0 0 1 1 1 1 0 0 1 0 0 1 0 0 1 0 1 0 1 1 1 0 0 0 1 0 0\n",
            " 0 1 0 0 0 0 0 0 1 0 0 1 1 0 1 0 1 0 0 0 1 0 0 0 0 0 0 0 1 1 1 0 0 0 0 0 0\n",
            " 0 0 1 1 1 0 0 0 0 1 1 0 1 0 0 0 1 1 1 0 1 0 0 0 0 0 0 0 0 0 0 0 0 0 1 0 1\n",
            " 1 0 0 0 0 1 0 0 0 1 0 1 0 1 1 1 0 0 0 0 0 0 1 1 1 0 0 1 1 1 0 1 0 1 0 0 1\n",
            " 0 0 0 1 1 0 0 1 0 0 1 0 1 0 0 1 0 1 0 1 0 0 1 0 0 1 0 0 0 0 1 1 0 1 1 1 0\n",
            " 1 0 1 0 0 1 0 1 0 1 0 0 1 0 0 1 0 1 1 0 1 0 0 0 1 0 1 0 0 0 0 0 0 0 0 0 1\n",
            " 0 0 0 1 0 1 1 1 1 0 1 1 0 0 1 0 1 0 0 1 0 0 1 1 1 1 0 1 0 0 0 1 0 1 0 0 0\n",
            " 0 0 0 0 1 0 0 1 0 0 1 0 1 0 0 1 1 0 0 0 0 0 0 0 0 0 1 0 0 0 1 0 0 1 0 1 0\n",
            " 1 0 1 1 1 0 0 1 0]\n"
          ]
        }
      ]
    },
    {
      "cell_type": "code",
      "metadata": {
        "colab": {
          "base_uri": "https://localhost:8080/"
        },
        "id": "0A1qR5of9ehX",
        "outputId": "c6889a44-4985-4a87-e7f8-c4a1b47d61a4"
      },
      "source": [
        "# Accuray Score on train dataset\n",
        "accuracy_train = accuracy_score(train_y,predict_train)\n",
        "print('\\naccuracy_score on train dataset : ', accuracy_train)"
      ],
      "execution_count": 168,
      "outputs": [
        {
          "output_type": "stream",
          "name": "stdout",
          "text": [
            "\n",
            "accuracy_score on train dataset :  0.949438202247191\n"
          ]
        }
      ]
    },
    {
      "cell_type": "code",
      "metadata": {
        "colab": {
          "base_uri": "https://localhost:8080/"
        },
        "id": "qZn8koih9h9f",
        "outputId": "a7e0ebfe-d712-472a-c997-8d9b64ee4c43"
      },
      "source": [
        "# predict the target on the test dataset\n",
        "predict_test = model.predict(test_x)\n",
        "print('\\nTarget on test data',predict_test) "
      ],
      "execution_count": 169,
      "outputs": [
        {
          "output_type": "stream",
          "name": "stdout",
          "text": [
            "\n",
            "Target on test data [0 0 0 1 1 0 0 0 0 0 0 1 1 0 0 0 0 0 0 0 0 0 1 0 1 0 0 1 0 1 1 0 0 0 1 0 0\n",
            " 0 0 0 0 0 0 0 0 1 0 0 1 0 0 0 0 1 1 1 0 1 1 0 0 1 1 1 0 0 0 0 0 1 0 0 0 0\n",
            " 1 0 0 0 0 0 0 0 0 0 0 0 1 1 0 1 0 0 1 0 1 0 0 0 1 0 1 0 0 0 1 1 0 1 1 1 1\n",
            " 0 1 0 0 0 1 1 1 1 1 0 1 0 0 1 1 0 0 1 1 0 0 1 1 0 0 0 1 0 1 0 1 0 0 0 0 0\n",
            " 0 0 0 1 1 0 0 0 0 0 0 0 0 1 0 0 0 0 1 0 1 0 1 1 0 0 0 0 0 0 0]\n"
          ]
        }
      ]
    },
    {
      "cell_type": "code",
      "metadata": {
        "colab": {
          "base_uri": "https://localhost:8080/"
        },
        "id": "K1nN2ycE9jpg",
        "outputId": "4738cd1f-8ed6-4eb1-9809-b867794ffab7"
      },
      "source": [
        "# Accuracy Score on test dataset\n",
        "accuracy_test = accuracy_score(test_y,predict_test)\n",
        "print('\\naccuracy_score on test dataset : ', accuracy_test)"
      ],
      "execution_count": 170,
      "outputs": [
        {
          "output_type": "stream",
          "name": "stdout",
          "text": [
            "\n",
            "accuracy_score on test dataset :  0.8547486033519553\n"
          ]
        }
      ]
    },
    {
      "cell_type": "markdown",
      "metadata": {
        "id": "p8WSPtUc94vu"
      },
      "source": [
        "**Catboost**"
      ]
    },
    {
      "cell_type": "code",
      "metadata": {
        "colab": {
          "base_uri": "https://localhost:8080/"
        },
        "id": "4vL5J6ZD95uF",
        "outputId": "1474ac57-57db-45af-e06f-fdf86a76b6f8"
      },
      "source": [
        "pip install catboost"
      ],
      "execution_count": 174,
      "outputs": [
        {
          "output_type": "stream",
          "name": "stdout",
          "text": [
            "Collecting catboost\n",
            "  Downloading catboost-1.0.3-cp37-none-manylinux1_x86_64.whl (76.3 MB)\n",
            "\u001b[K     |████████████████████████████████| 76.3 MB 1.3 MB/s \n",
            "\u001b[?25hRequirement already satisfied: pandas>=0.24.0 in /usr/local/lib/python3.7/dist-packages (from catboost) (1.1.5)\n",
            "Requirement already satisfied: plotly in /usr/local/lib/python3.7/dist-packages (from catboost) (4.4.1)\n",
            "Requirement already satisfied: numpy>=1.16.0 in /usr/local/lib/python3.7/dist-packages (from catboost) (1.19.5)\n",
            "Requirement already satisfied: scipy in /usr/local/lib/python3.7/dist-packages (from catboost) (1.4.1)\n",
            "Requirement already satisfied: graphviz in /usr/local/lib/python3.7/dist-packages (from catboost) (0.10.1)\n",
            "Requirement already satisfied: six in /usr/local/lib/python3.7/dist-packages (from catboost) (1.15.0)\n",
            "Requirement already satisfied: matplotlib in /usr/local/lib/python3.7/dist-packages (from catboost) (3.2.2)\n",
            "Requirement already satisfied: pytz>=2017.2 in /usr/local/lib/python3.7/dist-packages (from pandas>=0.24.0->catboost) (2018.9)\n",
            "Requirement already satisfied: python-dateutil>=2.7.3 in /usr/local/lib/python3.7/dist-packages (from pandas>=0.24.0->catboost) (2.8.2)\n",
            "Requirement already satisfied: pyparsing!=2.0.4,!=2.1.2,!=2.1.6,>=2.0.1 in /usr/local/lib/python3.7/dist-packages (from matplotlib->catboost) (3.0.6)\n",
            "Requirement already satisfied: cycler>=0.10 in /usr/local/lib/python3.7/dist-packages (from matplotlib->catboost) (0.11.0)\n",
            "Requirement already satisfied: kiwisolver>=1.0.1 in /usr/local/lib/python3.7/dist-packages (from matplotlib->catboost) (1.3.2)\n",
            "Requirement already satisfied: retrying>=1.3.3 in /usr/local/lib/python3.7/dist-packages (from plotly->catboost) (1.3.3)\n",
            "Installing collected packages: catboost\n",
            "Successfully installed catboost-1.0.3\n"
          ]
        }
      ]
    },
    {
      "cell_type": "code",
      "metadata": {
        "id": "Yg6GLIYl-mEo"
      },
      "source": [
        "# importing required libraries\n",
        "import pandas as pd\n",
        "import numpy as np\n",
        "from catboost import CatBoostClassifier\n",
        "from sklearn.metrics import accuracy_score"
      ],
      "execution_count": 175,
      "outputs": []
    },
    {
      "cell_type": "code",
      "metadata": {
        "id": "-smSWMwE-on9"
      },
      "source": [
        "# read the train and test dataset\n",
        "train_data = pd.read_csv('/content/sample_data/train-data2.csv')\n",
        "test_data = pd.read_csv('/content/sample_data/test-data2.csv')"
      ],
      "execution_count": 176,
      "outputs": []
    },
    {
      "cell_type": "code",
      "metadata": {
        "colab": {
          "base_uri": "https://localhost:8080/"
        },
        "id": "T6yxq7g8_ZMN",
        "outputId": "4679b6a6-1263-4d87-bd10-96df1ffe597e"
      },
      "source": [
        "# shape of the dataset\n",
        "print('Shape of training data :',train_data.shape)\n",
        "print('Shape of testing data :',test_data.shape)"
      ],
      "execution_count": 177,
      "outputs": [
        {
          "output_type": "stream",
          "name": "stdout",
          "text": [
            "Shape of training data : (1176, 35)\n",
            "Shape of testing data : (294, 35)\n"
          ]
        }
      ]
    },
    {
      "cell_type": "code",
      "metadata": {
        "id": "ZEqAe-z__azu"
      },
      "source": [
        "# Now, we have used a dataset which has more categorical variables\n",
        "# hr-employee attrition data where target variable is Attrition \n",
        "\n",
        "# seperate the independent and target variable on training data\n",
        "train_x = train_data.drop(columns=['Attrition'],axis=1)\n",
        "train_y = train_data['Attrition']"
      ],
      "execution_count": 178,
      "outputs": []
    },
    {
      "cell_type": "code",
      "metadata": {
        "id": "7ItbM50v_chd"
      },
      "source": [
        "# seperate the independent and target variable on testing data\n",
        "test_x = test_data.drop(columns=['Attrition'],axis=1)\n",
        "test_y = test_data['Attrition']"
      ],
      "execution_count": 179,
      "outputs": []
    },
    {
      "cell_type": "code",
      "metadata": {
        "colab": {
          "base_uri": "https://localhost:8080/"
        },
        "id": "vDoQuhrQ_d7D",
        "outputId": "1e828031-f1b6-4d09-9059-77de132d176c"
      },
      "source": [
        "# find out the indices of categorical variables\n",
        "categorical_var = np.where(train_x.dtypes != np.float)[0]\n",
        "print('\\nCategorical Variables indices : ',categorical_var)"
      ],
      "execution_count": 180,
      "outputs": [
        {
          "output_type": "stream",
          "name": "stdout",
          "text": [
            "\n",
            "Categorical Variables indices :  [ 0  1  2  3  4  5  6  7  8  9 10 11 12 13 14 15 16 17 18 19 20 21 22 23\n",
            " 24 25 26 27 28 29 30 31 32 33]\n"
          ]
        }
      ]
    },
    {
      "cell_type": "code",
      "metadata": {
        "colab": {
          "base_uri": "https://localhost:8080/"
        },
        "id": "N7Q7Fr4H_ihO",
        "outputId": "33ce8330-cc13-4dc5-b6fa-1dc3afcaf0f9"
      },
      "source": [
        "print('\\n Training CatBoost Model..........')\n",
        "'''\n",
        "Create the object of the CatBoost Classifier model\n",
        "You can also add other parameters and test your code here\n",
        "Some parameters are : l2_leaf, model_size\n",
        "Documentation of sklearn CatBoostClassifier: \n",
        "\n",
        "https://catboost.ai/docs/concepts/python-reference_catboostclassifier.html\n",
        "'''\n",
        "model = CatBoostClassifier(iterations=50)"
      ],
      "execution_count": 181,
      "outputs": [
        {
          "output_type": "stream",
          "name": "stdout",
          "text": [
            "\n",
            " Training CatBoost Model..........\n"
          ]
        }
      ]
    },
    {
      "cell_type": "code",
      "metadata": {
        "colab": {
          "base_uri": "https://localhost:8080/"
        },
        "id": "Qa3WCwKQ_kvL",
        "outputId": "b5fbd771-9784-45a6-a077-0a13db6c1d1a"
      },
      "source": [
        "# fit the model with the training data\n",
        "model.fit(train_x,train_y,cat_features = categorical_var,plot=False)\n",
        "print('\\n Model Trainied')"
      ],
      "execution_count": 182,
      "outputs": [
        {
          "output_type": "stream",
          "name": "stdout",
          "text": [
            "Learning rate set to 0.172204\n",
            "0:\tlearn: 0.6028609\ttotal: 51.7ms\tremaining: 2.53s\n",
            "1:\tlearn: 0.5428621\ttotal: 55.4ms\tremaining: 1.33s\n",
            "2:\tlearn: 0.5018961\ttotal: 58.3ms\tremaining: 914ms\n",
            "3:\tlearn: 0.4562355\ttotal: 65.6ms\tremaining: 754ms\n",
            "4:\tlearn: 0.4337903\ttotal: 72.7ms\tremaining: 654ms\n",
            "5:\tlearn: 0.4117519\ttotal: 78.3ms\tremaining: 574ms\n",
            "6:\tlearn: 0.3941772\ttotal: 85.1ms\tremaining: 523ms\n",
            "7:\tlearn: 0.3765734\ttotal: 91.4ms\tremaining: 480ms\n",
            "8:\tlearn: 0.3663712\ttotal: 96.9ms\tremaining: 441ms\n",
            "9:\tlearn: 0.3517369\ttotal: 102ms\tremaining: 409ms\n",
            "10:\tlearn: 0.3454326\ttotal: 108ms\tremaining: 381ms\n",
            "11:\tlearn: 0.3433598\ttotal: 109ms\tremaining: 347ms\n",
            "12:\tlearn: 0.3334597\ttotal: 116ms\tremaining: 329ms\n",
            "13:\tlearn: 0.3236337\ttotal: 121ms\tremaining: 311ms\n",
            "14:\tlearn: 0.3139081\ttotal: 127ms\tremaining: 295ms\n",
            "15:\tlearn: 0.3045607\ttotal: 132ms\tremaining: 280ms\n",
            "16:\tlearn: 0.2955388\ttotal: 138ms\tremaining: 268ms\n",
            "17:\tlearn: 0.2869364\ttotal: 143ms\tremaining: 255ms\n",
            "18:\tlearn: 0.2833813\ttotal: 149ms\tremaining: 243ms\n",
            "19:\tlearn: 0.2757368\ttotal: 154ms\tremaining: 231ms\n",
            "20:\tlearn: 0.2747201\ttotal: 158ms\tremaining: 218ms\n",
            "21:\tlearn: 0.2687348\ttotal: 163ms\tremaining: 207ms\n",
            "22:\tlearn: 0.2651255\ttotal: 168ms\tremaining: 197ms\n",
            "23:\tlearn: 0.2584641\ttotal: 174ms\tremaining: 188ms\n",
            "24:\tlearn: 0.2553888\ttotal: 179ms\tremaining: 179ms\n",
            "25:\tlearn: 0.2508095\ttotal: 185ms\tremaining: 171ms\n",
            "26:\tlearn: 0.2472911\ttotal: 194ms\tremaining: 165ms\n",
            "27:\tlearn: 0.2459396\ttotal: 200ms\tremaining: 157ms\n",
            "28:\tlearn: 0.2413008\ttotal: 206ms\tremaining: 149ms\n",
            "29:\tlearn: 0.2382361\ttotal: 211ms\tremaining: 141ms\n",
            "30:\tlearn: 0.2346784\ttotal: 217ms\tremaining: 133ms\n",
            "31:\tlearn: 0.2307883\ttotal: 223ms\tremaining: 125ms\n",
            "32:\tlearn: 0.2263057\ttotal: 229ms\tremaining: 118ms\n",
            "33:\tlearn: 0.2224747\ttotal: 234ms\tremaining: 110ms\n",
            "34:\tlearn: 0.2207120\ttotal: 240ms\tremaining: 103ms\n",
            "35:\tlearn: 0.2168637\ttotal: 246ms\tremaining: 95.5ms\n",
            "36:\tlearn: 0.2136101\ttotal: 251ms\tremaining: 88.3ms\n",
            "37:\tlearn: 0.2112578\ttotal: 258ms\tremaining: 81.5ms\n",
            "38:\tlearn: 0.2073264\ttotal: 264ms\tremaining: 74.4ms\n",
            "39:\tlearn: 0.2073111\ttotal: 266ms\tremaining: 66.5ms\n",
            "40:\tlearn: 0.2054230\ttotal: 271ms\tremaining: 59.6ms\n",
            "41:\tlearn: 0.2051986\ttotal: 277ms\tremaining: 52.8ms\n",
            "42:\tlearn: 0.2024051\ttotal: 283ms\tremaining: 46ms\n",
            "43:\tlearn: 0.1980064\ttotal: 288ms\tremaining: 39.3ms\n",
            "44:\tlearn: 0.1958278\ttotal: 294ms\tremaining: 32.6ms\n",
            "45:\tlearn: 0.1933148\ttotal: 299ms\tremaining: 26ms\n",
            "46:\tlearn: 0.1917611\ttotal: 305ms\tremaining: 19.5ms\n",
            "47:\tlearn: 0.1904644\ttotal: 310ms\tremaining: 12.9ms\n",
            "48:\tlearn: 0.1878339\ttotal: 319ms\tremaining: 6.5ms\n",
            "49:\tlearn: 0.1863225\ttotal: 324ms\tremaining: 0us\n",
            "\n",
            " Model Trainied\n"
          ]
        }
      ]
    },
    {
      "cell_type": "code",
      "metadata": {
        "colab": {
          "base_uri": "https://localhost:8080/"
        },
        "id": "czustuWK_m_c",
        "outputId": "6767131d-2554-4451-8cd0-705330528cfe"
      },
      "source": [
        "# predict the target on the train dataset\n",
        "predict_train = model.predict(train_x)\n",
        "print('\\nTarget on train data',predict_train) "
      ],
      "execution_count": 183,
      "outputs": [
        {
          "output_type": "stream",
          "name": "stdout",
          "text": [
            "\n",
            "Target on train data [0 0 0 ... 0 0 0]\n"
          ]
        }
      ]
    },
    {
      "cell_type": "code",
      "metadata": {
        "colab": {
          "base_uri": "https://localhost:8080/"
        },
        "id": "XEXoNMD-_o1h",
        "outputId": "78fb541a-79f4-4732-d96c-f0737167949f"
      },
      "source": [
        "# Accuray Score on train dataset\n",
        "accuracy_train = accuracy_score(train_y,predict_train)\n",
        "print('\\naccuracy_score on train dataset : ', accuracy_train)"
      ],
      "execution_count": 184,
      "outputs": [
        {
          "output_type": "stream",
          "name": "stdout",
          "text": [
            "\n",
            "accuracy_score on train dataset :  0.9141156462585034\n"
          ]
        }
      ]
    },
    {
      "cell_type": "code",
      "metadata": {
        "colab": {
          "base_uri": "https://localhost:8080/"
        },
        "id": "L6etfHv8_qiq",
        "outputId": "7a9c01ce-6d35-42bf-ee05-df97cec62be7"
      },
      "source": [
        "# predict the target on the test dataset\n",
        "predict_test = model.predict(test_x)\n",
        "print('\\nTarget on test data',predict_test) "
      ],
      "execution_count": 185,
      "outputs": [
        {
          "output_type": "stream",
          "name": "stdout",
          "text": [
            "\n",
            "Target on test data [0 1 0 0 0 1 0 1 0 0 0 0 0 1 0 0 0 0 0 0 0 0 0 0 0 0 0 0 0 0 0 0 0 0 0 0 0\n",
            " 0 0 0 1 0 0 0 0 1 0 0 0 1 1 0 0 0 0 0 0 0 0 0 0 0 0 0 0 1 0 0 0 0 0 1 0 0\n",
            " 0 0 0 0 0 0 0 0 0 0 0 1 0 0 0 0 0 1 0 0 1 0 0 0 0 1 0 1 0 0 1 0 1 0 0 0 0\n",
            " 0 1 0 1 0 0 0 1 0 0 0 0 0 0 0 0 0 0 0 0 0 1 0 0 0 0 0 0 0 0 0 0 0 0 0 0 1\n",
            " 0 0 0 0 0 0 0 0 0 0 0 0 0 0 0 0 0 0 0 0 0 0 1 0 0 0 0 1 0 0 0 0 0 0 0 0 0\n",
            " 1 0 0 0 0 0 0 0 0 0 0 0 0 0 0 0 0 0 0 0 0 0 0 0 0 0 0 0 0 0 0 0 0 0 0 0 1\n",
            " 0 0 0 0 0 0 0 0 0 0 0 0 0 0 0 0 0 0 0 0 0 0 0 0 0 0 0 0 0 0 0 0 0 0 0 0 0\n",
            " 0 0 1 0 0 0 0 0 0 0 0 0 0 0 0 0 0 0 0 0 0 0 0 0 1 0 0 0 0 0 0 0 0 0 0]\n"
          ]
        }
      ]
    },
    {
      "cell_type": "code",
      "metadata": {
        "colab": {
          "base_uri": "https://localhost:8080/"
        },
        "id": "EkF-bULm_scg",
        "outputId": "3304875f-b436-41f1-e672-c7c267f8bd30"
      },
      "source": [
        "# Accuracy Score on test dataset\n",
        "accuracy_test = accuracy_score(test_y,predict_test)\n",
        "print('\\naccuracy_score on test dataset : ', accuracy_test)"
      ],
      "execution_count": 186,
      "outputs": [
        {
          "output_type": "stream",
          "name": "stdout",
          "text": [
            "\n",
            "accuracy_score on test dataset :  0.8605442176870748\n"
          ]
        }
      ]
    }
  ]
}