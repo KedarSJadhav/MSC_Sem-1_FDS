{
  "nbformat": 4,
  "nbformat_minor": 0,
  "metadata": {
    "colab": {
      "name": "FDS_Lab-1_Numpy.ipynb",
      "provenance": [],
      "authorship_tag": "ABX9TyNiTApBzf2xnpZ/A5cA9iU8",
      "include_colab_link": true
    },
    "kernelspec": {
      "name": "python3",
      "display_name": "Python 3"
    },
    "language_info": {
      "name": "python"
    }
  },
  "cells": [
    {
      "cell_type": "markdown",
      "metadata": {
        "id": "view-in-github",
        "colab_type": "text"
      },
      "source": [
        "<a href=\"https://colab.research.google.com/github/KedarSJadhav/MSC_Sem-1_FDS/blob/main/FDS_Lab_1_Numpy.ipynb\" target=\"_parent\"><img src=\"https://colab.research.google.com/assets/colab-badge.svg\" alt=\"Open In Colab\"/></a>"
      ]
    },
    {
      "cell_type": "code",
      "metadata": {
        "colab": {
          "base_uri": "https://localhost:8080/"
        },
        "id": "zxrzHxjpa7eE",
        "outputId": "f4f6365b-364c-472c-8215-59ad0b165017"
      },
      "source": [
        "print(\"Hello Word\")"
      ],
      "execution_count": 1,
      "outputs": [
        {
          "output_type": "stream",
          "name": "stdout",
          "text": [
            "Hello Word\n"
          ]
        }
      ]
    },
    {
      "cell_type": "markdown",
      "metadata": {
        "id": "hRQl7_X_b1Mx"
      },
      "source": [
        "**Declare variable and assign value**"
      ]
    },
    {
      "cell_type": "code",
      "metadata": {
        "id": "kWoWPdnUb3YR"
      },
      "source": [
        "a=1"
      ],
      "execution_count": 2,
      "outputs": []
    },
    {
      "cell_type": "code",
      "metadata": {
        "colab": {
          "base_uri": "https://localhost:8080/"
        },
        "id": "QpDP-P4Lb8eo",
        "outputId": "158de713-7782-444d-89ab-fdc9c63e009c"
      },
      "source": [
        "a"
      ],
      "execution_count": 3,
      "outputs": [
        {
          "output_type": "execute_result",
          "data": {
            "text/plain": [
              "1"
            ]
          },
          "metadata": {},
          "execution_count": 3
        }
      ]
    },
    {
      "cell_type": "markdown",
      "metadata": {
        "id": "AoZxARSIcf9M"
      },
      "source": [
        "**Multiple values print**"
      ]
    },
    {
      "cell_type": "code",
      "metadata": {
        "id": "9CsIIjG_cHp6"
      },
      "source": [
        "x=2\n",
        "y=3\n",
        "z=4"
      ],
      "execution_count": 4,
      "outputs": []
    },
    {
      "cell_type": "code",
      "metadata": {
        "colab": {
          "base_uri": "https://localhost:8080/"
        },
        "id": "fXUscjb_cUHU",
        "outputId": "3f921ba2-acee-4f6e-e9c3-6bc31deb4c9f"
      },
      "source": [
        "print(x,y,z)"
      ],
      "execution_count": 5,
      "outputs": [
        {
          "output_type": "stream",
          "name": "stdout",
          "text": [
            "2 3 4\n"
          ]
        }
      ]
    },
    {
      "cell_type": "markdown",
      "metadata": {
        "id": "V_YLlSF7di1M"
      },
      "source": [
        "**Formatted output**"
      ]
    },
    {
      "cell_type": "code",
      "metadata": {
        "colab": {
          "base_uri": "https://localhost:8080/"
        },
        "id": "d_fqssBQcrhV",
        "outputId": "689fa9dd-4439-46a8-9fb0-fdd7b02b0118"
      },
      "source": [
        "print('Value of x = ' + str(x), ',','Value of y = ' + str(y), ',' ,'Value of z = ' + str(z))"
      ],
      "execution_count": 12,
      "outputs": [
        {
          "output_type": "stream",
          "name": "stdout",
          "text": [
            "Value of x = 2 , Value of y = 3 , Value of z = 4\n"
          ]
        }
      ]
    },
    {
      "cell_type": "markdown",
      "metadata": {
        "id": "4p8WxUMDd2w0"
      },
      "source": [
        "**Get type of Variable**"
      ]
    },
    {
      "cell_type": "code",
      "metadata": {
        "id": "KNDEdIaHd7IC"
      },
      "source": [
        "i=5\n",
        "s=\"Test\"\n",
        "f=1.23456"
      ],
      "execution_count": 22,
      "outputs": []
    },
    {
      "cell_type": "code",
      "metadata": {
        "colab": {
          "base_uri": "https://localhost:8080/"
        },
        "id": "xVWA-rVleCOM",
        "outputId": "4ae9b33e-9689-429a-cc58-cb0193e50301"
      },
      "source": [
        "type(i)"
      ],
      "execution_count": 20,
      "outputs": [
        {
          "output_type": "execute_result",
          "data": {
            "text/plain": [
              "int"
            ]
          },
          "metadata": {},
          "execution_count": 20
        }
      ]
    },
    {
      "cell_type": "code",
      "metadata": {
        "colab": {
          "base_uri": "https://localhost:8080/"
        },
        "id": "Mh3Mn9EceEQs",
        "outputId": "60c9e6a3-497c-4119-a5c5-e2ecd2c21fbf"
      },
      "source": [
        "type(s)"
      ],
      "execution_count": 21,
      "outputs": [
        {
          "output_type": "execute_result",
          "data": {
            "text/plain": [
              "str"
            ]
          },
          "metadata": {},
          "execution_count": 21
        }
      ]
    },
    {
      "cell_type": "code",
      "metadata": {
        "colab": {
          "base_uri": "https://localhost:8080/"
        },
        "id": "g6K4OawuePpC",
        "outputId": "59540a9a-f127-4db1-d8c6-3235cfd638ca"
      },
      "source": [
        "type(f)"
      ],
      "execution_count": 18,
      "outputs": [
        {
          "output_type": "execute_result",
          "data": {
            "text/plain": [
              "float"
            ]
          },
          "metadata": {},
          "execution_count": 18
        }
      ]
    },
    {
      "cell_type": "markdown",
      "metadata": {
        "id": "Tf-kUJyifQqL"
      },
      "source": [
        "$y=x^2$"
      ]
    },
    {
      "cell_type": "markdown",
      "metadata": {
        "id": "RYaJy4Eefscq"
      },
      "source": [
        "**List**"
      ]
    },
    {
      "cell_type": "code",
      "metadata": {
        "id": "Yle641SwfuyS"
      },
      "source": [
        "a=[1,2,3]"
      ],
      "execution_count": 33,
      "outputs": []
    },
    {
      "cell_type": "code",
      "metadata": {
        "colab": {
          "base_uri": "https://localhost:8080/"
        },
        "id": "yp1RzkNff0Nv",
        "outputId": "8c9a45cd-0810-4302-fb96-50112a35180e"
      },
      "source": [
        "a"
      ],
      "execution_count": 34,
      "outputs": [
        {
          "output_type": "execute_result",
          "data": {
            "text/plain": [
              "[1, 2, 3]"
            ]
          },
          "metadata": {},
          "execution_count": 34
        }
      ]
    },
    {
      "cell_type": "code",
      "metadata": {
        "colab": {
          "base_uri": "https://localhost:8080/"
        },
        "id": "Ct9pyesdf4iE",
        "outputId": "702072bd-732d-4c24-c00a-c9255d01c2e7"
      },
      "source": [
        "type(a)"
      ],
      "execution_count": 35,
      "outputs": [
        {
          "output_type": "execute_result",
          "data": {
            "text/plain": [
              "list"
            ]
          },
          "metadata": {},
          "execution_count": 35
        }
      ]
    },
    {
      "cell_type": "code",
      "metadata": {
        "id": "3kcxd302gGpl"
      },
      "source": [
        "b=[4,5,6]"
      ],
      "execution_count": 36,
      "outputs": []
    },
    {
      "cell_type": "code",
      "metadata": {
        "colab": {
          "base_uri": "https://localhost:8080/"
        },
        "id": "C8x_REpggL6D",
        "outputId": "6be2dd51-ff7d-4fc7-f487-764292bc1435"
      },
      "source": [
        "b"
      ],
      "execution_count": 37,
      "outputs": [
        {
          "output_type": "execute_result",
          "data": {
            "text/plain": [
              "[4, 5, 6]"
            ]
          },
          "metadata": {},
          "execution_count": 37
        }
      ]
    },
    {
      "cell_type": "code",
      "metadata": {
        "id": "IY-BvTHfgOc7"
      },
      "source": [
        "c=[]\n",
        "for i in range(len(a)):\n",
        "  c.append(a[i]*b[i])"
      ],
      "execution_count": 38,
      "outputs": []
    },
    {
      "cell_type": "code",
      "metadata": {
        "colab": {
          "base_uri": "https://localhost:8080/"
        },
        "id": "utVeVG51gx8d",
        "outputId": "f73b817a-b300-4931-d2bb-37fc33165a1f"
      },
      "source": [
        "c"
      ],
      "execution_count": 39,
      "outputs": [
        {
          "output_type": "execute_result",
          "data": {
            "text/plain": [
              "[4, 10, 18]"
            ]
          },
          "metadata": {},
          "execution_count": 39
        }
      ]
    },
    {
      "cell_type": "code",
      "metadata": {
        "id": "8wcYnl0QhW89"
      },
      "source": [
        "c=[]\n",
        "for i in range(len(a)):\n",
        "  c.append(a[i]+b[i])"
      ],
      "execution_count": 40,
      "outputs": []
    },
    {
      "cell_type": "code",
      "metadata": {
        "colab": {
          "base_uri": "https://localhost:8080/"
        },
        "id": "sBoAcPqUhZvd",
        "outputId": "33bed825-6b52-437e-db05-c721ac2e2c40"
      },
      "source": [
        "c"
      ],
      "execution_count": 41,
      "outputs": [
        {
          "output_type": "execute_result",
          "data": {
            "text/plain": [
              "[5, 7, 9]"
            ]
          },
          "metadata": {},
          "execution_count": 41
        }
      ]
    },
    {
      "cell_type": "code",
      "metadata": {
        "colab": {
          "base_uri": "https://localhost:8080/"
        },
        "id": "HWndf9kbhoUU",
        "outputId": "04f4e834-9336-4c9a-e7ea-fb163216459f"
      },
      "source": [
        "import time\n",
        "print(\"Sleeping\")\n",
        "time.sleep(30)\n",
        "print(\"Done sleeping\")"
      ],
      "execution_count": 46,
      "outputs": [
        {
          "output_type": "stream",
          "name": "stdout",
          "text": [
            "Sleeping\n",
            "Done sleeping\n"
          ]
        }
      ]
    },
    {
      "cell_type": "code",
      "metadata": {
        "id": "hsBWrthKhrRq"
      },
      "source": [
        "import numpy as np"
      ],
      "execution_count": 52,
      "outputs": []
    },
    {
      "cell_type": "code",
      "metadata": {
        "id": "8jo8BcfNhve6"
      },
      "source": [
        "time.sleep(30)"
      ],
      "execution_count": 44,
      "outputs": []
    },
    {
      "cell_type": "code",
      "metadata": {
        "colab": {
          "base_uri": "https://localhost:8080/"
        },
        "id": "kqPRGv8Zh2vT",
        "outputId": "d1b7c8b4-2007-466f-8a03-52de31ff5084"
      },
      "source": [
        "print(\"Done sleeping\")"
      ],
      "execution_count": 45,
      "outputs": [
        {
          "output_type": "stream",
          "name": "stdout",
          "text": [
            "Done sleeping\n"
          ]
        }
      ]
    },
    {
      "cell_type": "markdown",
      "metadata": {
        "id": "15qUBRaxoXXb"
      },
      "source": [
        "**Using Array**"
      ]
    },
    {
      "cell_type": "code",
      "metadata": {
        "id": "09x37FqUjAcN"
      },
      "source": [
        "a=np.arange(15).reshape(3,5)"
      ],
      "execution_count": 55,
      "outputs": []
    },
    {
      "cell_type": "code",
      "metadata": {
        "colab": {
          "base_uri": "https://localhost:8080/"
        },
        "id": "TNj0EuBZj3pf",
        "outputId": "049432a1-1bd5-4c20-8bf6-280ffa40ea4b"
      },
      "source": [
        "a"
      ],
      "execution_count": 56,
      "outputs": [
        {
          "output_type": "execute_result",
          "data": {
            "text/plain": [
              "array([[ 0,  1,  2,  3,  4],\n",
              "       [ 5,  6,  7,  8,  9],\n",
              "       [10, 11, 12, 13, 14]])"
            ]
          },
          "metadata": {},
          "execution_count": 56
        }
      ]
    },
    {
      "cell_type": "code",
      "metadata": {
        "colab": {
          "base_uri": "https://localhost:8080/"
        },
        "id": "HIWuJByYkVkU",
        "outputId": "b22152eb-661d-4630-e08d-d9a1dd37b271"
      },
      "source": [
        "a.shape"
      ],
      "execution_count": 57,
      "outputs": [
        {
          "output_type": "execute_result",
          "data": {
            "text/plain": [
              "(3, 5)"
            ]
          },
          "metadata": {},
          "execution_count": 57
        }
      ]
    },
    {
      "cell_type": "code",
      "metadata": {
        "colab": {
          "base_uri": "https://localhost:8080/"
        },
        "id": "ZKkT6N7dkal9",
        "outputId": "37b99ae9-d77a-412b-885d-c854ad2e3575"
      },
      "source": [
        "a.ndim"
      ],
      "execution_count": 58,
      "outputs": [
        {
          "output_type": "execute_result",
          "data": {
            "text/plain": [
              "2"
            ]
          },
          "metadata": {},
          "execution_count": 58
        }
      ]
    },
    {
      "cell_type": "code",
      "metadata": {
        "colab": {
          "base_uri": "https://localhost:8080/"
        },
        "id": "Y9rGI8aiktrd",
        "outputId": "b96d8702-134f-4674-f9f1-0d0fcb6c0d4d"
      },
      "source": [
        "a.dtype"
      ],
      "execution_count": 59,
      "outputs": [
        {
          "output_type": "execute_result",
          "data": {
            "text/plain": [
              "dtype('int64')"
            ]
          },
          "metadata": {},
          "execution_count": 59
        }
      ]
    },
    {
      "cell_type": "code",
      "metadata": {
        "colab": {
          "base_uri": "https://localhost:8080/",
          "height": 35
        },
        "id": "z55KGaNck6X-",
        "outputId": "a8a700c0-ded3-4cc8-f751-7dee288a76eb"
      },
      "source": [
        "a.dtype.name"
      ],
      "execution_count": 62,
      "outputs": [
        {
          "output_type": "execute_result",
          "data": {
            "application/vnd.google.colaboratory.intrinsic+json": {
              "type": "string"
            },
            "text/plain": [
              "'int64'"
            ]
          },
          "metadata": {},
          "execution_count": 62
        }
      ]
    },
    {
      "cell_type": "code",
      "metadata": {
        "colab": {
          "base_uri": "https://localhost:8080/"
        },
        "id": "sRChwbLwlCWE",
        "outputId": "28e5de84-4152-4197-f322-b6142ef0e0c0"
      },
      "source": [
        "a.itemsize"
      ],
      "execution_count": 63,
      "outputs": [
        {
          "output_type": "execute_result",
          "data": {
            "text/plain": [
              "8"
            ]
          },
          "metadata": {},
          "execution_count": 63
        }
      ]
    },
    {
      "cell_type": "code",
      "metadata": {
        "colab": {
          "base_uri": "https://localhost:8080/"
        },
        "id": "17dkhLoJlIMq",
        "outputId": "93c3fc54-246a-45b6-d596-6c661b901f81"
      },
      "source": [
        "a.size"
      ],
      "execution_count": 64,
      "outputs": [
        {
          "output_type": "execute_result",
          "data": {
            "text/plain": [
              "15"
            ]
          },
          "metadata": {},
          "execution_count": 64
        }
      ]
    },
    {
      "cell_type": "code",
      "metadata": {
        "colab": {
          "base_uri": "https://localhost:8080/"
        },
        "id": "WYuzNuKflTmK",
        "outputId": "ffad7e25-05c0-4e79-a849-2ef015421d86"
      },
      "source": [
        "type(a)"
      ],
      "execution_count": 65,
      "outputs": [
        {
          "output_type": "execute_result",
          "data": {
            "text/plain": [
              "numpy.ndarray"
            ]
          },
          "metadata": {},
          "execution_count": 65
        }
      ]
    },
    {
      "cell_type": "code",
      "metadata": {
        "id": "yUpO8C-hlglN"
      },
      "source": [
        "b=np.array([21,22,23])"
      ],
      "execution_count": 67,
      "outputs": []
    },
    {
      "cell_type": "code",
      "metadata": {
        "colab": {
          "base_uri": "https://localhost:8080/"
        },
        "id": "a3b3lp4ul1yq",
        "outputId": "2f438fd0-8e33-4d45-9156-c09573fc587a"
      },
      "source": [
        "b"
      ],
      "execution_count": 68,
      "outputs": [
        {
          "output_type": "execute_result",
          "data": {
            "text/plain": [
              "array([21, 22, 23])"
            ]
          },
          "metadata": {},
          "execution_count": 68
        }
      ]
    },
    {
      "cell_type": "code",
      "metadata": {
        "id": "nFMh6lGrl2-V"
      },
      "source": [
        "c=np.array([[31,32,33],[41,42,43]])"
      ],
      "execution_count": 75,
      "outputs": []
    },
    {
      "cell_type": "code",
      "metadata": {
        "colab": {
          "base_uri": "https://localhost:8080/"
        },
        "id": "dN6Mnwrml_gP",
        "outputId": "7287023b-ffc7-421d-a951-c6a030bfb190"
      },
      "source": [
        "c"
      ],
      "execution_count": 76,
      "outputs": [
        {
          "output_type": "execute_result",
          "data": {
            "text/plain": [
              "array([[31, 32, 33],\n",
              "       [41, 42, 43]])"
            ]
          },
          "metadata": {},
          "execution_count": 76
        }
      ]
    },
    {
      "cell_type": "code",
      "metadata": {
        "colab": {
          "base_uri": "https://localhost:8080/"
        },
        "id": "Abt-LcscmDHi",
        "outputId": "057231c0-206e-4301-b58a-04a5b4c2e4bd"
      },
      "source": [
        "d=c.reshape(3,2)\n",
        "d"
      ],
      "execution_count": 79,
      "outputs": [
        {
          "output_type": "execute_result",
          "data": {
            "text/plain": [
              "array([[31, 32],\n",
              "       [33, 41],\n",
              "       [42, 43]])"
            ]
          },
          "metadata": {},
          "execution_count": 79
        }
      ]
    },
    {
      "cell_type": "markdown",
      "metadata": {
        "id": "A8S80Zjrocot"
      },
      "source": [
        "**Example of Char**"
      ]
    },
    {
      "cell_type": "code",
      "metadata": {
        "id": "oTx38aDsm203"
      },
      "source": [
        "arr=np.array([[\"One\",\"Two\",\"Three\",\"Four\",\"Five\"],[\"Six\",\"Seven\",\"Eight\",\"Nine\",\"Ten\"]])"
      ],
      "execution_count": 89,
      "outputs": []
    },
    {
      "cell_type": "code",
      "metadata": {
        "id": "B4DwdSX0nKfl"
      },
      "source": [
        "reshape_arr = arr.reshape(2,5)"
      ],
      "execution_count": 90,
      "outputs": []
    },
    {
      "cell_type": "code",
      "metadata": {
        "colab": {
          "base_uri": "https://localhost:8080/"
        },
        "id": "XegHshXfnv_P",
        "outputId": "85f65ca6-647d-4636-a17d-e1e96c05b343"
      },
      "source": [
        "reshape_arr"
      ],
      "execution_count": 91,
      "outputs": [
        {
          "output_type": "execute_result",
          "data": {
            "text/plain": [
              "array([['One', 'Two', 'Three', 'Four', 'Five'],\n",
              "       ['Six', 'Seven', 'Eight', 'Nine', 'Ten']], dtype='<U5')"
            ]
          },
          "metadata": {},
          "execution_count": 91
        }
      ]
    }
  ]
}